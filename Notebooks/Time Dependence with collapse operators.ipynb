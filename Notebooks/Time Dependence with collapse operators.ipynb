{
 "cells": [
  {
   "cell_type": "code",
   "execution_count": 1,
   "metadata": {
    "collapsed": false
   },
   "outputs": [
    {
     "name": "stderr",
     "output_type": "stream",
     "text": [
      "WARNING: `require` is deprecated, use `using` or `import` instead\n",
      " in depwarn at deprecated.jl:73\n",
      " [inlined code] from deprecated.jl:694\n",
      " in require at no file:0\n",
      " in include_string at loading.jl:266\n",
      " in execute_request_0x535c5df2 at /home/amit/.julia/v0.4/IJulia/src/execute_request.jl:182\n",
      " in eventloop at /home/amit/.julia/v0.4/IJulia/src/IJulia.jl:142\n",
      " in anonymous at task.jl:447\n",
      "while loading In[1], in expression starting on line 1\n"
     ]
    }
   ],
   "source": [
    "require(\"/home/amit/Downloads/SemVII/QuDynamics.jl/src/QuDynamics.jl\")"
   ]
  },
  {
   "cell_type": "code",
   "execution_count": null,
   "metadata": {
    "collapsed": true
   },
   "outputs": [],
   "source": [
    "using PyPlot"
   ]
  },
  {
   "cell_type": "code",
   "execution_count": null,
   "metadata": {
    "collapsed": true
   },
   "outputs": [],
   "source": [
    "using QuDynamics\n",
    "using QuBase"
   ]
  },
  {
   "cell_type": "code",
   "execution_count": null,
   "metadata": {
    "collapsed": true
   },
   "outputs": [],
   "source": [
    "immutable QuLindbladMasterEqTD <: QuEquation{1}\n",
    "end"
   ]
  },
  {
   "cell_type": "code",
   "execution_count": null,
   "metadata": {
    "collapsed": false
   },
   "outputs": [],
   "source": [
    "function fn(H1, H2, t)\n",
    "    H1 + 9*H2*expm(-(t/5)^2)\n",
    "end"
   ]
  },
  {
   "cell_type": "code",
   "execution_count": null,
   "metadata": {
    "collapsed": false
   },
   "outputs": [],
   "source": [
    "N = 2 # Set where to truncate Fock state for cavity\n",
    "ustate = statevec(1, FiniteBasis(3))\n",
    "excited = statevec(2, FiniteBasis(3))\n",
    "ground = statevec(3, FiniteBasis(3))\n",
    "sigma_ge = tensor(QuArray(eye(N)), ground * excited')  # |g><e|\n",
    "sigma_ue = tensor(QuArray(eye(N)), ustate * excited')  # |u><e|\n",
    "a = tensor(lowerop(N), QuArray(eye(3)))\n",
    "g = 5\n",
    "H0 = -g * (sigma_ge' * a + a' * sigma_ge)  # time-independent term\n",
    "H1 = sigma_ue' + sigma_ue"
   ]
  },
  {
   "cell_type": "code",
   "execution_count": null,
   "metadata": {
    "collapsed": false
   },
   "outputs": [],
   "source": [
    "kappa = 1.5 # Cavity decay rate\n",
    "gamma = 6  # Atomic decay rate\n",
    "c_ops = Array(QuBase.QuArray, 3)\n",
    "c_ops[1] = sqrt(kappa) * a\n",
    "c_ops[2] = sqrt(5*gamma/9) * sigma_ue\n",
    "c_ops[3] = sqrt(4*gamma/9) * sigma_ge\n",
    "# c_ops = [sqrt(kappa) * a, sqrt(5*gamma/9) * sigma_ue, sqrt(4*gamma/9) * sigma_ge]\n",
    "c_ops"
   ]
  },
  {
   "cell_type": "code",
   "execution_count": null,
   "metadata": {
    "collapsed": false
   },
   "outputs": [],
   "source": [
    "function QuDynamics.operator(qu_eq::QuLindbladMasterEqTD, t)\n",
    "    QuDynamics.lindblad_op(fn(H0, H1, t),c_ops)\n",
    "end"
   ]
  },
  {
   "cell_type": "code",
   "execution_count": null,
   "metadata": {
    "collapsed": false
   },
   "outputs": [],
   "source": [
    "psi0 = tensor(statevec(1, FiniteBasis(N)), ustate)"
   ]
  },
  {
   "cell_type": "code",
   "execution_count": null,
   "metadata": {
    "collapsed": false
   },
   "outputs": [],
   "source": [
    "tlist = linspace(-15,15,100)"
   ]
  },
  {
   "cell_type": "code",
   "execution_count": null,
   "metadata": {
    "collapsed": false
   },
   "outputs": [],
   "source": [
    "quprop = QuPropagator(QuLindbladMasterEqTD(), psi0*psi0', tlist, QuExpmV())"
   ]
  },
  {
   "cell_type": "code",
   "execution_count": null,
   "metadata": {
    "collapsed": false
   },
   "outputs": [],
   "source": [
    "for (t, rho) in quprop\n",
    "    println(t, rho)\n",
    "end"
   ]
  },
  {
   "cell_type": "code",
   "execution_count": null,
   "metadata": {
    "collapsed": false
   },
   "outputs": [],
   "source": [
    "q = Array[]\n",
    "push!(q, coeffs(vec(psi0*psi0')))\n",
    "for (t, psi) in quprop\n",
    "    push!(q, coeffs(vec(psi)))\n",
    "end\n",
    "q"
   ]
  },
  {
   "cell_type": "code",
   "execution_count": null,
   "metadata": {
    "collapsed": false
   },
   "outputs": [],
   "source": [
    "for i in 1:length(q)\n",
    "    for j in 1:length(q[i])\n",
    "    plot(tlist[i], real(q[i][j]), \"ro\")\n",
    "    # println(tlist[i], real(q[i]))\n",
    "    end\n",
    "end"
   ]
  },
  {
   "cell_type": "code",
   "execution_count": null,
   "metadata": {
    "collapsed": false
   },
   "outputs": [],
   "source": [
    "for i in 1:length(q)\n",
    "    for j in 1:length(q[i])\n",
    "        plot(tlist[i], imag(q[i][j]), \"ro\")\n",
    "    # println(tlist[i], real(q[i]))\n",
    "    end\n",
    "end"
   ]
  },
  {
   "cell_type": "code",
   "execution_count": null,
   "metadata": {
    "collapsed": true
   },
   "outputs": [],
   "source": [
    "    "
   ]
  }
 ],
 "metadata": {
  "kernelspec": {
   "display_name": "Julia 0.4.1",
   "language": "julia",
   "name": "julia-0.4"
  },
  "language_info": {
   "file_extension": ".jl",
   "mimetype": "application/julia",
   "name": "julia",
   "version": "0.4.1"
  }
 },
 "nbformat": 4,
 "nbformat_minor": 0
}

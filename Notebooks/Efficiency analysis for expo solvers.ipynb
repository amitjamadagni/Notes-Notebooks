{
 "metadata": {
  "name": ""
 },
 "nbformat": 3,
 "nbformat_minor": 0,
 "worksheets": [
  {
   "cells": [
    {
     "cell_type": "code",
     "collapsed": false,
     "input": [
      "require(\"/home/esornep/Downloads/SemVII/QuDynamics.jl/src/QuDynamics.jl\")\n",
      "\n",
      "using QuDynamics\n",
      "using QuBase\n",
      "using PyPlot"
     ],
     "language": "python",
     "metadata": {},
     "outputs": [],
     "prompt_number": 96
    },
    {
     "cell_type": "code",
     "collapsed": false,
     "input": [
      "function initialize_harmonic_oscillator(n::Int, lambda::Any)\n",
      "    a = lowerop(n)\n",
      "    hamiltonian = a'*a + lambda*(a + a')\n",
      "    init_state = statevec(1,FiniteBasis(n))\n",
      "    return hamiltonian, init_state\n",
      "end"
     ],
     "language": "python",
     "metadata": {},
     "outputs": [
      {
       "metadata": {},
       "output_type": "pyout",
       "prompt_number": 97,
       "text": [
        "initialize_harmonic_oscillator (generic function with 1 method)"
       ]
      }
     ],
     "prompt_number": 97
    },
    {
     "cell_type": "code",
     "collapsed": false,
     "input": [
      "function benchmarks_timing()\n",
      "    const time = [0.:0.1:2*pi]\n",
      "    for i=[1:100]\n",
      "        n = rand(1:500)\n",
      "        init = initialize_harmonic_oscillator(n, 0.5)\n",
      "        qexpm_expo  = QuPropagator(init[1], init[2], time, QuExpm_Expo())\n",
      "        qexpm_expmv  = QuPropagator(init[1], init[2], time, QuExpm_ExpmV())\n",
      "        start_state_qexpm_expo = start(qexpm_expo)\n",
      "        start_state_qexpm_expmv = start(qexpm_expmv)\n",
      "        axis([0, 500, 0.0, 0.01])\n",
      "        tic()\n",
      "        next(qexpm_expo, start_state_qexpm_expo)\n",
      "        end_time_1 = toq()\n",
      "        plot(n, end_time_1, \"bs\")\n",
      "        tic()\n",
      "        next(qexpm_expmv, start_state_qexpm_expmv)\n",
      "        end_time_2 = toq()\n",
      "        plot(n, end_time_2, \"ro\")\n",
      "        println(n, \" \", end_time_1, \" \", end_time_2)\n",
      "    end\n",
      "end\n",
      "benchmarks_timing()"
     ],
     "language": "python",
     "metadata": {},
     "outputs": [
      {
       "output_type": "stream",
       "stream": "stdout",
       "text": [
        "201 "
       ]
      },
      {
       "output_type": "stream",
       "stream": "stdout",
       "text": [
        "0.033728761 0.000695425\n",
        "266 0.01349752 0.000859257\n",
        "320 0.007704954 0.000982459\n",
        "212 0.012091188 0.000692693\n",
        "242"
       ]
      },
      {
       "output_type": "stream",
       "stream": "stdout",
       "text": [
        " 0.016202434 0.000762326\n",
        "209 0.009949527 0.000721192\n",
        "141 0.006488337 0.000435168\n",
        "338 0.003327265 0.001045509\n",
        "347 0.003349466 0.001066791\n",
        "322"
       ]
      },
      {
       "output_type": "stream",
       "stream": "stdout",
       "text": [
        " 0.003235063 0.001015294\n",
        "189 0.019208179 0.000669385\n",
        "278 0.003185989 0.000970586\n",
        "77 0.002434126 0.000259825\n",
        "53 0.001083754 0.000230066\n",
        "312 0.003197955 0.000988528\n",
        "112"
       ]
      },
      {
       "output_type": "stream",
       "stream": "stdout",
       "text": [
        " 0.002496918 0.000368192\n",
        "261 0.00366976 0.000768912\n",
        "83 0.002391321 0.000289388\n",
        "85 0.002600339 0.000269846\n",
        "378 0.003463506 0.001386081\n",
        "259 0.003002938 0.000737836\n",
        "334"
       ]
      },
      {
       "output_type": "stream",
       "stream": "stdout",
       "text": [
        " 0.003312821 0.001025476\n",
        "142 0.009545235 0.000434573\n",
        "492 0.038324848 0.001836844\n",
        "255"
       ]
      },
      {
       "output_type": "stream",
       "stream": "stdout",
       "text": [
        " 0.003047834 0.000744852\n",
        "267 0.003934732 0.000781573\n",
        "216 0.003056351 0.000695576\n",
        "343 0.003400725 0.001085839\n",
        "62 0.003131901 0.000254269\n",
        "345 0.003946708 0.001052869\n",
        "174"
       ]
      },
      {
       "output_type": "stream",
       "stream": "stdout",
       "text": [
        " 0.004283445 0.000478196\n",
        "202 0.007676119 0.000674847\n",
        "234 0.003625269 0.000713579\n",
        "223 0.002879547 0.000671511\n",
        "369 0.003764241 0.001124286\n",
        "221 0.003286205 0.000687779\n",
        "409"
       ]
      },
      {
       "output_type": "stream",
       "stream": "stdout",
       "text": [
        " 0.003568385 0.001487858\n",
        "388 0.005000305 0.001513584\n",
        "262 0.003064426 0.000749477\n",
        "107 0.003401639 0.000372424\n",
        "464"
       ]
      },
      {
       "output_type": "stream",
       "stream": "stdout",
       "text": [
        " 0.003763737 0.001599532\n",
        "230 0.00295088 0.000711661\n",
        "256 0.034943639 0.000799659\n",
        "311"
       ]
      },
      {
       "output_type": "stream",
       "stream": "stdout",
       "text": [
        " 0.030636247 0.001056515\n",
        "40 0.001723812 0.000243477\n",
        "159 0.047714406 0.000476998\n",
        "345 0.003495959 0.001089999\n",
        "332"
       ]
      },
      {
       "output_type": "stream",
       "stream": "stdout",
       "text": [
        " 0.00352547 0.001076819\n",
        "359 0.008156851 0.001153657\n",
        "183 0.004010464 0.000488493\n",
        "253 0.003162547 0.000753807\n",
        "490"
       ]
      },
      {
       "output_type": "stream",
       "stream": "stdout",
       "text": [
        " 0.005405547 0.001830323\n",
        "475 0.004224306 0.001904457\n",
        "215 0.002924192 0.000660811\n",
        "5 0.000144469 0.000182954\n",
        "381 0.003443838 0.001368986\n",
        "334"
       ]
      },
      {
       "output_type": "stream",
       "stream": "stdout",
       "text": [
        " 0.010486789 0.001082596\n",
        "364 0.02525612 0.001108392\n",
        "348 0.012898768 0.00120447\n",
        "10 0.000309713 0.000214036\n",
        "493"
       ]
      },
      {
       "output_type": "stream",
       "stream": "stdout",
       "text": [
        " 0.004002473 0.001820125\n",
        "330 0.005805698 0.001021242\n",
        "33 0.0012749 0.000244656\n",
        "213 0.003161379 0.000680774\n",
        "204 0.002936006 0.000655587\n",
        "228 0.002946454 0.000685814\n",
        "200"
       ]
      },
      {
       "output_type": "stream",
       "stream": "stdout",
       "text": [
        " 0.003122059 0.000646576\n",
        "330 0.006749666 0.001023201\n",
        "189 0.039877866 0.000680633\n",
        "3 0.000791647 0.000193049\n",
        "489"
       ]
      },
      {
       "output_type": "stream",
       "stream": "stdout",
       "text": [
        " 0.051061763 0.001870789\n",
        "101 0.017430042 0.000387297\n",
        "285 0.003459893 0.00096556\n",
        "307 0.003275608 0.000970923\n",
        "475"
       ]
      },
      {
       "output_type": "stream",
       "stream": "stdout",
       "text": [
        " 0.006300807 0.001766843\n",
        "345 0.003630616 0.001123663\n",
        "366 0.004176881 0.001102644\n",
        "187 0.002944964 0.00063443\n",
        "412"
       ]
      },
      {
       "output_type": "stream",
       "stream": "stdout",
       "text": [
        " 0.003655257 0.001511136\n",
        "2 0.000116843 0.000185632\n",
        "383 0.02933334 0.001438332\n",
        "11 0.006455703 0.000230542\n",
        "378"
       ]
      },
      {
       "output_type": "stream",
       "stream": "stdout",
       "text": [
        " 0.0121888 0.001471814\n",
        "139 0.022894798 0.000450982\n",
        "29 0.001193539 0.000212534\n",
        "49 0.001289681 0.000269409\n",
        "59 0.001031484 0.000261514\n",
        "134 0.002799777 0.000426481\n",
        "210 0.002888867 0.000668239\n",
        "258"
       ]
      },
      {
       "output_type": "stream",
       "stream": "stdout",
       "text": [
        " 0.020271366 0.000755113\n",
        "236 0.013845856 0.000707865\n",
        "475 0.003992139 0.001808599\n",
        "69 0.002541904 0.000263323\n",
        "74"
       ]
      },
      {
       "output_type": "stream",
       "stream": "stdout",
       "text": [
        " 0.035904277 0.000288482\n",
        "204 0.009801319 0.000749764\n",
        "12 0.008221592 0.000250879\n",
        "6 0.000205728 0.000247398\n",
        "105 0.003777138 0.000260137\n",
        "19 0.011112117 0.000231833\n",
        "423"
       ]
      },
      {
       "output_type": "stream",
       "stream": "stdout",
       "text": [
        " 0.003758471 0.001520681\n"
       ]
      },
      {
       "metadata": {},
       "output_type": "display_data",
       "png": "[encoded data removed]",
       "text": [
        "Figure(PyObject <matplotlib.figure.Figure object at 0x7f0dcb0d0910>)"
       ]
      }
     ],
     "prompt_number": 98
    },
    {
     "cell_type": "code",
     "collapsed": false,
     "input": [
      "dic = [:m=>50]\n",
      "function benchmarks_timing_setoptions()\n",
      "    const time = [0.:0.1:2*pi]\n",
      "    for i=[1:100]\n",
      "        n = rand(1:500)\n",
      "        init = initialize_harmonic_oscillator(n, 0.5)\n",
      "        qexpm_expo = QuPropagator(init[1], init[2], time, QuExpm_Expo())\n",
      "        qexpm_expo_m  = QuPropagator(init[1], init[2], time, QuExpm_Expo(dic))\n",
      "        qexpm_expmv  = QuPropagator(init[1], init[2], time, QuExpm_ExpmV())\n",
      "        start_state_qexpm_expo = start(qexpm_expo)\n",
      "        start_state_qexpm_expo_m = start(qexpm_expo_m)\n",
      "        start_state_qexpm_expmv = start(qexpm_expmv)\n",
      "        axis([0, 500, 0.0, 0.01])\n",
      "        tic()\n",
      "        next(qexpm_expo, start_state_qexpm_expo)\n",
      "        end_time_1 = toq()\n",
      "        plot(n, end_time_1, \"bs\")\n",
      "        tic()\n",
      "        next(qexpm_expo, start_state_qexpm_expo_m)\n",
      "        end_time_2 = toq()\n",
      "        plot(n, end_time_2, \"g^\")\n",
      "        tic()\n",
      "        next(qexpm_expmv, start_state_qexpm_expmv)\n",
      "        end_time_3 = toq()\n",
      "        plot(n, end_time_3, \"ro\")\n",
      "        println(n, \" \", end_time_1, \" \", end_time_2, \" \",end_time_3)\n",
      "    end\n",
      "end\n",
      "benchmarks_timing_setoptions()"
     ],
     "language": "python",
     "metadata": {},
     "outputs": [
      {
       "output_type": "stream",
       "stream": "stdout",
       "text": [
        "292 "
       ]
      },
      {
       "output_type": "stream",
       "stream": "stdout",
       "text": [
        "0.040732555 0.011720857 0.00098615\n",
        "472 0.013795836 0.010948999 0.001761117\n",
        "248 0.006317386 0.005719651 0.00072859\n",
        "480"
       ]
      },
      {
       "output_type": "stream",
       "stream": "stdout",
       "text": [
        " 0.003982737 0.004095107 0.001780409\n",
        "490 0.003960254 0.004682909 0.001861129\n",
        "113 0.002389636 0.002411567 0.000397413\n",
        "190 0.002665697 0.002914412 0.000635419\n",
        "185"
       ]
      },
      {
       "output_type": "stream",
       "stream": "stdout",
       "text": [
        " 0.00300774 0.002974616 0.000510313\n",
        "326 0.009117004 0.003195188 0.001062211\n",
        "23 0.000742818 0.000606204 0.000233611\n",
        "288"
       ]
      },
      {
       "output_type": "stream",
       "stream": "stdout",
       "text": [
        " 0.003215967 0.00320486 0.033890239\n",
        "86 0.002481088 0.022451061 0.00029306\n",
        "419 0.005069619 0.003734174 0.001543177\n",
        "197 0.002878655 0.002915932 0.000629473\n",
        "14"
       ]
      },
      {
       "output_type": "stream",
       "stream": "stdout",
       "text": [
        " 0.000381764 0.000395137 0.000201364\n",
        "227 0.016521152 0.003140419 0.000716758\n",
        "200 0.003176454 0.003116679 0.000639358\n",
        "490"
       ]
      },
      {
       "output_type": "stream",
       "stream": "stdout",
       "text": [
        " 0.013158732 0.003864408 0.001881246\n",
        "369 0.007026081 0.004554379 0.001343656\n",
        "248 0.003068934 0.002955813 0.000725706\n",
        "327 0.003294772 0.003244437 0.001023596\n",
        "135"
       ]
      },
      {
       "output_type": "stream",
       "stream": "stdout",
       "text": [
        " 0.002607899 0.00336686 0.000456987\n",
        "233 0.017117042 0.004082075 0.000712137\n",
        "124 0.003023834 0.002925974 0.000429596\n",
        "370 0.003455738 0.003430109 0.001099999\n",
        "312"
       ]
      },
      {
       "output_type": "stream",
       "stream": "stdout",
       "text": [
        " 0.003210179 0.035939786 0.000985222\n",
        "80 0.019300667 0.002634087 0.000295198\n",
        "440 0.003564199 0.003512069 0.001567391\n",
        "32 0.009928734 0.00094374 0.000237778\n",
        "203"
       ]
      },
      {
       "output_type": "stream",
       "stream": "stdout",
       "text": [
        " 0.004183253 0.002988891 0.000646512\n",
        "401 0.003989204 0.005911104 0.001561389\n",
        "404 0.00935999 0.004441077 0.001455429\n",
        "38 0.000914185 0.001819668 0.000231573\n",
        "369"
       ]
      },
      {
       "output_type": "stream",
       "stream": "stdout",
       "text": [
        " 0.00361183 0.004268995 0.001121683\n",
        "453 0.004011359 0.004390655 0.001707753\n",
        "158 0.003047041 0.002766249 0.000449716\n",
        "434"
       ]
      },
      {
       "output_type": "stream",
       "stream": "stdout",
       "text": [
        " 0.003640888 0.004307011 0.001530437\n",
        "472 0.004207721 0.005536695 0.001693609\n",
        "276 0.003074211 0.003052449 0.0007725\n",
        "158"
       ]
      },
      {
       "output_type": "stream",
       "stream": "stdout",
       "text": [
        " 0.035702823 0.00274038 0.00045571\n",
        "294 0.010304933 0.003209605 0.001018255\n",
        "278 0.003863006 0.003705481 0.000780171\n",
        "4 0.000129379 0.000110724 0.000180701\n",
        "410"
       ]
      },
      {
       "output_type": "stream",
       "stream": "stdout",
       "text": [
        " 0.004589501 0.005672044 0.001463712\n",
        "325 0.007106781 0.003892643 0.001016966\n",
        "206 0.00301443 0.002992646 0.000647068\n",
        "275 0.003140083 0.003091055 0.000789242\n",
        "42 0.001223339 0.001085085 0.000231005\n",
        "211"
       ]
      },
      {
       "output_type": "stream",
       "stream": "stdout",
       "text": [
        " 0.005802478 0.003805671 0.000664801\n",
        "367 0.006943795 0.004133471 0.001147375\n",
        "208 0.002822387 0.002700694 0.00064903\n",
        "168 0.002774131 0.002930152 0.000467769\n",
        "34 0.000908096 0.000903669 0.000225945\n",
        "387"
       ]
      },
      {
       "output_type": "stream",
       "stream": "stdout",
       "text": [
        " 0.003872783 0.004142281 0.001394008\n",
        "203 0.011455638 0.039244148 0.000651284\n",
        "308 0.003201636 0.003179894 0.000975257\n",
        "410"
       ]
      },
      {
       "output_type": "stream",
       "stream": "stdout",
       "text": [
        " 0.003805262 0.003541545 0.00146025\n",
        "170 0.013405015 0.004629289 0.000515362\n",
        "477 0.003848962 0.003825319 0.001774693\n",
        "33 0.000917325 0.000883842 0.000222747\n",
        "26"
       ]
      },
      {
       "output_type": "stream",
       "stream": "stdout",
       "text": [
        " 0.00068257 0.000677503 0.000210164\n",
        "54 0.016555446 0.002373576 0.000275214\n",
        "351 0.003384804 0.003339772 0.001075234\n",
        "294 0.003101172 0.002945119 0.000950643\n",
        "401"
       ]
      },
      {
       "output_type": "stream",
       "stream": "stdout",
       "text": [
        " 0.007765176 0.004825264 0.001442692\n",
        "440 0.003697763 0.004231686 0.001593376\n",
        "74 0.002499945 0.002372933 0.000277215\n",
        "70 0.002368499 0.002367813 0.000254993\n",
        "185 0.002867415 0.002848518 0.000487034\n",
        "372"
       ]
      },
      {
       "output_type": "stream",
       "stream": "stdout",
       "text": [
        " 0.003595799 0.036050926 0.001119442\n",
        "176 0.014261857 0.002873043 0.000500855\n",
        "135 0.002874585 0.003603907 0.000426337\n",
        "172 0.003191198 0.002793588 0.000469286\n",
        "397"
       ]
      },
      {
       "output_type": "stream",
       "stream": "stdout",
       "text": [
        " 0.003635201 0.016149785 0.001631616\n",
        "499 0.004253422 0.004791893 0.001898835\n",
        "20 0.00066734 0.000632408 0.0002165\n",
        "241 0.009281313 0.00308282 0.000736307\n",
        "164"
       ]
      },
      {
       "output_type": "stream",
       "stream": "stdout",
       "text": [
        " 0.002947952 0.003482412 0.000465242\n",
        "195 0.014402089 0.002953547 0.000741135\n",
        "391 0.003654585 0.003570328 0.001404388\n",
        "98 0.002738142 0.002842924 0.000374009\n",
        "130"
       ]
      },
      {
       "output_type": "stream",
       "stream": "stdout",
       "text": [
        " 0.002711638 0.003301176 0.000440035\n",
        "176 0.023135701 0.002911897 0.0004985\n",
        "473"
       ]
      },
      {
       "output_type": "stream",
       "stream": "stdout",
       "text": [
        " 0.003839616 0.004420618 0.034387184\n",
        "215 0.014084562 0.003019206 0.000695874\n",
        "31 0.001654035 0.001002994 0.000243863\n",
        "35 0.001059098 0.000898675 0.000225113\n",
        "317 0.003264815 0.004173657 0.001009886\n",
        "229"
       ]
      },
      {
       "output_type": "stream",
       "stream": "stdout",
       "text": [
        " 0.003091524 0.004343738 0.000707067\n",
        "194 0.016093571 0.00301041 0.000626767\n",
        "114 0.002626414 0.002884045 0.000382874\n",
        "478 0.003822632 0.00403656 0.001758616\n",
        "154"
       ]
      },
      {
       "output_type": "stream",
       "stream": "stdout",
       "text": [
        " 0.003037218 0.00267713 0.00044805\n",
        "154 0.0169309 0.00298773 0.00046929\n",
        "377 0.003553495 0.003426685 0.00112933\n",
        "376"
       ]
      },
      {
       "output_type": "stream",
       "stream": "stdout",
       "text": [
        " 0.003513747 0.003725384 0.001128624\n",
        "286 0.010251197 0.003217882 0.000968352\n",
        "53 0.00199029 0.001008896 0.000261022\n",
        "24 0.000664765 0.000584943 0.000209585\n",
        "479"
       ]
      },
      {
       "output_type": "stream",
       "stream": "stdout",
       "text": [
        " 0.004018338 0.036769437 0.001787602\n"
       ]
      },
      {
       "metadata": {},
       "output_type": "display_data",
       "png": "[encoded data removed]",
       "text": [
        "Figure(PyObject <matplotlib.figure.Figure object at 0x7f0dcb091390>)"
       ]
      }
     ],
     "prompt_number": 99
    },
    {
     "cell_type": "code",
     "collapsed": false,
     "input": [
      "function benchmarks_memory()\n",
      "    const time = [0.:0.1:2*pi]\n",
      "    for i=[1:100]\n",
      "        n = rand(1:500)\n",
      "        init = initialize_harmonic_oscillator(n, 0.5)\n",
      "        qexpm_expo  = QuPropagator(init[1], init[2], time, QuExpm_Expo())\n",
      "        qexpm_expmv  = QuPropagator(init[1], init[2], time, QuExpm_ExpmV())\n",
      "        start_state_qexpm_expo = start(qexpm_expo)\n",
      "        start_state_qexpm_expmv = start(qexpm_expmv)\n",
      "        # axis([0, 500, 0.0, 0.01])\n",
      "        mem_1 = @allocated(next(qexpm_expo, start_state_qexpm_expo))\n",
      "        plot(n, mem_1, \"bs\")\n",
      "        mem_2 = @allocated(next(qexpm_expmv, start_state_qexpm_expmv))\n",
      "        w\n",
      "        println(n, \" \", mem_1, \" \", mem_2)\n",
      "    end\n",
      "end\n",
      "benchmarks_memory()"
     ],
     "language": "python",
     "metadata": {},
     "outputs": [
      {
       "output_type": "stream",
       "stream": "stdout",
       "text": [
        "360 "
       ]
      },
      {
       "output_type": "stream",
       "stream": "stdout",
       "text": [
        "1322240 850024\n",
        "360 1322240 850024\n",
        "185 1295376 319960\n",
        "379 1334096 1082944\n",
        "72"
       ]
      },
      {
       "output_type": "stream",
       "stream": "stdout",
       "text": [
        " 1153360 147208\n",
        "463 1386512 1304704\n",
        "91 1237632 149896\n",
        "382 1335968 1090896\n",
        "271 1266720 560808\n",
        "467"
       ]
      },
      {
       "output_type": "stream",
       "stream": "stdout",
       "text": [
        " 1389008 1315264\n",
        "108 1140848 235640\n",
        "441 1372784 1246624\n",
        "170 1286432 300056\n",
        "21 612040 85672\n",
        "404"
       ]
      },
      {
       "output_type": "stream",
       "stream": "stdout",
       "text": [
        " 1349696 1148976\n",
        "456 1382144 1286256\n",
        "355 1319120 839272\n",
        "303 1286688 727816\n",
        "45 685688 107816\n",
        "291"
       ]
      },
      {
       "output_type": "stream",
       "stream": "stdout",
       "text": [
        " 1279200 702088\n",
        "329 1303136 783560\n",
        "36 680504 100264\n",
        "99 1139808 234072\n",
        "109 1140912 235768\n",
        "346"
       ]
      },
      {
       "output_type": "stream",
       "stream": "stdout",
       "text": [
        " 1313504 820008\n",
        "358 1320992 845736\n",
        "148 1157936 270840\n",
        "2 14040 66600\n",
        "429 1365296 1214944\n",
        "39 684952 106472\n",
        "422"
       ]
      },
      {
       "output_type": "stream",
       "stream": "stdout",
       "text": [
        " 1360928 1196496\n",
        "149"
       ]
      },
      {
       "output_type": "stream",
       "stream": "stdout",
       "text": [
        " 1158528 272152\n",
        "297 1282944 714952\n",
        "34 680440 100264\n",
        "181 1293024 314648\n",
        "192 1301120 420136\n",
        "422"
       ]
      },
      {
       "output_type": "stream",
       "stream": "stdout",
       "text": [
        " 1360928 1196496\n",
        "95 1254816 233496\n",
        "113 1141200 236344\n",
        "273 1267968 564392\n",
        "259 1259232 539304\n",
        "478"
       ]
      },
      {
       "output_type": "stream",
       "stream": "stdout",
       "text": [
        " 1395872 1445544\n",
        "261 1260480 542888\n",
        "183 1294224 317304\n",
        "266 1263600 551880\n",
        "499"
       ]
      },
      {
       "output_type": "stream",
       "stream": "stdout",
       "text": [
        " 1409040 1505320\n",
        "285 1275456 689224\n",
        "8 99760 73800\n",
        "314 1293552 751432\n",
        "119 1141632 237208\n",
        "93 1237776 195320\n",
        "475"
       ]
      },
      {
       "output_type": "stream",
       "stream": "stdout",
       "text": [
        " 1394000 1436968\n",
        "500 1409600 1508200\n",
        "188 1298720 413032\n",
        "286 1276080 691400\n",
        "360"
       ]
      },
      {
       "output_type": "stream",
       "stream": "stdout",
       "text": [
        " 1322240 850024\n",
        "428 1364672 1212336\n",
        "318 1296048 760008\n",
        "183 1294224 317304\n",
        "484"
       ]
      },
      {
       "output_type": "stream",
       "stream": "stdout",
       "text": [
        " 1399616 1462632\n",
        "299 1284192 719240\n",
        "252 1254864 526792\n",
        "93 1237776 195320\n",
        "183 1294224 317304\n",
        "364 1324736 858600\n",
        "133"
       ]
      },
      {
       "output_type": "stream",
       "stream": "stdout",
       "text": [
        " 1148928 250904\n",
        "157 1163328 282776\n",
        "346 1313584 820008\n",
        "136 1150736 254904\n",
        "60"
       ]
      },
      {
       "output_type": "stream",
       "stream": "stdout",
       "text": [
        " 695528 121480\n",
        "437 1370288 1236064\n",
        "14 240184 80136\n",
        "419 1359056 1188544\n",
        "155 1162128 280120\n",
        "432"
       ]
      },
      {
       "output_type": "stream",
       "stream": "stdout",
       "text": [
        " 1367168 1222896\n",
        "241 1248144 507144\n",
        "97 1254960 233784\n",
        "490 1403360 1479720\n",
        "59 695480 121384\n",
        "170 1286432 300056\n",
        "448"
       ]
      },
      {
       "output_type": "stream",
       "stream": "stdout",
       "text": [
        " 1377152 1265136\n",
        "334 1306032 794312\n",
        "302 1286064 725704\n",
        "490 1403360 1479720\n",
        "430"
       ]
      },
      {
       "output_type": "stream",
       "stream": "stdout",
       "text": [
        " 1365920 1217616\n",
        "99 1139808 234072\n",
        "454 1380896 1280976\n",
        "176 1290032 308024\n",
        "20 559216 85416\n",
        "180 1292432 313336\n",
        "434"
       ]
      },
      {
       "output_type": "stream",
       "stream": "stdout",
       "text": [
        " 1368480 1228176\n",
        "361 1322864 852136\n",
        "480 1397120 1451240\n",
        "460"
       ]
      },
      {
       "output_type": "stream",
       "stream": "stdout",
       "text": [
        " 1384640 1296816\n",
        "368 1327232 867176\n",
        "307 1289184 736392\n",
        "250 1253584 523208\n",
        "76 1153936 147848\n",
        "264 1262352 548296\n",
        "395"
       ]
      },
      {
       "output_type": "stream",
       "stream": "stdout",
       "text": [
        " 1344080 1125184\n"
       ]
      },
      {
       "metadata": {},
       "output_type": "display_data",
       "png": "[encoded data removed]",
       "text": [
        "Figure(PyObject <matplotlib.figure.Figure object at 0x7f0dcafb3890>)"
       ]
      }
     ],
     "prompt_number": 100
    },
    {
     "cell_type": "code",
     "collapsed": false,
     "input": [
      "dic = [:m=>50]\n",
      "function benchmarks_memory_options()\n",
      "    const time = [0.:0.1:2*pi]\n",
      "    for i=[1:100]\n",
      "        n = rand(1:500)\n",
      "        init = initialize_harmonic_oscillator(n, 0.5)\n",
      "        qexpm_expo  = QuPropagator(init[1], init[2], time, QuExpm_Expo(dic))\n",
      "        qexpm_expmv  = QuPropagator(init[1], init[2], time, QuExpm_ExpmV())\n",
      "        start_state_qexpm_expo = start(qexpm_expo)\n",
      "        start_state_qexpm_expmv = start(qexpm_expmv)\n",
      "        # axis([0, 500, 0.0, 0.01])\n",
      "        mem_1 = @allocated(next(qexpm_expo, start_state_qexpm_expo))\n",
      "        plot(n, mem_1, \"bs\")\n",
      "        mem_2 = @allocated(next(qexpm_expmv, start_state_qexpm_expmv))\n",
      "        plot(n, mem_2, \"ro\")\n",
      "        println(n, \" \", mem_1, \" \", mem_2)\n",
      "    end\n",
      "end\n",
      "benchmarks_memory_options()"
     ],
     "language": "python",
     "metadata": {},
     "outputs": [
      {
       "output_type": "stream",
       "stream": "stdout",
       "text": [
        "134 "
       ]
      },
      {
       "output_type": "stream",
       "stream": "stdout",
       "text": [
        "1149536 252248\n",
        "328 1302288 781448\n",
        "401 1347824 1141024\n",
        "400"
       ]
      },
      {
       "output_type": "stream",
       "stream": "stdout",
       "text": [
        " 1347200 1138416\n",
        "243 1249344 510696\n",
        "76 1153936 147848\n",
        "181 1293024 314648\n",
        "123 1143456 238808\n",
        "147 1157328 269496\n",
        "412 1354688 1170096\n",
        "237"
       ]
      },
      {
       "output_type": "stream",
       "stream": "stdout",
       "text": [
        " 1245744 500152\n",
        "259 1259232 539304\n",
        "237 1245744 500040\n",
        "30 679704 98920\n",
        "48 690152 114056\n",
        "284 1274832 687112\n",
        "429"
       ]
      },
      {
       "output_type": "stream",
       "stream": "stdout",
       "text": [
        " 1365296 1214944\n",
        "192 1301120 420136\n",
        "158 1163888 284120\n",
        "18 377928 83592\n",
        "219 1234944 468072\n",
        "369 1327856 869288\n",
        "200 1305920 434344\n",
        "315"
       ]
      },
      {
       "output_type": "stream",
       "stream": "stdout",
       "text": [
        " 1294176 753544\n",
        "54 694792 120648\n",
        "276 1269840 569800\n",
        "285 1275456 689224\n",
        "277 1270464 571560\n",
        "142 1154336 262872\n",
        "79 1154080 148136\n",
        "16"
       ]
      },
      {
       "output_type": "stream",
       "stream": "stdout",
       "text": [
        " 304960 81704\n",
        "418 1358432 1185936\n",
        "356 1319744 841448\n",
        "324 1299792 772872\n",
        "295"
       ]
      },
      {
       "output_type": "stream",
       "stream": "stdout",
       "text": [
        " 1281696 710664\n",
        "67 1153120 146728\n",
        "326 1301040 777176\n",
        "81 1154176 148328\n",
        "174"
       ]
      },
      {
       "output_type": "stream",
       "stream": "stdout",
       "text": [
        " 1288832 305368\n",
        "192 1301120 420136\n",
        "414 1355936 1175376\n",
        "78 1154032 148040\n",
        "268 1264848 555464\n",
        "445"
       ]
      },
      {
       "output_type": "stream",
       "stream": "stdout",
       "text": [
        " 1375280 1257184\n",
        "94 1254752 233368\n",
        "206 1309520 445000\n",
        "115 1141344 236632\n",
        "86 1236848 148936\n",
        "365 1325360 860712\n",
        "415"
       ]
      },
      {
       "output_type": "stream",
       "stream": "stdout",
       "text": [
        " 1356560 1177984\n",
        "229 1240944 485832\n",
        "360 1322240 850024\n",
        "98 1255040 233944\n",
        "298 1283568 717128\n",
        "265"
       ]
      },
      {
       "output_type": "stream",
       "stream": "stdout",
       "text": [
        " 1262976 550056\n",
        "397 1345328 1130464\n",
        "439 1371536 1241344\n",
        "331 1304160 787848\n",
        "197"
       ]
      },
      {
       "output_type": "stream",
       "stream": "stdout",
       "text": [
        " 1304112 429000\n",
        "410 1353504 1164816\n",
        "390 1340960 1112016\n",
        "418"
       ]
      },
      {
       "output_type": "stream",
       "stream": "stdout",
       "text": [
        " 1358432 1185936\n",
        "226 1239152 480520\n",
        "227 1322112 482280\n",
        "206 1309520 445000\n",
        "433 1367792 1225504\n",
        "185"
       ]
      },
      {
       "output_type": "stream",
       "stream": "stdout",
       "text": [
        " 1295376 319960\n",
        "223 1237344 475176\n",
        "381 1335344 1088224\n",
        "245 1250544 514248\n",
        "79 1154080 148136\n",
        "303 1286688 727816\n",
        "138"
       ]
      },
      {
       "output_type": "stream",
       "stream": "stdout",
       "text": [
        " 1151888 257560\n",
        "170 1286432 300056\n",
        "130 1147136 246936\n",
        "421 1360304 1193824\n",
        "204 1308320 441448\n",
        "170 1286432 300056\n",
        "27 556672 91496\n",
        "59"
       ]
      },
      {
       "output_type": "stream",
       "stream": "stdout",
       "text": [
        " 695480 121384\n",
        "83 1154272 148520\n",
        "246 1251152 516040\n",
        "30 679704 98920\n",
        "440"
       ]
      },
      {
       "output_type": "stream",
       "stream": "stdout",
       "text": [
        " 1372208 1244016\n",
        "471 1391504 1325824\n",
        "303 1286688 727816\n",
        "340 1309776 807176\n",
        "292"
       ]
      },
      {
       "output_type": "stream",
       "stream": "stdout",
       "text": [
        " 1279824 704264\n",
        "128 1145936 244280\n",
        "123 1143456 238808\n",
        "161 1281024 288088\n",
        "43 685592 107624\n",
        "357"
       ]
      },
      {
       "output_type": "stream",
       "stream": "stdout",
       "text": [
        " 1320368 843560\n",
        "235 1244544 496488\n",
        "51 690392 114408\n",
        "397 1345328 1130464\n",
        "177 1290624 309336\n",
        "366"
       ]
      },
      {
       "output_type": "stream",
       "stream": "stdout",
       "text": [
        " 1325984 862888\n",
        "489 1402736 1476840\n",
        "208 1310720 448552\n"
       ]
      },
      {
       "metadata": {},
       "output_type": "display_data",
       "png": "[encoded data removed]",
       "text": [
        "Figure(PyObject <matplotlib.figure.Figure object at 0x7f0dcb9d7190>)"
       ]
      }
     ],
     "prompt_number": 101
    }
   ],
   "metadata": {}
  }
 ]
}
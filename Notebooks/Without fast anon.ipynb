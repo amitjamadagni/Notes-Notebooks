{
 "cells": [
  {
   "cell_type": "code",
   "execution_count": 1,
   "metadata": {
    "collapsed": true
   },
   "outputs": [],
   "source": [
    "require(\"/home/amit/Downloads/SemVII/QuBase.jl/src/QuBase.jl\")\n",
    "using QuBase\n",
    "require(\"/home/amit/Downloads/SemVII/QuDynamics.jl/src/QuDynamics.jl\")\n",
    "using QuDynamics\n",
    "using BenchmarkLite"
   ]
  },
  {
   "cell_type": "code",
   "execution_count": 2,
   "metadata": {
    "collapsed": false
   },
   "outputs": [
    {
     "name": "stderr",
     "output_type": "stream",
     "text": [
      "Warning: imported binding for require overwritten in module Main\n"
     ]
    },
    {
     "data": {
      "text/plain": [
       "4-element Array{Union(UTF8String,ASCIIString),1}:\n",
       " \"julia 0.3\\n\"\n",
       " \"Compat\\n\"   \n",
       " \"Docile\\n\"   \n",
       " \"ODE 0.2.1\\n\""
      ]
     },
     "execution_count": 2,
     "metadata": {},
     "output_type": "execute_result"
    }
   ],
   "source": [
    "require = \"/home/amit/Downloads/SemVII/QuDynamics.jl/REQUIRE\"\n",
    "open(readlines, require)"
   ]
  },
  {
   "cell_type": "code",
   "execution_count": 3,
   "metadata": {
    "collapsed": true
   },
   "outputs": [],
   "source": [
    "type SampleProc{Alg} <: Proc end"
   ]
  },
  {
   "cell_type": "code",
   "execution_count": 4,
   "metadata": {
    "collapsed": true
   },
   "outputs": [],
   "source": [
    "type JaynesCummings\n",
    "    N::Int\n",
    "    wc::Float64\n",
    "    wa::Float64\n",
    "    g::Float64\n",
    "    kappa::Float64\n",
    "    gamma::Float64\n",
    "    use_rwa::Bool\n",
    "    tlist\n",
    "end"
   ]
  },
  {
   "cell_type": "code",
   "execution_count": 5,
   "metadata": {
    "collapsed": false
   },
   "outputs": [
    {
     "data": {
      "text/plain": [
       "string (generic function with 9 methods)"
      ]
     },
     "execution_count": 5,
     "metadata": {},
     "output_type": "execute_result"
    }
   ],
   "source": [
    "Base.string{Alg}(::SampleProc{Alg}) = lowercase(string(Alg))"
   ]
  },
  {
   "cell_type": "code",
   "execution_count": 6,
   "metadata": {
    "collapsed": false
   },
   "outputs": [
    {
     "data": {
      "text/plain": [
       "isvalid (generic function with 23 methods)"
      ]
     },
     "execution_count": 6,
     "metadata": {},
     "output_type": "execute_result"
    }
   ],
   "source": [
    "Base.isvalid{Alg}(p::SampleProc{Alg}, cfg::JaynesCummings) = true"
   ]
  },
  {
   "cell_type": "code",
   "execution_count": 7,
   "metadata": {
    "collapsed": false
   },
   "outputs": [
    {
     "data": {
      "text/plain": [
       "operator_set (generic function with 1 method)"
      ]
     },
     "execution_count": 7,
     "metadata": {},
     "output_type": "execute_result"
    }
   ],
   "source": [
    "function operator_set(p::SampleProc, cfg::JaynesCummings)\n",
    "    idc = QuArray(eye(cfg.N))\n",
    "    ida = QuArray(eye(2))\n",
    "    a  = tensor(lowerop(cfg.N), ida)\n",
    "    sm = tensor(idc, lowerop(2))\n",
    "    if cfg.use_rwa\n",
    "        H = cfg.wc * a' * a + cfg.wa * sm' * sm + cfg.g * (a' * sm + a * sm')\n",
    "    else\n",
    "        H = cfg.wc * a' * a + cfg.wa * sm' * sm + cfg.g * (a' + a) * (sm + sm')\n",
    "    end\n",
    "    c_op_list = Array(QuBase.AbstractQuMatrix, 0)\n",
    "    n_th_a = 0.0\n",
    "    rate_1 = cfg.kappa * (1 + n_th_a)\n",
    "    if rate_1 > 0.0\n",
    "        push!(c_op_list, full(sqrt(rate_1) * a))\n",
    "    end\n",
    "    rate = cfg.kappa * n_th_a\n",
    "    if rate > 0.0\n",
    "        push!(c_op_list, full(sqrt(rate) * a'))\n",
    "    end\n",
    "    rate = cfg.gamma\n",
    "    if rate > 0.0\n",
    "        push!(c_op_list, full(sqrt(rate) * sm))\n",
    "    end\n",
    "    psi = complex(tensor(statevec(1, FiniteBasis(cfg.N)), statevec(2, FiniteBasis(2))))\n",
    "    return full(H), c_op_list, psi*psi', a*a'\n",
    "end"
   ]
  },
  {
   "cell_type": "code",
   "execution_count": 8,
   "metadata": {
    "collapsed": false
   },
   "outputs": [
    {
     "data": {
      "text/plain": [
       "start (generic function with 37 methods)"
      ]
     },
     "execution_count": 8,
     "metadata": {},
     "output_type": "execute_result"
    }
   ],
   "source": [
    "Base.start(p::SampleProc, cfg::JaynesCummings) = (operator_set(p, cfg))"
   ]
  },
  {
   "cell_type": "code",
   "execution_count": 9,
   "metadata": {
    "collapsed": false
   },
   "outputs": [
    {
     "data": {
      "text/plain": [
       "length (generic function with 50 methods)"
      ]
     },
     "execution_count": 9,
     "metadata": {},
     "output_type": "execute_result"
    }
   ],
   "source": [
    "Base.length(p::SampleProc, cfg::JaynesCummings) = cfg.N"
   ]
  },
  {
   "cell_type": "code",
   "execution_count": 10,
   "metadata": {
    "collapsed": false
   },
   "outputs": [
    {
     "data": {
      "text/plain": [
       "run (generic function with 4 methods)"
      ]
     },
     "execution_count": 10,
     "metadata": {},
     "output_type": "execute_result"
    }
   ],
   "source": [
    "function Base.run{Alg}(p::SampleProc{Alg}, cfg::JaynesCummings, s::(QuBase.QuArray, Array, QuBase.QuArray, QuBase.QuArray))\n",
    "    qprop = QuPropagator(s[1], s[2], s[3], cfg.tlist, Alg())\n",
    "    for (t, psi) in qprop\n",
    "        trace(coeffs(psi*(s[4])))\n",
    "    end\n",
    "end"
   ]
  },
  {
   "cell_type": "code",
   "execution_count": 11,
   "metadata": {
    "collapsed": false
   },
   "outputs": [
    {
     "data": {
      "text/plain": [
       "done (generic function with 40 methods)"
      ]
     },
     "execution_count": 11,
     "metadata": {},
     "output_type": "execute_result"
    }
   ],
   "source": [
    "Base.done(p::SampleProc, cfg, s) = nothing"
   ]
  },
  {
   "cell_type": "code",
   "execution_count": 12,
   "metadata": {
    "collapsed": false
   },
   "outputs": [
    {
     "data": {
      "text/plain": [
       "3-element Array{Proc,1}:\n",
       " SampleProc{QuODE45}() \n",
       " SampleProc{QuODE78}() \n",
       " SampleProc{QuODE23s}()"
      ]
     },
     "execution_count": 12,
     "metadata": {},
     "output_type": "execute_result"
    }
   ],
   "source": [
    "procs = Proc[ SampleProc{QuODE45}(),\n",
    "              SampleProc{QuODE78}(),\n",
    "              SampleProc{QuODE23s}()]"
   ]
  },
  {
   "cell_type": "code",
   "execution_count": 13,
   "metadata": {
    "collapsed": false
   },
   "outputs": [
    {
     "data": {
      "text/plain": [
       "15-element Array{JaynesCummings,1}:\n",
       " JaynesCummings(2,6.283185307179586,6.283185307179586,0.3141592653589793,0.05,0.15,true,0.0:0.1:6.2)                   \n",
       " JaynesCummings(3,6.283185307179586,6.283185307179586,0.3141592653589793,0.05,0.15,true,0.0:0.1:6.2)                   \n",
       " JaynesCummings(6,6.283185307179586,6.283185307179586,0.3141592653589793,0.05,0.15,true,0.0:0.1:6.2)                   \n",
       " JaynesCummings(10,6.283185307179586,6.283185307179586,0.3141592653589793,0.05,0.15,true,0.0:0.1:6.2)                  \n",
       " JaynesCummings(2,6.283185307179586,6.283185307179586,0.3141592653589793,0.05,0.15,false,0.0:0.1:6.2)                  \n",
       " JaynesCummings(3,6.283185307179586,6.283185307179586,0.3141592653589793,0.05,0.15,false,0.0:0.1:6.2)                  \n",
       " JaynesCummings(6,6.283185307179586,6.283185307179586,0.3141592653589793,0.05,0.15,false,0.0:0.1:6.2)                  \n",
       " JaynesCummings(2,6.283185307179586,6.283185307179586,0.3141592653589793,0.05,0.15,true,0.0:0.1:6.2)                   \n",
       " JaynesCummings(3,6.283185307179586,6.283185307179586,0.3141592653589793,0.05,0.15,true,0.0:0.20134228187919462:30.0)  \n",
       " JaynesCummings(6,6.283185307179586,6.283185307179586,0.3141592653589793,0.05,0.15,true,0.0:0.20134228187919462:30.0)  \n",
       " JaynesCummings(10,6.283185307179586,6.283185307179586,0.3141592653589793,0.05,0.15,true,0.0:0.20134228187919462:30.0) \n",
       " JaynesCummings(2,6.283185307179586,6.283185307179586,0.3141592653589793,0.05,0.15,false,0.0:0.20134228187919462:30.0) \n",
       " JaynesCummings(3,6.283185307179586,6.283185307179586,0.3141592653589793,0.05,0.15,false,0.0:0.20134228187919462:30.0) \n",
       " JaynesCummings(6,6.283185307179586,6.283185307179586,0.3141592653589793,0.05,0.15,false,0.0:0.20134228187919462:30.0) \n",
       " JaynesCummings(10,6.283185307179586,6.283185307179586,0.3141592653589793,0.05,0.15,false,0.0:0.20134228187919462:30.0)"
      ]
     },
     "execution_count": 13,
     "metadata": {},
     "output_type": "execute_result"
    }
   ],
   "source": [
    "# Setting up various configurations.\n",
    "cfgs = JaynesCummings[JaynesCummings(2, 1.0 * 2 * pi, 1.0 * 2 * pi, 0.05 * 2 * pi, 0.05, 0.15, true, 0.:0.1:2*pi),\n",
    "                      JaynesCummings(3, 1.0 * 2 * pi, 1.0 * 2 * pi, 0.05 * 2 * pi, 0.05, 0.15, true, 0.:0.1:2*pi),\n",
    "                      JaynesCummings(6, 1.0 * 2 * pi, 1.0 * 2 * pi, 0.05 * 2 * pi, 0.05, 0.15, true, 0.:0.1:2*pi),\n",
    "                      JaynesCummings(10, 1.0 * 2 * pi, 1.0 * 2 * pi, 0.05 * 2 * pi, 0.05, 0.15, true, 0.:0.1:2*pi),\n",
    "                      JaynesCummings(2, 1.0 * 2 * pi, 1.0 * 2 * pi, 0.05 * 2 * pi, 0.05, 0.15, false, 0.:0.1:2*pi),\n",
    "                      JaynesCummings(3, 1.0 * 2 * pi, 1.0 * 2 * pi, 0.05 * 2 * pi, 0.05, 0.15, false, 0.:0.1:2*pi),\n",
    "                      JaynesCummings(6, 1.0 * 2 * pi, 1.0 * 2 * pi, 0.05 * 2 * pi, 0.05, 0.15, false, 0.:0.1:2*pi),\n",
    "                      JaynesCummings(2, 1.0 * 2 * pi, 1.0 * 2 * pi, 0.05 * 2 * pi, 0.05, 0.15, true, 0.:0.1:2*pi),\n",
    "                      JaynesCummings(3, 1.0 * 2 * pi, 1.0 * 2 * pi, 0.05 * 2 * pi, 0.05, 0.15, true, 0.0:0.20134228187919462:30.0),\n",
    "                      JaynesCummings(6, 1.0 * 2 * pi, 1.0 * 2 * pi, 0.05 * 2 * pi, 0.05, 0.15, true, 0.0:0.20134228187919462:30.0),\n",
    "                      JaynesCummings(10, 1.0 * 2 * pi, 1.0 * 2 * pi, 0.05 * 2 * pi, 0.05, 0.15, true, 0.0:0.20134228187919462:30.0),\n",
    "                      JaynesCummings(2, 1.0 * 2 * pi, 1.0 * 2 * pi, 0.05 * 2 * pi, 0.05, 0.15, false, 0.0:0.20134228187919462:30.0),\n",
    "                      JaynesCummings(3, 1.0 * 2 * pi, 1.0 * 2 * pi, 0.05 * 2 * pi, 0.05, 0.15, false, 0.0:0.20134228187919462:30.0),\n",
    "                      JaynesCummings(6, 1.0 * 2 * pi, 1.0 * 2 * pi, 0.05 * 2 * pi, 0.05, 0.15, false, 0.0:0.20134228187919462:30.0),\n",
    "                      JaynesCummings(10, 1.0 * 2 * pi, 1.0 * 2 * pi, 0.05 * 2 * pi, 0.05, 0.15, false, 0.0:0.20134228187919462:30.0)]"
   ]
  },
  {
   "cell_type": "code",
   "execution_count": 14,
   "metadata": {
    "collapsed": false
   },
   "outputs": [
    {
     "name": "stdout",
     "output_type": "stream",
     "text": [
      "Benchmarking quode45 ...\n",
      "  quode45 with cfg = JaynesCummings(2,6.283185307179586,6.283185307179586,0.3141592653589793,0.05,0.15,true,0.0:0.1:6.2): nruns = 61, elapsed = 1.357397293 secs\n",
      "  quode45 with cfg = JaynesCummings(3,6.283185307179586,6.283185307179586,0.3141592653589793,0.05,0.15,true,0.0:0.1:6.2): nruns = 25, elapsed = 1.324164558 secs\n",
      "  quode45 with cfg = JaynesCummings(6,6.283185307179586,6.283185307179586,0.3141592653589793,0.05,0.15,true,0.0:0.1:6.2): nruns = 3, elapsed = 1.437720463 secs\n",
      "  quode45 with cfg = JaynesCummings(10,6.283185307179586,6.283185307179586,0.3141592653589793,0.05,0.15,true,0.0:0.1:6.2): nruns = 1, elapsed = 3.12101086 secs\n",
      "  quode45 with cfg = JaynesCummings(2,6.283185307179586,6.283185307179586,0.3141592653589793,0.05,0.15,false,0.0:0.1:6.2): nruns = 59, elapsed = 1.36363285 secs\n",
      "  quode45 with cfg = JaynesCummings(3,6.283185307179586,6.283185307179586,0.3141592653589793,0.05,0.15,false,0.0:0.1:6.2): nruns = 20, elapsed = 1.41589062 secs\n",
      "  quode45 with cfg = JaynesCummings(6,6.283185307179586,6.283185307179586,0.3141592653589793,0.05,0.15,false,0.0:0.1:6.2): nruns = 2, elapsed = 1.055962004 secs\n",
      "  quode45 with cfg = JaynesCummings(2,6.283185307179586,6.283185307179586,0.3141592653589793,0.05,0.15,true,0.0:0.1:6.2): nruns = 62, elapsed = 1.306952679 secs\n",
      "  quode45 with cfg = JaynesCummings(3,6.283185307179586,6.283185307179586,0.3141592653589793,0.05,0.15,true,0.0:0.20134228187919462:30.0): nruns = 8, elapsed = 0.718337298 secs\n",
      "  quode45 with cfg = JaynesCummings(6,6.283185307179586,6.283185307179586,0.3141592653589793,0.05,0.15,true,0.0:0.20134228187919462:30.0): nruns = 2, elapsed = 1.200053339 secs\n",
      "  quode45 with cfg = JaynesCummings(10,6.283185307179586,6.283185307179586,0.3141592653589793,0.05,0.15,true,0.0:0.20134228187919462:30.0): nruns = 1, elapsed = 3.439684674 secs\n",
      "  quode45 with cfg = JaynesCummings(2,6.283185307179586,6.283185307179586,0.3141592653589793,0.05,0.15,false,0.0:0.20134228187919462:30.0): nruns = 27, elapsed = 1.439272876 secs\n",
      "  quode45 with cfg = JaynesCummings(3,6.283185307179586,6.283185307179586,0.3141592653589793,0.05,0.15,false,0.0:0.20134228187919462:30.0): nruns = 9, elapsed = 1.561934218 secs\n",
      "  quode45 with cfg = JaynesCummings(6,6.283185307179586,6.283185307179586,0.3141592653589793,0.05,0.15,false,0.0:0.20134228187919462:30.0): nruns = 2, elapsed = 1.825905726 secs\n",
      "  quode45 with cfg = JaynesCummings(10,6.283185307179586,6.283185307179586,0.3141592653589793,0.05,0.15,false,0.0:0.20134228187919462:30.0): nruns = 1, elapsed = 5.14909054 secs\n",
      "Benchmarking quode78 ...\n",
      "  quode78 with cfg = JaynesCummings(2,6.283185307179586,6.283185307179586,0.3141592653589793,0.05,0.15,true,0.0:0.1:6.2): nruns = 75, elapsed = 1.257109445 secs\n",
      "  quode78 with cfg = JaynesCummings(3,6.283185307179586,6.283185307179586,0.3141592653589793,0.05,0.15,true,0.0:0.1:6.2): nruns = 28, elapsed = 1.337637455 secs\n",
      "  quode78 with cfg = JaynesCummings(6,6.283185307179586,6.283185307179586,0.3141592653589793,0.05,0.15,true,0.0:0.1:6.2): nruns = 2, elapsed = 0.945841069 secs\n",
      "  quode78 with cfg = JaynesCummings(10,6.283185307179586,6.283185307179586,0.3141592653589793,0.05,0.15,true,0.0:0.1:6.2): nruns = 1, elapsed = 3.273177907 secs\n",
      "  quode78 with cfg = JaynesCummings(2,6.283185307179586,6.283185307179586,0.3141592653589793,0.05,0.15,false,0.0:0.1:6.2): nruns = 73, elapsed = 1.640974408 secs\n",
      "  quode78 with cfg = JaynesCummings(3,6.283185307179586,6.283185307179586,0.3141592653589793,0.05,0.15,false,0.0:0.1:6.2): nruns = 28, elapsed = 1.450015542 secs\n",
      "  quode78 with cfg = JaynesCummings(6,6.283185307179586,6.283185307179586,0.3141592653589793,0.05,0.15,false,0.0:0.1:6.2): nruns = 3, elapsed = 1.438265287 secs\n",
      "  quode78 with cfg = JaynesCummings(2,6.283185307179586,6.283185307179586,0.3141592653589793,0.05,0.15,true,0.0:0.1:6.2): nruns = 45, elapsed = 0.785603377 secs\n",
      "  quode78 with cfg = JaynesCummings(3,6.283185307179586,6.283185307179586,0.3141592653589793,0.05,0.15,true,0.0:0.20134228187919462:30.0): nruns = 14, elapsed = 1.531468499 secs\n",
      "  quode78 with cfg = JaynesCummings(6,6.283185307179586,6.283185307179586,0.3141592653589793,0.05,0.15,true,0.0:0.20134228187919462:30.0): nruns = 2, elapsed = 1.27168674 secs\n",
      "  quode78 with cfg = JaynesCummings(10,6.283185307179586,6.283185307179586,0.3141592653589793,0.05,0.15,true,0.0:0.20134228187919462:30.0): nruns = 1, elapsed = 3.587889833 secs\n",
      "  quode78 with cfg = JaynesCummings(2,6.283185307179586,6.283185307179586,0.3141592653589793,0.05,0.15,false,0.0:0.20134228187919462:30.0): nruns = 26, elapsed = 1.391333608 secs\n",
      "  quode78 with cfg = JaynesCummings(3,6.283185307179586,6.283185307179586,0.3141592653589793,0.05,0.15,false,0.0:0.20134228187919462:30.0): nruns = 6, elapsed = 1.128286757 secs\n",
      "  quode78 with cfg = JaynesCummings(6,6.283185307179586,6.283185307179586,0.3141592653589793,0.05,0.15,false,0.0:0.20134228187919462:30.0): nruns = 1, elapsed = 1.012168189 secs\n",
      "  quode78 with cfg = JaynesCummings(10,6.283185307179586,6.283185307179586,0.3141592653589793,0.05,0.15,false,0.0:0.20134228187919462:30.0): nruns = 1, elapsed = 4.669932095 secs\n",
      "Benchmarking quode23s ...\n",
      "  quode23s with cfg = JaynesCummings(2,6.283185307179586,6.283185307179586,0.3141592653589793,0.05,0.15,true,0.0:0.1:6.2): nruns = 7, elapsed = 0.802990697 secs\n",
      "  quode23s with cfg = JaynesCummings(3,6.283185307179586,6.283185307179586,0.3141592653589793,0.05,0.15,true,0.0:0.1:6.2): nruns = 3, elapsed = 1.213840773 secs\n",
      "  quode23s with cfg = JaynesCummings(6,6.283185307179586,6.283185307179586,0.3141592653589793,0.05,0.15,true,0.0:0.1:6.2): nruns = 1, elapsed = 5.321524282 secs\n",
      "  quode23s with cfg = JaynesCummings(10,6.283185307179586,6.283185307179586,0.3141592653589793,0.05,0.15,true,0.0:0.1:6.2): nruns = 1, elapsed = 42.423781869 secs\n",
      "  quode23s with cfg = JaynesCummings(2,6.283185307179586,6.283185307179586,0.3141592653589793,0.05,0.15,false,0.0:0.1:6.2): nruns = 7, elapsed = 0.889403613 secs\n",
      "  quode23s with cfg = JaynesCummings(3,6.283185307179586,6.283185307179586,0.3141592653589793,0.05,0.15,false,0.0:0.1:6.2): nruns = 2, elapsed = 0.978098148 secs\n",
      "  quode23s with cfg = JaynesCummings(6,6.283185307179586,6.283185307179586,0.3141592653589793,0.05,0.15,false,0.0:0.1:6.2): nruns = 1, elapsed = 6.777464177 secs\n",
      "  quode23s with cfg = JaynesCummings(2,6.283185307179586,6.283185307179586,0.3141592653589793,0.05,0.15,true,0.0:0.1:6.2): nruns = 7, elapsed = 0.99902495 secs\n",
      "  quode23s with cfg = JaynesCummings(3,6.283185307179586,6.283185307179586,0.3141592653589793,0.05,0.15,true,0.0:0.20134228187919462:30.0): nruns = 1, elapsed = 1.0834152 secs\n",
      "  quode23s with cfg = JaynesCummings(6,6.283185307179586,6.283185307179586,0.3141592653589793,0.05,0.15,true,0.0:0.20134228187919462:30.0): nruns = 1, elapsed = 15.070339503 secs\n",
      "  quode23s with cfg = JaynesCummings(10,6.283185307179586,6.283185307179586,0.3141592653589793,0.05,0.15,true,0.0:0.20134228187919462:30.0): nruns = 1, elapsed = 125.019320511 secs\n",
      "  quode23s with cfg = JaynesCummings(2,6.283185307179586,6.283185307179586,0.3141592653589793,0.05,0.15,false,0.0:0.20134228187919462:30.0): nruns = 3, elapsed = 1.134732446 secs\n",
      "  quode23s with cfg = JaynesCummings(3,6.283185307179586,6.283185307179586,0.3141592653589793,0.05,0.15,false,0.0:0.20134228187919462:30.0): nruns = 1, elapsed = 1.848053213 secs\n",
      "  quode23s with cfg = JaynesCummings(6,6.283185307179586,6.283185307179586,0.3141592653589793,0.05,0.15,false,0.0:0.20134228187919462:30.0): nruns = 1, elapsed = 19.182882588 secs\n",
      "  quode23s with cfg = JaynesCummings(10,6.283185307179586,6.283185307179586,0.3141592653589793,0.05,0.15,false,0.0:0.20134228187919462:30.0): nruns = 1, elapsed = 156.370736902 secs\n"
     ]
    },
    {
     "data": {
      "text/plain": [
       "BenchmarkTable [unit = sec]\n",
       "config                                                                                                                 |  quode45  quode78  quode23s  \n",
       "------------------------------------------------------------------------------------------------------------------------------------------------------\n",
       "JaynesCummings(2,6.283185307179586,6.283185307179586,0.3141592653589793,0.05,0.15,true,0.0:0.1:6.2)                    |   0.0223   0.0168    0.1147  \n",
       "JaynesCummings(3,6.283185307179586,6.283185307179586,0.3141592653589793,0.05,0.15,true,0.0:0.1:6.2)                    |   0.0530   0.0478    0.4046  \n",
       "JaynesCummings(6,6.283185307179586,6.283185307179586,0.3141592653589793,0.05,0.15,true,0.0:0.1:6.2)                    |   0.4792   0.4729    5.3215  \n",
       "JaynesCummings(10,6.283185307179586,6.283185307179586,0.3141592653589793,0.05,0.15,true,0.0:0.1:6.2)                   |   3.1210   3.2732   42.4238  \n",
       "JaynesCummings(2,6.283185307179586,6.283185307179586,0.3141592653589793,0.05,0.15,false,0.0:0.1:6.2)                   |   0.0231   0.0225    0.1271  \n",
       "JaynesCummings(3,6.283185307179586,6.283185307179586,0.3141592653589793,0.05,0.15,false,0.0:0.1:6.2)                   |   0.0708   0.0518    0.4890  \n",
       "JaynesCummings(6,6.283185307179586,6.283185307179586,0.3141592653589793,0.05,0.15,false,0.0:0.1:6.2)                   |   0.5280   0.4794    6.7775  \n",
       "JaynesCummings(2,6.283185307179586,6.283185307179586,0.3141592653589793,0.05,0.15,true,0.0:0.1:6.2)                    |   0.0211   0.0175    0.1427  \n",
       "JaynesCummings(3,6.283185307179586,6.283185307179586,0.3141592653589793,0.05,0.15,true,0.0:0.20134228187919462:30.0)   |   0.0898   0.1094    1.0834  \n",
       "JaynesCummings(6,6.283185307179586,6.283185307179586,0.3141592653589793,0.05,0.15,true,0.0:0.20134228187919462:30.0)   |   0.6000   0.6358   15.0703  \n",
       "JaynesCummings(10,6.283185307179586,6.283185307179586,0.3141592653589793,0.05,0.15,true,0.0:0.20134228187919462:30.0)  |   3.4397   3.5879  125.0193  \n",
       "JaynesCummings(2,6.283185307179586,6.283185307179586,0.3141592653589793,0.05,0.15,false,0.0:0.20134228187919462:30.0)  |   0.0533   0.0535    0.3782  \n",
       "JaynesCummings(3,6.283185307179586,6.283185307179586,0.3141592653589793,0.05,0.15,false,0.0:0.20134228187919462:30.0)  |   0.1735   0.1880    1.8481  \n",
       "JaynesCummings(6,6.283185307179586,6.283185307179586,0.3141592653589793,0.05,0.15,false,0.0:0.20134228187919462:30.0)  |   0.9130   1.0122   19.1829  \n",
       "JaynesCummings(10,6.283185307179586,6.283185307179586,0.3141592653589793,0.05,0.15,false,0.0:0.20134228187919462:30.0) |   5.1491   4.6699  156.3707  \n"
      ]
     },
     "execution_count": 14,
     "metadata": {},
     "output_type": "execute_result"
    }
   ],
   "source": [
    "rtable = run(procs, cfgs)"
   ]
  },
  {
   "cell_type": "code",
   "execution_count": 15,
   "metadata": {
    "collapsed": false
   },
   "outputs": [
    {
     "name": "stdout",
     "output_type": "stream",
     "text": [
      "BenchmarkTable [unit = sec]\n",
      "config                                                                                                                 |  quode45  quode78  quode23s  \n",
      "------------------------------------------------------------------------------------------------------------------------------------------------------\n",
      "JaynesCummings(2,6.283185307179586,6.283185307179586,0.3141592653589793,0.05,0.15,true,0.0:0.1:6.2)                    |   0.0223   0.0168    0.1147  \n",
      "JaynesCummings(3,6.283185307179586,6.283185307179586,0.3141592653589793,0.05,0.15,true,0.0:0.1:6.2)                    |   0.0530   0.0478    0.4046  \n",
      "JaynesCummings(6,6.283185307179586,6.283185307179586,0.3141592653589793,0.05,0.15,true,0.0:0.1:6.2)                    |   0.4792   0.4729    5.3215  \n",
      "JaynesCummings(10,6.283185307179586,6.283185307179586,0.3141592653589793,0.05,0.15,true,0.0:0.1:6.2)                   |   3.1210   3.2732   42.4238  \n",
      "JaynesCummings(2,6.283185307179586,6.283185307179586,0.3141592653589793,0.05,0.15,false,0.0:0.1:6.2)                   |   0.0231   0.0225    0.1271  \n",
      "JaynesCummings(3,6.283185307179586,6.283185307179586,0.3141592653589793,0.05,0.15,false,0.0:0.1:6.2)                   |   0.0708   0.0518    0.4890  \n",
      "JaynesCummings(6,6.283185307179586,6.283185307179586,0.3141592653589793,0.05,0.15,false,0.0:0.1:6.2)                   |   0.5280   0.4794    6.7775  \n",
      "JaynesCummings(2,6.283185307179586,6.283185307179586,0.3141592653589793,0.05,0.15,true,0.0:0.1:6.2)                    |   0.0211   0.0175    0.1427  \n",
      "JaynesCummings(3,6.283185307179586,6.283185307179586,0.3141592653589793,0.05,0.15,true,0.0:0.20134228187919462:30.0)   |   0.0898   0.1094    1.0834  \n",
      "JaynesCummings(6,6.283185307179586,6.283185307179586,0.3141592653589793,0.05,0.15,true,0.0:0.20134228187919462:30.0)   |   0.6000   0.6358   15.0703  \n",
      "JaynesCummings(10,6.283185307179586,6.283185307179586,0.3141592653589793,0.05,0.15,true,0.0:0.20134228187919462:30.0)  |   3.4397   3.5879  125.0193  \n",
      "JaynesCummings(2,6.283185307179586,6.283185307179586,0.3141592653589793,0.05,0.15,false,0.0:0.20134228187919462:30.0)  |   0.0533   0.0535    0.3782  \n",
      "JaynesCummings(3,6.283185307179586,6.283185307179586,0.3141592653589793,0.05,0.15,false,0.0:0.20134228187919462:30.0)  |   0.1735   0.1880    1.8481  \n",
      "JaynesCummings(6,6.283185307179586,6.283185307179586,0.3141592653589793,0.05,0.15,false,0.0:0.20134228187919462:30.0)  |   0.9130   1.0122   19.1829  \n",
      "JaynesCummings(10,6.283185307179586,6.283185307179586,0.3141592653589793,0.05,0.15,false,0.0:0.20134228187919462:30.0) |   5.1491   4.6699  156.3707  \n"
     ]
    }
   ],
   "source": [
    "show(rtable)"
   ]
  },
  {
   "cell_type": "code",
   "execution_count": null,
   "metadata": {
    "collapsed": true
   },
   "outputs": [],
   "source": [
    "    "
   ]
  }
 ],
 "metadata": {
  "kernelspec": {
   "display_name": "Julia 0.3.7",
   "language": "julia",
   "name": "julia-0.3"
  },
  "language_info": {
   "file_extension": ".jl",
   "mimetype": "application/julia",
   "name": "julia",
   "version": "0.3.7"
  }
 },
 "nbformat": 4,
 "nbformat_minor": 0
}

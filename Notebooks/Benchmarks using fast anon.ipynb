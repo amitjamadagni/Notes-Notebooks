{
 "cells": [
  {
   "cell_type": "code",
   "execution_count": 1,
   "metadata": {
    "collapsed": true
   },
   "outputs": [],
   "source": [
    "require(\"/home/amit/Downloads/SemVII/QuBase.jl/src/QuBase.jl\")\n",
    "using QuBase\n",
    "require(\"/home/amit/Downloads/SemVII/QuDynamics.jl/src/QuDynamics.jl\")\n",
    "using QuDynamics\n",
    "using BenchmarkLite"
   ]
  },
  {
   "cell_type": "code",
   "execution_count": 2,
   "metadata": {
    "collapsed": false
   },
   "outputs": [
    {
     "name": "stderr",
     "output_type": "stream",
     "text": [
      "Warning: imported binding for require overwritten in module Main\n"
     ]
    },
    {
     "data": {
      "text/plain": [
       "5-element Array{Union(UTF8String,ASCIIString),1}:\n",
       " \"julia 0.3\\n\"    \n",
       " \"Compat\\n\"       \n",
       " \"Docile\\n\"       \n",
       " \"ODE 0.2.1\\n\"    \n",
       " \"FastAnonymous\\n\""
      ]
     },
     "execution_count": 2,
     "metadata": {},
     "output_type": "execute_result"
    }
   ],
   "source": [
    "require = \"/home/amit/Downloads/SemVII/QuDynamics.jl/REQUIRE\"\n",
    "open(readlines, require)"
   ]
  },
  {
   "cell_type": "code",
   "execution_count": 3,
   "metadata": {
    "collapsed": true
   },
   "outputs": [],
   "source": [
    "type SampleProc{Alg} <: Proc end"
   ]
  },
  {
   "cell_type": "code",
   "execution_count": 4,
   "metadata": {
    "collapsed": true
   },
   "outputs": [],
   "source": [
    "type JaynesCummings\n",
    "    N::Int\n",
    "    wc::Float64\n",
    "    wa::Float64\n",
    "    g::Float64\n",
    "    kappa::Float64\n",
    "    gamma::Float64\n",
    "    use_rwa::Bool\n",
    "    tlist\n",
    "end"
   ]
  },
  {
   "cell_type": "code",
   "execution_count": 5,
   "metadata": {
    "collapsed": false
   },
   "outputs": [
    {
     "data": {
      "text/plain": [
       "string (generic function with 9 methods)"
      ]
     },
     "execution_count": 5,
     "metadata": {},
     "output_type": "execute_result"
    }
   ],
   "source": [
    "Base.string{Alg}(::SampleProc{Alg}) = lowercase(string(Alg))"
   ]
  },
  {
   "cell_type": "code",
   "execution_count": 6,
   "metadata": {
    "collapsed": false
   },
   "outputs": [
    {
     "data": {
      "text/plain": [
       "isvalid (generic function with 23 methods)"
      ]
     },
     "execution_count": 6,
     "metadata": {},
     "output_type": "execute_result"
    }
   ],
   "source": [
    "Base.isvalid{Alg}(p::SampleProc{Alg}, cfg::JaynesCummings) = true"
   ]
  },
  {
   "cell_type": "code",
   "execution_count": 7,
   "metadata": {
    "collapsed": false
   },
   "outputs": [
    {
     "data": {
      "text/plain": [
       "operator_set (generic function with 1 method)"
      ]
     },
     "execution_count": 7,
     "metadata": {},
     "output_type": "execute_result"
    }
   ],
   "source": [
    "function operator_set(p::SampleProc, cfg::JaynesCummings)\n",
    "    idc = QuArray(eye(cfg.N))\n",
    "    ida = QuArray(eye(2))\n",
    "    a  = tensor(lowerop(cfg.N), ida)\n",
    "    sm = tensor(idc, lowerop(2))\n",
    "    if cfg.use_rwa\n",
    "        H = cfg.wc * a' * a + cfg.wa * sm' * sm + cfg.g * (a' * sm + a * sm')\n",
    "    else\n",
    "        H = cfg.wc * a' * a + cfg.wa * sm' * sm + cfg.g * (a' + a) * (sm + sm')\n",
    "    end\n",
    "    c_op_list = Array(QuBase.AbstractQuMatrix, 0)\n",
    "    n_th_a = 0.0\n",
    "    rate_1 = cfg.kappa * (1 + n_th_a)\n",
    "    if rate_1 > 0.0\n",
    "        push!(c_op_list, full(sqrt(rate_1) * a))\n",
    "    end\n",
    "    rate = cfg.kappa * n_th_a\n",
    "    if rate > 0.0\n",
    "        push!(c_op_list, full(sqrt(rate) * a'))\n",
    "    end\n",
    "    rate = cfg.gamma\n",
    "    if rate > 0.0\n",
    "        push!(c_op_list, full(sqrt(rate) * sm))\n",
    "    end\n",
    "    psi = complex(tensor(statevec(1, FiniteBasis(cfg.N)), statevec(2, FiniteBasis(2))))\n",
    "    return full(H), c_op_list, psi*psi', a*a'\n",
    "end"
   ]
  },
  {
   "cell_type": "code",
   "execution_count": 8,
   "metadata": {
    "collapsed": false
   },
   "outputs": [
    {
     "data": {
      "text/plain": [
       "start (generic function with 37 methods)"
      ]
     },
     "execution_count": 8,
     "metadata": {},
     "output_type": "execute_result"
    }
   ],
   "source": [
    "Base.start(p::SampleProc, cfg::JaynesCummings) = (operator_set(p, cfg))"
   ]
  },
  {
   "cell_type": "code",
   "execution_count": 9,
   "metadata": {
    "collapsed": false
   },
   "outputs": [
    {
     "data": {
      "text/plain": [
       "length (generic function with 50 methods)"
      ]
     },
     "execution_count": 9,
     "metadata": {},
     "output_type": "execute_result"
    }
   ],
   "source": [
    "Base.length(p::SampleProc, cfg::JaynesCummings) = cfg.N"
   ]
  },
  {
   "cell_type": "code",
   "execution_count": 10,
   "metadata": {
    "collapsed": false
   },
   "outputs": [
    {
     "data": {
      "text/plain": [
       "run (generic function with 4 methods)"
      ]
     },
     "execution_count": 10,
     "metadata": {},
     "output_type": "execute_result"
    }
   ],
   "source": [
    "function Base.run{Alg}(p::SampleProc{Alg}, cfg::JaynesCummings, s::(QuBase.QuArray, Array, QuBase.QuArray, QuBase.QuArray))\n",
    "    qprop = QuPropagator(s[1], s[2], s[3], cfg.tlist, Alg())\n",
    "    for (t, psi) in qprop\n",
    "        trace(coeffs(psi*(s[4])))\n",
    "    end\n",
    "end"
   ]
  },
  {
   "cell_type": "code",
   "execution_count": 11,
   "metadata": {
    "collapsed": false
   },
   "outputs": [
    {
     "data": {
      "text/plain": [
       "done (generic function with 40 methods)"
      ]
     },
     "execution_count": 11,
     "metadata": {},
     "output_type": "execute_result"
    }
   ],
   "source": [
    "Base.done(p::SampleProc, cfg, s) = nothing"
   ]
  },
  {
   "cell_type": "code",
   "execution_count": 12,
   "metadata": {
    "collapsed": false
   },
   "outputs": [
    {
     "data": {
      "text/plain": [
       "3-element Array{Proc,1}:\n",
       " SampleProc{QuODE45}() \n",
       " SampleProc{QuODE78}() \n",
       " SampleProc{QuODE23s}()"
      ]
     },
     "execution_count": 12,
     "metadata": {},
     "output_type": "execute_result"
    }
   ],
   "source": [
    "procs = Proc[ SampleProc{QuODE45}(),\n",
    "              SampleProc{QuODE78}(),\n",
    "              SampleProc{QuODE23s}()]"
   ]
  },
  {
   "cell_type": "code",
   "execution_count": 13,
   "metadata": {
    "collapsed": false
   },
   "outputs": [
    {
     "data": {
      "text/plain": [
       "7-element Array{JaynesCummings,1}:\n",
       " JaynesCummings(2,6.283185307179586,6.283185307179586,0.3141592653589793,0.05,0.15,true,0.0:0.1:6.2) \n",
       " JaynesCummings(3,6.283185307179586,6.283185307179586,0.3141592653589793,0.05,0.15,true,0.0:0.1:6.2) \n",
       " JaynesCummings(6,6.283185307179586,6.283185307179586,0.3141592653589793,0.05,0.15,true,0.0:0.1:6.2) \n",
       " JaynesCummings(10,6.283185307179586,6.283185307179586,0.3141592653589793,0.05,0.15,true,0.0:0.1:6.2)\n",
       " JaynesCummings(15,6.283185307179586,6.283185307179586,0.3141592653589793,0.05,0.15,true,0.0:0.1:6.2)\n",
       " JaynesCummings(20,6.283185307179586,6.283185307179586,0.3141592653589793,0.05,0.15,true,0.0:0.1:6.2)\n",
       " JaynesCummings(25,6.283185307179586,6.283185307179586,0.3141592653589793,0.05,0.15,true,0.0:0.1:6.2)"
      ]
     },
     "execution_count": 13,
     "metadata": {},
     "output_type": "execute_result"
    }
   ],
   "source": [
    "# Setting up various configurations.\n",
    "cfgs = JaynesCummings[JaynesCummings(2, 1.0 * 2 * pi, 1.0 * 2 * pi, 0.05 * 2 * pi, 0.05, 0.15, true, 0.:0.1:2*pi),\n",
    "                      JaynesCummings(3, 1.0 * 2 * pi, 1.0 * 2 * pi, 0.05 * 2 * pi, 0.05, 0.15, true, 0.:0.1:2*pi),\n",
    "                      JaynesCummings(6, 1.0 * 2 * pi, 1.0 * 2 * pi, 0.05 * 2 * pi, 0.05, 0.15, true, 0.:0.1:2*pi),\n",
    "                      JaynesCummings(10, 1.0 * 2 * pi, 1.0 * 2 * pi, 0.05 * 2 * pi, 0.05, 0.15, true, 0.:0.1:2*pi),\n",
    "                      JaynesCummings(15, 1.0 * 2 * pi, 1.0 * 2 * pi, 0.05 * 2 * pi, 0.05, 0.15, true, 0.:0.1:2*pi),\n",
    "                      JaynesCummings(20, 1.0 * 2 * pi, 1.0 * 2 * pi, 0.05 * 2 * pi, 0.05, 0.15, true, 0.:0.1:2*pi),\n",
    "                      JaynesCummings(25, 1.0 * 2 * pi, 1.0 * 2 * pi, 0.05 * 2 * pi, 0.05, 0.15, true, 0.:0.1:2*pi)\n",
    "                     ]"
   ]
  },
  {
   "cell_type": "code",
   "execution_count": 14,
   "metadata": {
    "collapsed": false
   },
   "outputs": [
    {
     "name": "stdout",
     "output_type": "stream",
     "text": [
      "Benchmarking quode45 ...\n",
      "  quode45 with cfg = JaynesCummings(2,6.283185307179586,6.283185307179586,0.3141592653589793,0.05,0.15,true,0.0:0.1:6.2): nruns = 4, elapsed = 1.168079543 secs\n",
      "  quode45 with cfg = JaynesCummings(3,6.283185307179586,6.283185307179586,0.3141592653589793,0.05,0.15,true,0.0:0.1:6.2): nruns = 4, elapsed = 1.058502788 secs\n",
      "  quode45 with cfg = JaynesCummings(6,6.283185307179586,6.283185307179586,0.3141592653589793,0.05,0.15,true,0.0:0.1:6.2): nruns = 3, elapsed = 1.207796043 secs\n",
      "  quode45 with cfg = JaynesCummings(10,6.283185307179586,6.283185307179586,0.3141592653589793,0.05,0.15,true,0.0:0.1:6.2): nruns = 1, elapsed = 1.229654189 secs\n",
      "  quode45 with cfg = JaynesCummings(15,6.283185307179586,6.283185307179586,0.3141592653589793,0.05,0.15,true,0.0:0.1:6.2): nruns = 1, elapsed = 5.086698792 secs\n",
      "  quode45 with cfg = JaynesCummings(20,6.283185307179586,6.283185307179586,0.3141592653589793,0.05,0.15,true,0.0:0.1:6.2): nruns = 1, elapsed = 15.403131662 secs\n",
      "  quode45 with cfg = JaynesCummings(25,6.283185307179586,6.283185307179586,0.3141592653589793,0.05,0.15,true,0.0:0.1:6.2): nruns = 1, elapsed = 34.425153449 secs\n",
      "Benchmarking quode78 ...\n",
      "  quode78 with cfg = JaynesCummings(2,6.283185307179586,6.283185307179586,0.3141592653589793,0.05,0.15,true,0.0:0.1:6.2): nruns = 4, elapsed = 1.105111696 secs\n",
      "  quode78 with cfg = JaynesCummings(3,6.283185307179586,6.283185307179586,0.3141592653589793,0.05,0.15,true,0.0:0.1:6.2): nruns = 4, elapsed = 1.118589039 secs\n",
      "  quode78 with cfg = JaynesCummings(6,6.283185307179586,6.283185307179586,0.3141592653589793,0.05,0.15,true,0.0:0.1:6.2): nruns = 3, elapsed = 1.171621666 secs\n",
      "  quode78 with cfg = JaynesCummings(10,6.283185307179586,6.283185307179586,0.3141592653589793,0.05,0.15,true,0.0:0.1:6.2): nruns = 1, elapsed = 1.157504586 secs\n",
      "  quode78 with cfg = JaynesCummings(15,6.283185307179586,6.283185307179586,0.3141592653589793,0.05,0.15,true,0.0:0.1:6.2): nruns = 1, elapsed = 4.594158486 secs\n",
      "  quode78 with cfg = JaynesCummings(20,6.283185307179586,6.283185307179586,0.3141592653589793,0.05,0.15,true,0.0:0.1:6.2): nruns = 1, elapsed = 14.189438927 secs\n",
      "  quode78 with cfg = JaynesCummings(25,6.283185307179586,6.283185307179586,0.3141592653589793,0.05,0.15,true,0.0:0.1:6.2): nruns = 1, elapsed = 33.622319432 secs\n",
      "Benchmarking quode23s ...\n",
      "  quode23s with cfg = JaynesCummings(2,6.283185307179586,6.283185307179586,0.3141592653589793,0.05,0.15,true,0.0:0.1:6.2): nruns = 3, elapsed = 1.336326964 secs\n",
      "  quode23s with cfg = JaynesCummings(3,6.283185307179586,6.283185307179586,0.3141592653589793,0.05,0.15,true,0.0:0.1:6.2): nruns = 2, elapsed = 1.088653734 secs\n",
      "  quode23s with cfg = JaynesCummings(6,6.283185307179586,6.283185307179586,0.3141592653589793,0.05,0.15,true,0.0:0.1:6.2): nruns = 1, elapsed = 2.052394402 secs\n",
      "  quode23s with cfg = JaynesCummings(10,6.283185307179586,6.283185307179586,0.3141592653589793,0.05,0.15,true,0.0:0.1:6.2): nruns = 1, elapsed = 13.940017987 secs\n",
      "  quode23s with cfg = JaynesCummings(15,6.283185307179586,6.283185307179586,0.3141592653589793,0.05,0.15,true,0.0:0.1:6.2): nruns = 1, elapsed = 71.096291821 secs\n",
      "  quode23s with cfg = JaynesCummings(20,6.283185307179586,6.283185307179586,0.3141592653589793,0.05,0.15,true,0.0:0.1:6.2): nruns = 1, elapsed = 242.743505575 secs\n",
      "  quode23s with cfg = JaynesCummings(25,6.283185307179586,6.283185307179586,0.3141592653589793,0.05,0.15,true,0.0:0.1:6.2): nruns = 1, elapsed = 726.197506135 secs\n"
     ]
    },
    {
     "data": {
      "text/plain": [
       "BenchmarkTable [unit = sec]\n",
       "config                                                                                               |  quode45  quode78  quode23s  \n",
       "------------------------------------------------------------------------------------------------------------------------------------\n",
       "JaynesCummings(2,6.283185307179586,6.283185307179586,0.3141592653589793,0.05,0.15,true,0.0:0.1:6.2)  |   0.2920   0.2763    0.4454  \n",
       "JaynesCummings(3,6.283185307179586,6.283185307179586,0.3141592653589793,0.05,0.15,true,0.0:0.1:6.2)  |   0.2646   0.2796    0.5443  \n",
       "JaynesCummings(6,6.283185307179586,6.283185307179586,0.3141592653589793,0.05,0.15,true,0.0:0.1:6.2)  |   0.4026   0.3905    2.0524  \n",
       "JaynesCummings(10,6.283185307179586,6.283185307179586,0.3141592653589793,0.05,0.15,true,0.0:0.1:6.2) |   1.2297   1.1575   13.9400  \n",
       "JaynesCummings(15,6.283185307179586,6.283185307179586,0.3141592653589793,0.05,0.15,true,0.0:0.1:6.2) |   5.0867   4.5942   71.0963  \n",
       "JaynesCummings(20,6.283185307179586,6.283185307179586,0.3141592653589793,0.05,0.15,true,0.0:0.1:6.2) |  15.4031  14.1894  242.7435  \n",
       "JaynesCummings(25,6.283185307179586,6.283185307179586,0.3141592653589793,0.05,0.15,true,0.0:0.1:6.2) |  34.4252  33.6223  726.1975  \n"
      ]
     },
     "execution_count": 14,
     "metadata": {},
     "output_type": "execute_result"
    }
   ],
   "source": [
    "rtable = run(procs, cfgs)"
   ]
  },
  {
   "cell_type": "code",
   "execution_count": 15,
   "metadata": {
    "collapsed": false
   },
   "outputs": [
    {
     "name": "stdout",
     "output_type": "stream",
     "text": [
      "BenchmarkTable [unit = sec]\n",
      "config                                                                                               |  quode45  quode78  quode23s  \n",
      "------------------------------------------------------------------------------------------------------------------------------------\n",
      "JaynesCummings(2,6.283185307179586,6.283185307179586,0.3141592653589793,0.05,0.15,true,0.0:0.1:6.2)  |   0.2920   0.2763    0.4454  \n",
      "JaynesCummings(3,6.283185307179586,6.283185307179586,0.3141592653589793,0.05,0.15,true,0.0:0.1:6.2)  |   0.2646   0.2796    0.5443  \n",
      "JaynesCummings(6,6.283185307179586,6.283185307179586,0.3141592653589793,0.05,0.15,true,0.0:0.1:6.2)  |   0.4026   0.3905    2.0524  \n",
      "JaynesCummings(10,6.283185307179586,6.283185307179586,0.3141592653589793,0.05,0.15,true,0.0:0.1:6.2) |   1.2297   1.1575   13.9400  \n",
      "JaynesCummings(15,6.283185307179586,6.283185307179586,0.3141592653589793,0.05,0.15,true,0.0:0.1:6.2) |   5.0867   4.5942   71.0963  \n",
      "JaynesCummings(20,6.283185307179586,6.283185307179586,0.3141592653589793,0.05,0.15,true,0.0:0.1:6.2) |  15.4031  14.1894  242.7435  \n",
      "JaynesCummings(25,6.283185307179586,6.283185307179586,0.3141592653589793,0.05,0.15,true,0.0:0.1:6.2) |  34.4252  33.6223  726.1975  \n"
     ]
    }
   ],
   "source": [
    "show(rtable)"
   ]
  },
  {
   "cell_type": "code",
   "execution_count": null,
   "metadata": {
    "collapsed": true
   },
   "outputs": [],
   "source": []
  }
 ],
 "metadata": {
  "kernelspec": {
   "display_name": "Julia 0.3.7",
   "language": "julia",
   "name": "julia-0.3"
  },
  "language_info": {
   "file_extension": ".jl",
   "mimetype": "application/julia",
   "name": "julia",
   "version": "0.3.7"
  }
 },
 "nbformat": 4,
 "nbformat_minor": 0
}

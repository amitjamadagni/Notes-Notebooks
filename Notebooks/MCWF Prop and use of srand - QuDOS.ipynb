{
 "metadata": {
  "name": ""
 },
 "nbformat": 3,
 "nbformat_minor": 0,
 "worksheets": [
  {
   "cells": [
    {
     "cell_type": "code",
     "collapsed": false,
     "input": [
      "require(\"/home/amit/Downloads/SemVII/QuDOS.jl/src/Qudos.jl\")\n",
      "using QuDOS"
     ],
     "language": "python",
     "metadata": {},
     "outputs": [],
     "prompt_number": 1
    },
    {
     "cell_type": "code",
     "collapsed": false,
     "input": [
      "n = 2\n",
      "gamma = 0.1\n",
      "nsteps = 25\n",
      "dt = 0.25\n",
      "ntraj = 3"
     ],
     "language": "python",
     "metadata": {},
     "outputs": [
      {
       "metadata": {},
       "output_type": "pyout",
       "prompt_number": 2,
       "text": [
        "3"
       ]
      }
     ],
     "prompt_number": 2
    },
    {
     "cell_type": "code",
     "collapsed": false,
     "input": [
      "ad = QuDOS.creationop( n )\n",
      "h = ad*ad'"
     ],
     "language": "python",
     "metadata": {},
     "outputs": [
      {
       "metadata": {},
       "output_type": "pyout",
       "prompt_number": 3,
       "text": [
        "2x2 sparse matrix with 1 Float64 entries:\n",
        "\t[2, 2]  =  1.0"
       ]
      }
     ],
     "prompt_number": 3
    },
    {
     "cell_type": "code",
     "collapsed": false,
     "input": [
      "cs = QuDOS.coherentstatevec(n, 1.)\n",
      "rho = QuDOS.QuState(cs)\n",
      "qme = QuDOS.LindbladQME( h, {sqrt(gamma)*ad',})"
     ],
     "language": "python",
     "metadata": {},
     "outputs": [
      {
       "metadata": {},
       "output_type": "pyout",
       "prompt_number": 4,
       "text": [
        "LindbladQME(2x2 sparse matrix with 1 Complex{Float64} entries:\n",
        "\t[2, 2]  =  1.0+0.0im,AbstractArray{Complex{Float64},2}[\n",
        "2x2 sparse matrix with 1 Complex{Float64} entries:\n",
        "\t[1, 2]  =  0.316228+0.0im])"
       ]
      }
     ],
     "prompt_number": 4
    },
    {
     "cell_type": "code",
     "collapsed": false,
     "input": [
      "rho = QuDOS.mcwfpropagate(cs, qme, ntraj, dt, nsteps, {})\n",
      "println(rho)"
     ],
     "language": "python",
     "metadata": {},
     "outputs": [
      {
       "output_type": "stream",
       "stream": "stdout",
       "text": [
        "0.2601250914736861"
       ]
      },
      {
       "output_type": "stream",
       "stream": "stdout",
       "text": [
        "\n",
        "0.2601250914736861\n",
        "0.2601250914736861\n",
        "0.2601250914736861\n",
        "0.2601250914736861\n",
        "0.2601250914736861\n",
        "0.2601250914736861\n",
        "0.2601250914736861\n",
        "0.2601250914736861\n",
        "0.2601250914736861\n",
        "0.2601250914736861\n",
        "0.2601250914736861\n",
        "0.2601250914736861\n",
        "0.2601250914736861\n",
        "0.2601250914736861\n",
        "0.2601250914736861\n",
        "0.2601250914736861\n",
        "0.2601250914736861\n",
        "0.2601250914736861\n",
        "0.2601250914736861\n",
        "0.2601250914736861\n",
        "0.2601250914736861\n",
        "0.2601250914736861\n",
        "0.2601250914736861\n",
        "0.2601250914736861\n",
        "0.6456910432314067\n",
        "0.6456910432314067\n",
        "0.6456910432314067\n",
        "0.6456910432314067\n",
        "0.6456910432314067\n",
        "0.6456910432314067\n",
        "0.6456910432314067\n",
        "0.6456910432314067\n",
        "0.6456910432314067\n",
        "0.6456910432314067\n",
        "0.6456910432314067\n",
        "0.6456910432314067\n",
        "0.6456910432314067\n",
        "0.6456910432314067\n",
        "0.6456910432314067\n",
        "0.6456910432314067\n",
        "0.6456910432314067\n",
        "0.6456910432314067\n",
        "0.6456910432314067\n",
        "0.6456910432314067\n",
        "0.6456910432314067\n",
        "0.6456910432314067\n",
        "0.6456910432314067\n",
        "0.6456910432314067\n",
        "0.6456910432314067\n",
        "0.5459681993995775\n",
        "0.5459681993995775\n",
        "0.5459681993995775\n",
        "0.5459681993995775\n",
        "0.5459681993995775\n",
        "0.5459681993995775\n",
        "0.5459681993995775\n",
        "0.5459681993995775\n",
        "0.5459681993995775\n",
        "0.5459681993995775\n",
        "0.5459681993995775\n",
        "0.5459681993995775\n",
        "0.5459681993995775\n",
        "0.5459681993995775\n",
        "0.5459681993995775\n",
        "0.5459681993995775\n",
        "0.5459681993995775\n",
        "0.5459681993995775\n",
        "0.5459681993995775\n",
        "0.5459681993995775\n",
        "0.5459681993995775\n",
        "0.5459681993995775\n",
        "0.5459681993995775\n",
        "0.5459681993995775\n",
        "0.5459681993995775\n",
        "(QuState{Array{Complex{Float64},1}}(Complex{Float64}[0.4351067312529769 + 0.0im,0.4954980165872689 + 0.016449292671999773im,0.4954980165872689 - 0.016449292671999773im,0.564893268747023 + 0.0im],2,[2]),None[])\n"
       ]
      }
     ],
     "prompt_number": 7
    },
    {
     "cell_type": "code",
     "collapsed": false,
     "input": [
      "function mcwfpropagate(state::AbstractQuState,\n",
      "                        qme::AbstractLindbladQME,\n",
      "                        ntraj::Int, dt0::Float64, nsteps::Int,\n",
      "                        ops=[])\n",
      "\n",
      "  jtol = 1.e-6  # jump tolerance\n",
      "\n",
      "  nops = length(ops)\n",
      "  if nops > 0\n",
      "    exvals = Array(Complex128, nsteps, nops)\n",
      "  else\n",
      "    exvals = []\n",
      "  end\n",
      "\n",
      "  # get information of QME\n",
      "  heff = eff_hamiltonian(qme)\n",
      "  c = linbladops(qme)\n",
      "\n",
      "  # final state\n",
      "  rho = QuState( zeros(Complex128, state.nb, state.nb), state.subnb )\n",
      "\n",
      "  # initial state -> ensemble\n",
      "  qse = QuStateEnsemble(state)\n",
      "  srand(100)\n",
      "  for traj=1:ntraj\n",
      "\t  # println(\"starting trajectory $traj/$ntraj\")\n",
      "\n",
      "    # initial state vec for trajectory\n",
      "\t  psi  = draw(qse)\n",
      "\n",
      "    eps = rand() # draw random number from [0,1)\n",
      "\n",
      "\t  for step=1:nsteps\n",
      "\n",
      "\t\t  dt = dt0\n",
      "\t\t  accdt = 0.\n",
      "      tj = 0.\n",
      "\n",
      "\t\t  while accdt < dt0\n",
      "\n",
      "\t\t\t  # propagate one time-step\n",
      "\t\t\t  eff_prop = QuFixedStepPropagator( -im*heff, dt)\n",
      "\t\t\t  psi1 = propagate(eff_prop, psi)\n",
      "        println(eps)\n",
      "    \t\tif abs(norm(psi1) - eps) < jtol\n",
      "    \t\t\t# println(\"jump at t=$(tj + accdt + dt), norm=$(norm(psi1)), eps=$eps\")\n",
      "\n",
      "    \t\t\tPnS = 0.\n",
      "    \t\t\tfor cind = 1:length(c)\n",
      "    \t\t\t\tPnS += real(expectationval(psi1, c[cind]'*c[cind]))\n",
      "    \t\t  end\n",
      "\n",
      "          Pn = 0.\n",
      "    \t\t\tcop = speye(size(heff,1))\n",
      "    \t\t\tfor cind = 1:length(c)\n",
      "    \t\t\t\tPn += real(expectationval(psi1, c[cind]'*c[cind]))/PnS\n",
      "    \t\t\t\t# println(\"Pn($cind)=$Pn\")\n",
      "    \t\t\t\tif Pn >= eps\n",
      "    \t\t\t\t\t# println(\"using operator $cind\")\n",
      "    \t\t\t\t\tcop=c[cind]\n",
      "    \t\t\t\t\tbreak\n",
      "    \t\t\t\tend\n",
      "    \t\t\tend\n",
      "\n",
      "          # now we have a jump\n",
      "          # psi = QuStateVec( cop*psi1.elem )\n",
      "          psi = applyop(psi1, cop)\n",
      "    \t\t\tnormalize!(psi)\n",
      "\n",
      "    \t\t\teps = rand() # draw new random number from [0,1)\n",
      "    \t\t\taccdt = accdt + dt\n",
      "    \t\t\tdt = dt0 - accdt\n",
      "\n",
      "    \t\telseif norm(psi1) < eps\n",
      "    \t\t\tdt = dt/2\t\t# jump in the current interval\n",
      "    \t\telse\n",
      "    \t\t\tpsi = copy(psi1)  # no jump\n",
      "    \t\t\taccdt = accdt + dt\n",
      "    \t\t\tdt = dt0 - accdt\n",
      "    \t\tend\n",
      "\n",
      "    \t\t# println(\"dt = $dt, norm = $(norm(psi1)), $(norm(psi))\")\n",
      "    \tend\n",
      "\n",
      "      for nop = 1:nops\n",
      "        exvals[step, nop] = exvals[step, nop] + expectationval(normalize(psi), ops[nop])/ntraj\n",
      "      end\n",
      "\n",
      "    \ttj = tj + dt0\n",
      "    end # time-steps\n",
      "\n",
      "    normalize!(psi)\n",
      "    rho = rho + QuState(psi)/ntraj\n",
      "\n",
      "  end  # trajectories\n",
      "\n",
      "  return rho, exvals\n",
      "end\n"
     ],
     "language": "python",
     "metadata": {},
     "outputs": [
      {
       "ename": "LoadError",
       "evalue": "AbstractQuState not defined\nwhile loading In[1], in expression starting on line 1",
       "output_type": "pyerr",
       "traceback": [
        "AbstractQuState not defined\nwhile loading In[1], in expression starting on line 1",
        ""
       ]
      }
     ],
     "prompt_number": 1
    },
    {
     "cell_type": "code",
     "collapsed": false,
     "input": [],
     "language": "python",
     "metadata": {},
     "outputs": []
    }
   ],
   "metadata": {}
  }
 ]
}
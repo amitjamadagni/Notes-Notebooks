{
 "metadata": {
  "name": ""
 },
 "nbformat": 3,
 "nbformat_minor": 0,
 "worksheets": [
  {
   "cells": [
    {
     "cell_type": "code",
     "collapsed": false,
     "input": [
      "require(\"/home/amit/Downloads/SemVII/QuDOS.jl/src/Qudos.jl\")\n",
      "using QuDOS"
     ],
     "language": "python",
     "metadata": {},
     "outputs": [],
     "prompt_number": 1
    },
    {
     "cell_type": "code",
     "collapsed": false,
     "input": [
      "n = 2\n",
      "gamma = 0.1\n",
      "nsteps = 25\n",
      "dt = 0.25\n",
      "ntraj = 3"
     ],
     "language": "python",
     "metadata": {},
     "outputs": [
      {
       "metadata": {},
       "output_type": "pyout",
       "prompt_number": 2,
       "text": [
        "3"
       ]
      }
     ],
     "prompt_number": 2
    },
    {
     "cell_type": "code",
     "collapsed": false,
     "input": [
      "ad = QuDOS.creationop( n )\n",
      "h = ad*ad'"
     ],
     "language": "python",
     "metadata": {},
     "outputs": [
      {
       "metadata": {},
       "output_type": "pyout",
       "prompt_number": 3,
       "text": [
        "2x2 sparse matrix with 1 Float64 entries:\n",
        "\t[2, 2]  =  1.0"
       ]
      }
     ],
     "prompt_number": 3
    },
    {
     "cell_type": "code",
     "collapsed": false,
     "input": [
      "cs = QuDOS.coherentstatevec(n, 1.)\n",
      "rho = QuDOS.QuState(cs)\n",
      "qme = QuDOS.LindbladQME( h, {sqrt(gamma)*ad',})"
     ],
     "language": "python",
     "metadata": {},
     "outputs": [
      {
       "metadata": {},
       "output_type": "pyout",
       "prompt_number": 4,
       "text": [
        "LindbladQME(2x2 sparse matrix with 1 Complex{Float64} entries:\n",
        "\t[2, 2]  =  1.0+0.0im,AbstractArray{Complex{Float64},2}[\n",
        "2x2 sparse matrix with 1 Complex{Float64} entries:\n",
        "\t[1, 2]  =  0.316228+0.0im])"
       ]
      }
     ],
     "prompt_number": 4
    },
    {
     "cell_type": "code",
     "collapsed": false,
     "input": [
      "rho = QuDOS.mcwfpropagate(cs, qme, ntraj, dt, nsteps, {})\n",
      "println(rho)"
     ],
     "language": "python",
     "metadata": {},
     "outputs": [
      {
       "output_type": "stream",
       "stream": "stdout",
       "text": [
        "0.2601250914736861"
       ]
      },
      {
       "output_type": "stream",
       "stream": "stdout",
       "text": [
        "\n",
        "0.2601250914736861\n",
        "0.2601250914736861\n",
        "0.2601250914736861\n",
        "0.2601250914736861\n",
        "0.2601250914736861\n",
        "0.2601250914736861\n",
        "0.2601250914736861\n",
        "0.2601250914736861\n",
        "0.2601250914736861\n",
        "0.2601250914736861\n",
        "0.2601250914736861\n",
        "0.2601250914736861\n",
        "0.2601250914736861\n",
        "0.2601250914736861\n",
        "0.2601250914736861\n",
        "0.2601250914736861\n",
        "0.2601250914736861\n",
        "0.2601250914736861\n",
        "0.2601250914736861\n",
        "0.2601250914736861\n",
        "0.2601250914736861\n",
        "0.2601250914736861\n",
        "0.2601250914736861\n",
        "0.2601250914736861\n",
        "0.6456910432314067\n",
        "0.6456910432314067\n",
        "0.6456910432314067\n",
        "0.6456910432314067\n",
        "0.6456910432314067\n",
        "0.6456910432314067\n",
        "0.6456910432314067\n",
        "0.6456910432314067\n",
        "0.6456910432314067\n",
        "0.6456910432314067\n",
        "0.6456910432314067\n",
        "0.6456910432314067\n",
        "0.6456910432314067\n",
        "0.6456910432314067\n",
        "0.6456910432314067\n",
        "0.6456910432314067\n",
        "0.6456910432314067\n",
        "0.6456910432314067\n",
        "0.6456910432314067\n",
        "0.6456910432314067\n",
        "0.6456910432314067\n",
        "0.6456910432314067\n",
        "0.6456910432314067\n",
        "0.6456910432314067\n",
        "0.6456910432314067\n",
        "0.5459681993995775\n",
        "0.5459681993995775\n",
        "0.5459681993995775\n",
        "0.5459681993995775\n",
        "0.5459681993995775\n",
        "0.5459681993995775\n",
        "0.5459681993995775\n",
        "0.5459681993995775\n",
        "0.5459681993995775\n",
        "0.5459681993995775\n",
        "0.5459681993995775\n",
        "0.5459681993995775\n",
        "0.5459681993995775\n",
        "0.5459681993995775\n",
        "0.5459681993995775\n",
        "0.5459681993995775\n",
        "0.5459681993995775\n",
        "0.5459681993995775\n",
        "0.5459681993995775\n",
        "0.5459681993995775\n",
        "0.5459681993995775\n",
        "0.5459681993995775\n",
        "0.5459681993995775\n",
        "0.5459681993995775\n",
        "0.5459681993995775\n",
        "(QuState{Array{Complex{Float64},1}}(Complex{Float64}[0.4351067312529769 + 0.0im,0.4954980165872689 + 0.016449292671999773im,0.4954980165872689 - 0.016449292671999773im,0.564893268747023 + 0.0im],2,[2]),None[])\n"
       ]
      }
     ],
     "prompt_number": 7
    },
    {
     "cell_type": "code",
     "collapsed": false,
     "input": [],
     "language": "python",
     "metadata": {},
     "outputs": []
    }
   ],
   "metadata": {}
  }
 ]
}
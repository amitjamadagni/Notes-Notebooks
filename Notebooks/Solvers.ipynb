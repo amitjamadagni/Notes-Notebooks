{
 "metadata": {
  "name": "Solvers"
 },
 "nbformat": 3,
 "nbformat_minor": 0,
 "worksheets": [
  {
   "cells": [
    {
     "cell_type": "heading",
     "level": 1,
     "metadata": {},
     "source": "Solvers with reference to the notes"
    },
    {
     "cell_type": "code",
     "collapsed": false,
     "input": "using QuBase",
     "language": "python",
     "metadata": {},
     "outputs": [],
     "prompt_number": 9
    },
    {
     "cell_type": "markdown",
     "metadata": {},
     "source": "    Input the initial parameters: the hamiltonian, the initial state,  the time steps with initial time and final time"
    },
    {
     "cell_type": "markdown",
     "metadata": {},
     "source": "Input the hamiltonian"
    },
    {
     "cell_type": "code",
     "collapsed": false,
     "input": "hamiltonian = sigmax",
     "language": "python",
     "metadata": {},
     "outputs": [
      {
       "metadata": {},
       "output_type": "pyout",
       "prompt_number": 10,
       "text": "2x2 QuMatrix in FiniteBasis{Orthonormal,1}:\n...coefficients: SparseMatrixCSC{Float64,Int64}\n\n\t[2, 1]  =  1.0\n\t[1, 2]  =  1.0"
      }
     ],
     "prompt_number": 10
    },
    {
     "cell_type": "markdown",
     "metadata": {},
     "source": "Input the initial state into init_state"
    },
    {
     "cell_type": "code",
     "collapsed": false,
     "input": "init_state = QuArray([0.5+0.*im, 0. + 0.*im])",
     "language": "python",
     "metadata": {},
     "outputs": [
      {
       "metadata": {},
       "output_type": "pyout",
       "prompt_number": 11,
       "text": "2-element QuVector in FiniteBasis{Orthonormal,1}:\n...coefficients: Array{Complex{Float64},1}\nComplex{Float64}[0.5 + 0.0im,0.0 + 0.0im]"
      }
     ],
     "prompt_number": 11
    },
    {
     "cell_type": "markdown",
     "metadata": {},
     "source": "Time-step array construct, time-step instances to be passed into tlist"
    },
    {
     "cell_type": "code",
     "collapsed": false,
     "input": "tlist = [0.:0.1:2*pi]",
     "language": "python",
     "metadata": {},
     "outputs": [
      {
       "metadata": {},
       "output_type": "pyout",
       "prompt_number": 12,
       "text": "63-element Array{Float64,1}:\n 0.0\n 0.1\n 0.2\n 0.3\n 0.4\n 0.5\n 0.6\n 0.7\n 0.8\n 0.9\n 1.0\n 1.1\n 1.2\n \u22ee  \n 5.1\n 5.2\n 5.3\n 5.4\n 5.5\n 5.6\n 5.7\n 5.8\n 5.9\n 6.0\n 6.1\n 6.2"
      }
     ],
     "prompt_number": 12
    },
    {
     "cell_type": "code",
     "collapsed": false,
     "input": "# Initialize the parameters and return the instantiated final_state which is to be populated\nfunction initialize(hamiltonian::QuMatrix, init_state::QuVector, tlist::Array)\n\n    # Initialize empty array of type `init_state`, to be populate with states at various time steps instances\n    final_state = Array(typeof(init_state),0)\n\n    # Size of the array is defined, for efficiency using `size_hint` method\n    sizehint(final_state,length(tlist))\n\n    # Push the initial state into final_state, as we start with the given and increment the time steps\n    push!(final_state, init_state)\n\n    return final_state\nend",
     "language": "python",
     "metadata": {},
     "outputs": [
      {
       "metadata": {},
       "output_type": "pyout",
       "prompt_number": 13,
       "text": "initialize (generic function with 1 method)"
      }
     ],
     "prompt_number": 13
    },
    {
     "cell_type": "markdown",
     "metadata": {},
     "source": "    For evaluating the outputs we store the intermediate states in final_state"
    },
    {
     "cell_type": "heading",
     "level": 3,
     "metadata": {},
     "source": "1. Euler Method"
    },
    {
     "cell_type": "markdown",
     "metadata": {},
     "source": "\nUsing the formula $\n\\newcommand{\\ud}[1]{{#1^{\\dagger}}} \n\\newcommand{\\bra}[1]{\\left\\langle #1\\right|} \n\\newcommand{\\ket}[1]{\\left| #1\\right\\rangle} \n\\newcommand\\Tr{\\mathrm{Tr}}\n\\ket{\\psi(t_{k+1})} = (\\mathbb{I}-iH\\vartriangle{t})\\ket{\\psi(t_{k})}$"
    },
    {
     "cell_type": "code",
     "collapsed": false,
     "input": "# Function to solve using Euler method\nfunction solver_Euler(hamiltonian::QuMatrix, init_state::QuVector, tlist::Array)\n\n    # Initailze the final_state using the convenience function `initialize`\n    final_state = initialize(hamiltonian, init_state, tlist)\n    \n    # Create a Queye for efficiency outside the loop\n    id = eye(hamiltonian)\n    \n    # Evaluate at every step and populate the final_state array using the formula\n    for i=2:length(tlist)\n        uni = id - im*hamiltonian*(tlist[i] - tlist[i-1])\n        push!(final_state, uni*final_state[i-1])\n    end    \n    return final_state\nend",
     "language": "python",
     "metadata": {},
     "outputs": [
      {
       "metadata": {},
       "output_type": "pyout",
       "prompt_number": 14,
       "text": "solver_Euler (generic function with 1 method)"
      }
     ],
     "prompt_number": 14
    },
    {
     "cell_type": "markdown",
     "metadata": {},
     "source": "Calling the function `solver_euler` with the defined inputs"
    },
    {
     "cell_type": "code",
     "collapsed": false,
     "input": "fs = solver_Euler(hamiltonian, init_state, tlist)",
     "language": "python",
     "metadata": {},
     "outputs": [
      {
       "metadata": {},
       "output_type": "pyout",
       "prompt_number": 15,
       "text": "63-element Array{QuArray{FiniteBasis{Orthonormal,1},Complex{Float64},1,Array{Complex{Float64},1}},1}:\n 2-element QuVector in FiniteBasis{Orthonormal,1}:\n...coefficients: Array{Complex{Float64},1}\nComplex{Float64}[0.5 + 0.0im,0.0 + 0.0im]                                \n 2-element QuVector in FiniteBasis{Orthonormal,1}:\n...coefficients: Array{Complex{Float64},1}\nComplex{Float64}[0.5 + 0.0im,0.0 - 0.05im]                               \n 2-element QuVector in FiniteBasis{Orthonormal,1}:\n...coefficients: Array{Complex{Float64},1}\nComplex{Float64}[0.495 + 0.0im,0.0 - 0.1im]                              \n 2-element QuVector in FiniteBasis{Orthonormal,1}:\n...coefficients: Array{Complex{Float64},1}\nComplex{Float64}[0.485 + 0.0im,0.0 - 0.14950000000000002im]              \n 2-element QuVector in FiniteBasis{Orthonormal,1}:\n...coefficients: Array{Complex{Float64},1}\nComplex{Float64}[0.47004999999999997 + 0.0im,0.0 - 0.198im]              \n 2-element QuVector in FiniteBasis{Orthonormal,1}:\n...coefficients: Array{Complex{Float64},1}\nComplex{Float64}[0.45025 + 0.0im,0.0 - 0.245005im]                       \n 2-element QuVector in FiniteBasis{Orthonormal,1}:\n...coefficients: Array{Complex{Float64},1}\nComplex{Float64}[0.42574949999999995 + 0.0im,0.0 - 0.29003im]            \n 2-element QuVector in FiniteBasis{Orthonormal,1}:\n...coefficients: Array{Complex{Float64},1}\nComplex{Float64}[0.39674649999999995 + 0.0im,0.0 - 0.33260495im]         \n 2-element QuVector in FiniteBasis{Orthonormal,1}:\n...coefficients: Array{Complex{Float64},1}\nComplex{Float64}[0.36348600499999995 + 0.0im,0.0 - 0.3722796im]          \n 2-element QuVector in FiniteBasis{Orthonormal,1}:\n...coefficients: Array{Complex{Float64},1}\nComplex{Float64}[0.32625804499999994 + 0.0im,0.0 - 0.4086282005im]       \n 2-element QuVector in FiniteBasis{Orthonormal,1}:\n...coefficients: Array{Complex{Float64},1}\nComplex{Float64}[0.28539522494999997 + 0.0im,0.0 - 0.44125400499999995im]\n 2-element QuVector in FiniteBasis{Orthonormal,1}:\n...coefficients: Array{Complex{Float64},1}\nComplex{Float64}[0.24126982444999995 + 0.0im,0.0 - 0.469793527495im]     \n 2-element QuVector in FiniteBasis{Orthonormal,1}:\n...coefficients: Array{Complex{Float64},1}\nComplex{Float64}[0.1942904717004999 + 0.0im,0.0 - 0.49392050994im]       \n \u22ee                                                                                                                                                                     \n 2-element QuVector in FiniteBasis{Orthonormal,1}:\n...coefficients: Array{Complex{Float64},1}\nComplex{Float64}[0.23345797607037855 + 0.0im,0.0 + 0.6006387503522417im] \n 2-element QuVector in FiniteBasis{Orthonormal,1}:\n...coefficients: Array{Complex{Float64},1}\nComplex{Float64}[0.29352185110560247 + 0.0im,0.0 + 0.5772929527452039im] \n 2-element QuVector in FiniteBasis{Orthonormal,1}:\n...coefficients: Array{Complex{Float64},1}\nComplex{Float64}[0.35125114638012317 + 0.0im,0.0 + 0.5479407676346435im] \n 2-element QuVector in FiniteBasis{Orthonormal,1}:\n...coefficients: Array{Complex{Float64},1}\nComplex{Float64}[0.4060452231435873 + 0.0im,0.0 + 0.5128156529966313im]  \n 2-element QuVector in FiniteBasis{Orthonormal,1}:\n...coefficients: Array{Complex{Float64},1}\nComplex{Float64}[0.45732678844325025 + 0.0im,0.0 + 0.4722111306822728im] \n 2-element QuVector in FiniteBasis{Orthonormal,1}:\n...coefficients: Array{Complex{Float64},1}\nComplex{Float64}[0.5045479015114778 + 0.0im,0.0 + 0.4264784518379475im]  \n 2-element QuVector in FiniteBasis{Orthonormal,1}:\n...coefficients: Array{Complex{Float64},1}\nComplex{Float64}[0.5471957466952724 + 0.0im,0.0 + 0.3760236616867999im]  \n 2-element QuVector in FiniteBasis{Orthonormal,1}:\n...coefficients: Array{Complex{Float64},1}\nComplex{Float64}[0.5847981128639526 + 0.0im,0.0 + 0.32130408701727237im] \n 2-element QuVector in FiniteBasis{Orthonormal,1}:\n...coefficients: Array{Complex{Float64},1}\nComplex{Float64}[0.6169285215656797 + 0.0im,0.0 + 0.2628242757308773im]  \n 2-element QuVector in FiniteBasis{Orthonormal,1}:\n...coefficients: Array{Complex{Float64},1}\nComplex{Float64}[0.6432109491387673 + 0.0im,0.0 + 0.20113142357430955im] \n 2-element QuVector in FiniteBasis{Orthonormal,1}:\n...coefficients: Array{Complex{Float64},1}\nComplex{Float64}[0.6633240914961984 + 0.0im,0.0 + 0.13681032866043247im] \n 2-element QuVector in FiniteBasis{Orthonormal,1}:\n...coefficients: Array{Complex{Float64},1}\nComplex{Float64}[0.6770051243622416 + 0.0im,0.0 + 0.07047791951081286im] "
      }
     ],
     "prompt_number": 15
    },
    {
     "cell_type": "heading",
     "level": 3,
     "metadata": {},
     "source": "2. Crank Nicholson Method"
    },
    {
     "cell_type": "markdown",
     "metadata": {},
     "source": "The initial conditions remain the same, i.e., the Hamiltonian, the initial state, and time array and we will be refering to the same."
    },
    {
     "cell_type": "markdown",
     "metadata": {},
     "source": "Similary using the convenience function `initialize` to setup the `final_state` and using the formula $\n\\newcommand{\\ud}[1]{{#1^{\\dagger}}} \n\\newcommand{\\bra}[1]{\\left\\langle #1\\right|} \n\\newcommand{\\ket}[1]{\\left| #1\\right\\rangle} \n\\newcommand\\Tr{\\mathrm{Tr}}\n[\\mathbb{I}+\\frac{iH\\vartriangle{t}}{2}]\\ket{\\psi(t_{k+1})} = [\\mathbb{I}-\\frac{iH\\vartriangle{t}}{2}]\\ket{\\psi(t_{k})}$"
    },
    {
     "cell_type": "code",
     "collapsed": false,
     "input": "# Function to solve using Euler method\nfunction solver_CN(hamiltonian::QuMatrix, init_state::QuVector, tlist::Array)\n\n    # Initailze the final_state using the convenience function `initialize`\n    final_state = initialize(hamiltonian, init_state, tlist)\n    \n    # Create a Queye for efficiency outside the loop\n    id = eye(hamiltonian)\n    \n    # Evaluate at every step and populate the final_state array using the formula\n    for i=2:length(tlist)\n        uni = id -(im*hamiltonian*(tlist[i]-tlist[i-1]))/2\n        push!(final_state, \\(uni',uni*final_state[i-1]))\n    end    \n    return final_state\nend",
     "language": "python",
     "metadata": {},
     "outputs": [
      {
       "metadata": {},
       "output_type": "pyout",
       "prompt_number": 22,
       "text": "solver_CN (generic function with 1 method)"
      }
     ],
     "prompt_number": 22
    },
    {
     "cell_type": "markdown",
     "metadata": {},
     "source": "Calling the function `solver_CN` with the defined inputs"
    },
    {
     "cell_type": "code",
     "collapsed": false,
     "input": "fs = solver_CN(hamiltonian, init_state, tlist)",
     "language": "python",
     "metadata": {},
     "outputs": [
      {
       "ename": "LoadError",
       "evalue": "`\\` has no method matching \\(::CTranspose{FiniteBasis{Orthonormal,1},Complex{Float64},2,Array{Complex{Float64},2}}, ::QuArray{FiniteBasis{Orthonormal,1},Complex{Float64},1,Array{Complex{Float64},1}})\nwhile loading In[23], in expression starting on line 1",
       "output_type": "pyerr",
       "traceback": [
        "`\\` has no method matching \\(::CTranspose{FiniteBasis{Orthonormal,1},Complex{Float64},2,Array{Complex{Float64},2}}, ::QuArray{FiniteBasis{Orthonormal,1},Complex{Float64},1,Array{Complex{Float64},1}})\nwhile loading In[23], in expression starting on line 1",
        "",
        " in Ac_ldiv_B at operators.jl:154",
        " in solver_CN at In[22]:13"
       ]
      }
     ],
     "prompt_number": 23
    }
   ],
   "metadata": {}
  }
 ]
}
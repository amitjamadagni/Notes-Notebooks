{
 "metadata": {
  "name": ""
 },
 "nbformat": 3,
 "nbformat_minor": 0,
 "worksheets": [
  {
   "cells": [
    {
     "cell_type": "code",
     "collapsed": false,
     "input": [
      "using QuBase\n",
      "using QuDynamics\n",
      "using BenchmarkLite"
     ],
     "language": "python",
     "metadata": {},
     "outputs": [],
     "prompt_number": 1
    },
    {
     "cell_type": "code",
     "collapsed": false,
     "input": [
      "type SampleProc{Alg} <: Proc end"
     ],
     "language": "python",
     "metadata": {},
     "outputs": [],
     "prompt_number": 2
    },
    {
     "cell_type": "markdown",
     "metadata": {},
     "source": [
      "Quantum Harmonic Oscillator type `HarmonicOscillator`.\n",
      "The type construct takes in the parameters which are used\n",
      "for constructing the various configuration used for benchmarking."
     ]
    },
    {
     "cell_type": "code",
     "collapsed": false,
     "input": [
      "type HarmonicOscillator\n",
      "    N::Int\n",
      "    lambda\n",
      "    tlist\n",
      "end"
     ],
     "language": "python",
     "metadata": {},
     "outputs": [],
     "prompt_number": 4
    },
    {
     "cell_type": "markdown",
     "metadata": {},
     "source": [
      "Name of the solver, used in the creating the table of timing analysis"
     ]
    },
    {
     "cell_type": "code",
     "collapsed": false,
     "input": [
      "Base.string{Alg}(::SampleProc{Alg}) = lowercase(string(Alg))"
     ],
     "language": "python",
     "metadata": {},
     "outputs": [
      {
       "metadata": {},
       "output_type": "pyout",
       "prompt_number": 5,
       "text": [
        "string (generic function with 9 methods)"
       ]
      }
     ],
     "prompt_number": 5
    },
    {
     "cell_type": "markdown",
     "metadata": {},
     "source": [
      "Constructing a valid configuration, this is set to `true` as we have\n",
      "set the type of the required fields in the construct of `HarmonicOscillator` itself."
     ]
    },
    {
     "cell_type": "code",
     "collapsed": false,
     "input": [
      "Base.isvalid{Alg}(p::SampleProc{Alg}, cfg::HarmonicOscillator) = true"
     ],
     "language": "python",
     "metadata": {},
     "outputs": [
      {
       "metadata": {},
       "output_type": "pyout",
       "prompt_number": 6,
       "text": [
        "isvalid (generic function with 23 methods)"
       ]
      }
     ],
     "prompt_number": 6
    },
    {
     "cell_type": "markdown",
     "metadata": {},
     "source": [
      "This returns the `hamitlonian`, `initial state`, `observable whose expectation value is to be calculated` taking in the `cfg` configuration of the system."
     ]
    },
    {
     "cell_type": "code",
     "collapsed": false,
     "input": [
      "function operator_set(p::SampleProc, cfg::HarmonicOscillator)\n",
      "    a = lowerop(cfg.N)\n",
      "    hamiltonian = a'*a + cfg.lambda*(a + a')\n",
      "    init_state = complex(statevec(1,FiniteBasis(cfg.N)))\n",
      "    return hamiltonian, init_state, a+a'\n",
      "end"
     ],
     "language": "python",
     "metadata": {},
     "outputs": [
      {
       "metadata": {},
       "output_type": "pyout",
       "prompt_number": 7,
       "text": [
        "operator_set (generic function with 1 method)"
       ]
      }
     ],
     "prompt_number": 7
    },
    {
     "cell_type": "markdown",
     "metadata": {},
     "source": [
      "Start states are pre-allocated, that is they are constructed before the evaluation,\n",
      "here we return the `hamiltonian`, `initial state`, `observable whose expectation is to be calculated` using the above function i.e., `operator_set`. The first two remain fixed, the third can be varied as required."
     ]
    },
    {
     "cell_type": "code",
     "collapsed": false,
     "input": [
      "Base.start(p::SampleProc, cfg::HarmonicOscillator) = (operator_set(p, cfg))\n",
      "Base.length(p::SampleProc, cfg::HarmonicOscillator) = cfg.N"
     ],
     "language": "python",
     "metadata": {},
     "outputs": [
      {
       "metadata": {},
       "output_type": "pyout",
       "prompt_number": 8,
       "text": [
        "length (generic function with 48 methods)"
       ]
      }
     ],
     "prompt_number": 8
    },
    {
     "cell_type": "code",
     "collapsed": false,
     "input": [
      "function Base.run{Alg}(p::SampleProc{Alg}, cfg::HarmonicOscillator, s::(QuBase.QuArray, QuBase.QuArray, QuBase.QuArray))\n",
      "    qprop = QuPropagator(s[1], s[2], cfg.tlist, Alg())\n",
      "    for (t, psi) in qprop\n",
      "        psi'*s[3]*psi\n",
      "    end\n",
      "end"
     ],
     "language": "python",
     "metadata": {},
     "outputs": [
      {
       "metadata": {},
       "output_type": "pyout",
       "prompt_number": 9,
       "text": [
        "run (generic function with 4 methods)"
       ]
      }
     ],
     "prompt_number": 9
    },
    {
     "cell_type": "code",
     "collapsed": false,
     "input": [
      "Base.done(p::SampleProc, cfg, s) = nothing"
     ],
     "language": "python",
     "metadata": {},
     "outputs": [
      {
       "metadata": {},
       "output_type": "pyout",
       "prompt_number": 10,
       "text": [
        "done (generic function with 38 methods)"
       ]
      }
     ],
     "prompt_number": 10
    },
    {
     "cell_type": "markdown",
     "metadata": {},
     "source": [
      "Creating the `array` of methods on which benchmarks have to be performed"
     ]
    },
    {
     "cell_type": "code",
     "collapsed": false,
     "input": [
      "procs = Proc[ SampleProc{QuExpmV}(),\n",
      "              SampleProc{QuExpokit}(),\n",
      "              SampleProc{QuODE45}(),\n",
      "              SampleProc{QuODE78}(),\n",
      "              SampleProc{QuODE23s}(),\n",
      "              SampleProc{QuKrylov}(),\n",
      "              SampleProc{QuCrankNicolson}(),\n",
      "              SampleProc{QuEuler}()]"
     ],
     "language": "python",
     "metadata": {},
     "outputs": [
      {
       "metadata": {},
       "output_type": "pyout",
       "prompt_number": 12,
       "text": [
        "8-element Array{Proc,1}:\n",
        " SampleProc{QuExpmV}()        \n",
        " SampleProc{QuExpokit}()      \n",
        " SampleProc{QuODE45}()        \n",
        " SampleProc{QuODE78}()        \n",
        " SampleProc{QuODE23s}()       \n",
        " SampleProc{QuKrylov}()       \n",
        " SampleProc{QuCrankNicolson}()\n",
        " SampleProc{QuEuler}()        "
       ]
      }
     ],
     "prompt_number": 12
    },
    {
     "cell_type": "markdown",
     "metadata": {},
     "source": [
      "Setting up various configurations"
     ]
    },
    {
     "cell_type": "code",
     "collapsed": false,
     "input": [
      "cfgs = HarmonicOscillator[HarmonicOscillator(2, 0.3, 0.:0.1:2*pi),\n",
      "        HarmonicOscillator(3, 0.3, 0.:0.1:2*pi),\n",
      "        HarmonicOscillator(6, 0.3, 0.:0.1:2*pi),\n",
      "        HarmonicOscillator(10, 0.3, 0.:0.1:2*pi),\n",
      "        HarmonicOscillator(12, 0.3, 0.:0.1:2*pi)]"
     ],
     "language": "python",
     "metadata": {},
     "outputs": [
      {
       "metadata": {},
       "output_type": "pyout",
       "prompt_number": 13,
       "text": [
        "5-element Array{HarmonicOscillator,1}:\n",
        " HarmonicOscillator(2,0.3,0.0:0.1:6.2) \n",
        " HarmonicOscillator(3,0.3,0.0:0.1:6.2) \n",
        " HarmonicOscillator(6,0.3,0.0:0.1:6.2) \n",
        " HarmonicOscillator(10,0.3,0.0:0.1:6.2)\n",
        " HarmonicOscillator(12,0.3,0.0:0.1:6.2)"
       ]
      }
     ],
     "prompt_number": 13
    },
    {
     "cell_type": "markdown",
     "metadata": {},
     "source": [
      "Generating the timing analysis"
     ]
    },
    {
     "cell_type": "code",
     "collapsed": false,
     "input": [
      "rtable = run(procs, cfgs)"
     ],
     "language": "python",
     "metadata": {},
     "outputs": [
      {
       "output_type": "stream",
       "stream": "stdout",
       "text": [
        "Benchmarking quexpmv ...\n"
       ]
      },
      {
       "output_type": "stream",
       "stream": "stdout",
       "text": [
        "  quexpmv with cfg = HarmonicOscillator(2,0.3,0.0:0.1:6.2): nruns = 194, elapsed = 1.450821488 secs"
       ]
      },
      {
       "output_type": "stream",
       "stream": "stdout",
       "text": [
        "\n",
        "  quexpmv with cfg = HarmonicOscillator(3,0.3,0.0:0.1:6.2): nruns = 143, elapsed = 1.159871045 secs"
       ]
      },
      {
       "output_type": "stream",
       "stream": "stdout",
       "text": [
        "\n",
        "  quexpmv with cfg = HarmonicOscillator(6,0.3,0.0:0.1:6.2): nruns = 26, elapsed = 0.198522652 secs"
       ]
      },
      {
       "output_type": "stream",
       "stream": "stdout",
       "text": [
        "\n",
        "  quexpmv with cfg = HarmonicOscillator(10,0.3,0.0:0.1:6.2): nruns = 112, elapsed = 0.971997858 secs"
       ]
      },
      {
       "output_type": "stream",
       "stream": "stdout",
       "text": [
        "\n",
        "  quexpmv with cfg = HarmonicOscillator(12,0.3,0.0:0.1:6.2): nruns = 117, elapsed = 1.01159493 secs"
       ]
      },
      {
       "output_type": "stream",
       "stream": "stdout",
       "text": [
        "\n",
        "Benchmarking quexpokit ...\n",
        "  quexpokit with cfg = HarmonicOscillator(2,0.3,0.0:0.1:6.2): nruns = 396, elapsed = 1.199766248 secs"
       ]
      },
      {
       "output_type": "stream",
       "stream": "stdout",
       "text": [
        "\n",
        "  quexpokit with cfg = HarmonicOscillator(3,0.3,0.0:0.1:6.2): nruns = 317, elapsed = 1.416436087 secs"
       ]
      },
      {
       "output_type": "stream",
       "stream": "stdout",
       "text": [
        "\n",
        "  quexpokit with cfg = HarmonicOscillator(6,0.3,0.0:0.1:6.2): nruns = 78, elapsed = 0.943051172 secs"
       ]
      },
      {
       "output_type": "stream",
       "stream": "stdout",
       "text": [
        "\n",
        "  quexpokit with cfg = HarmonicOscillator(10,0.3,0.0:0.1:6.2): nruns = 65, elapsed = 1.575206978 secs"
       ]
      },
      {
       "output_type": "stream",
       "stream": "stdout",
       "text": [
        "\n",
        "  quexpokit with cfg = HarmonicOscillator(12,0.3,0.0:0.1:6.2): nruns = 16, elapsed = 0.671664613 secs"
       ]
      },
      {
       "output_type": "stream",
       "stream": "stdout",
       "text": [
        "\n",
        "Benchmarking quode45 ...\n",
        "  quode45 with cfg = HarmonicOscillator(2,0.3,0.0:0.1:6.2): nruns = 559, elapsed = 1.400995813 secs"
       ]
      },
      {
       "output_type": "stream",
       "stream": "stdout",
       "text": [
        "\n",
        "  quode45 with cfg = HarmonicOscillator(3,0.3,0.0:0.1:6.2): nruns = 459, elapsed = 1.269435999 secs"
       ]
      },
      {
       "output_type": "stream",
       "stream": "stdout",
       "text": [
        "\n",
        "  quode45 with cfg = HarmonicOscillator(6,0.3,0.0:0.1:6.2): nruns = 402, elapsed = 1.379772741 secs"
       ]
      },
      {
       "output_type": "stream",
       "stream": "stdout",
       "text": [
        "\n",
        "  quode45 with cfg = HarmonicOscillator(10,0.3,0.0:0.1:6.2): nruns = 341, elapsed = 1.583710164 secs"
       ]
      },
      {
       "output_type": "stream",
       "stream": "stdout",
       "text": [
        "\n",
        "  quode45 with cfg = HarmonicOscillator(12,0.3,0.0:0.1:6.2): nruns = 177, elapsed = 0.860790443 secs"
       ]
      },
      {
       "output_type": "stream",
       "stream": "stdout",
       "text": [
        "\n",
        "Benchmarking quode78 ...\n",
        "  quode78 with cfg = HarmonicOscillator(2,0.3,0.0:0.1:6.2): nruns = 644, elapsed = 1.332564593 secs"
       ]
      },
      {
       "output_type": "stream",
       "stream": "stdout",
       "text": [
        "\n",
        "  quode78 with cfg = HarmonicOscillator(3,0.3,0.0:0.1:6.2): nruns = 58, elapsed = 0.126008645 secs"
       ]
      },
      {
       "output_type": "stream",
       "stream": "stdout",
       "text": [
        "\n",
        "  quode78 with cfg = HarmonicOscillator(6,0.3,0.0:0.1:6.2): nruns = 504, elapsed = 1.369195673 secs"
       ]
      },
      {
       "output_type": "stream",
       "stream": "stdout",
       "text": [
        "\n",
        "  quode78 with cfg = HarmonicOscillator(10,0.3,0.0:0.1:6.2): nruns = 250, elapsed = 0.820405312 secs"
       ]
      },
      {
       "output_type": "stream",
       "stream": "stdout",
       "text": [
        "\n",
        "  quode78 with cfg = HarmonicOscillator(12,0.3,0.0:0.1:6.2): nruns = 236, elapsed = 0.941828584 secs"
       ]
      },
      {
       "output_type": "stream",
       "stream": "stdout",
       "text": [
        "\n",
        "Benchmarking quode23s ...\n",
        "  quode23s with cfg = HarmonicOscillator(2,0.3,0.0:0.1:6.2): nruns = 135, elapsed = 0.756174403 secs"
       ]
      },
      {
       "output_type": "stream",
       "stream": "stdout",
       "text": [
        "\n",
        "  quode23s with cfg = HarmonicOscillator(3,0.3,0.0:0.1:6.2): nruns = 224, elapsed = 1.438662479 secs"
       ]
      },
      {
       "output_type": "stream",
       "stream": "stdout",
       "text": [
        "\n",
        "  quode23s with cfg = HarmonicOscillator(6,0.3,0.0:0.1:6.2): nruns = 29, elapsed = 0.25800538 secs"
       ]
      },
      {
       "output_type": "stream",
       "stream": "stdout",
       "text": [
        "\n",
        "  quode23s with cfg = HarmonicOscillator(10,0.3,0.0:0.1:6.2): nruns = 64, elapsed = 2.327919283 secs"
       ]
      },
      {
       "output_type": "stream",
       "stream": "stdout",
       "text": [
        "\n",
        "  quode23s with cfg = HarmonicOscillator(12,0.3,0.0:0.1:6.2): nruns = 12, elapsed = 0.337286684 secs"
       ]
      },
      {
       "output_type": "stream",
       "stream": "stdout",
       "text": [
        "\n",
        "Benchmarking qukrylov ...\n",
        "  qukrylov with cfg = HarmonicOscillator(2,0.3,0.0:0.1:6.2): nruns = 142, elapsed = 0.819750861 secs"
       ]
      },
      {
       "output_type": "stream",
       "stream": "stdout",
       "text": [
        "\n",
        "  qukrylov with cfg = HarmonicOscillator(3,0.3,0.0:0.1:6.2): nruns = 114, elapsed = 1.181097035 secs"
       ]
      },
      {
       "output_type": "stream",
       "stream": "stdout",
       "text": [
        "\n",
        "  qukrylov with cfg = HarmonicOscillator(6,0.3,0.0:0.1:6.2): nruns = 50, elapsed = 1.909951609 secs"
       ]
      },
      {
       "output_type": "stream",
       "stream": "stdout",
       "text": [
        "\n",
        "  qukrylov with cfg = HarmonicOscillator(10,0.3,0.0:0.1:6.2): nruns = 17, elapsed = 1.226601423 secs"
       ]
      },
      {
       "output_type": "stream",
       "stream": "stdout",
       "text": [
        "\n",
        "  qukrylov with cfg = HarmonicOscillator(12,0.3,0.0:0.1:6.2): nruns = 16, elapsed = 1.21544021 secs"
       ]
      },
      {
       "output_type": "stream",
       "stream": "stdout",
       "text": [
        "\n",
        "Benchmarking qucranknicolson ...\n",
        "  qucranknicolson with cfg = HarmonicOscillator(2,0.3,0.0:0.1:6.2): nruns = 623, elapsed = 1.198090873 secs"
       ]
      },
      {
       "output_type": "stream",
       "stream": "stdout",
       "text": [
        "\n",
        "  qucranknicolson with cfg = HarmonicOscillator(3,0.3,0.0:0.1:6.2): nruns = 310, elapsed = 0.581644339 secs"
       ]
      },
      {
       "output_type": "stream",
       "stream": "stdout",
       "text": [
        "\n",
        "  qucranknicolson with cfg = HarmonicOscillator(6,0.3,0.0:0.1:6.2): nruns = 291, elapsed = 0.657372431 secs"
       ]
      },
      {
       "output_type": "stream",
       "stream": "stdout",
       "text": [
        "\n",
        "  qucranknicolson with cfg = HarmonicOscillator(10,0.3,0.0:0.1:6.2): nruns = 121, elapsed = 1.077298678 secs"
       ]
      },
      {
       "output_type": "stream",
       "stream": "stdout",
       "text": [
        "\n",
        "  qucranknicolson with cfg = HarmonicOscillator(12,0.3,0.0:0.1:6.2): nruns = 113, elapsed = 1.367383211 secs"
       ]
      },
      {
       "output_type": "stream",
       "stream": "stdout",
       "text": [
        "\n",
        "Benchmarking queuler ...\n",
        "  queuler with cfg = HarmonicOscillator(2,0.3,0.0:0.1:6.2): nruns = 831, elapsed = 1.140598345 secs"
       ]
      },
      {
       "output_type": "stream",
       "stream": "stdout",
       "text": [
        "\n",
        "  queuler with cfg = HarmonicOscillator(3,0.3,0.0:0.1:6.2): nruns = 809, elapsed = 1.164720698 secs"
       ]
      },
      {
       "output_type": "stream",
       "stream": "stdout",
       "text": [
        "\n",
        "  queuler with cfg = HarmonicOscillator(6,0.3,0.0:0.1:6.2): nruns = 391, elapsed = 0.616015675 secs"
       ]
      },
      {
       "output_type": "stream",
       "stream": "stdout",
       "text": [
        "\n",
        "  queuler with cfg = HarmonicOscillator(10,0.3,0.0:0.1:6.2): nruns = 341, elapsed = 0.685974528 secs"
       ]
      },
      {
       "output_type": "stream",
       "stream": "stdout",
       "text": [
        "\n",
        "  queuler with cfg = HarmonicOscillator(12,0.3,0.0:0.1:6.2): nruns = 566, elapsed = 1.276092035 secs"
       ]
      },
      {
       "output_type": "stream",
       "stream": "stdout",
       "text": [
        "\n"
       ]
      },
      {
       "metadata": {},
       "output_type": "pyout",
       "prompt_number": 14,
       "text": [
        "BenchmarkTable [unit = sec]\n",
        "config                                 |  quexpmv  quexpokit  quode45  quode78  quode23s  qukrylov  qucranknicolson  queuler  \n",
        "------------------------------------------------------------------------------------------------------------------------------\n",
        "HarmonicOscillator(2,0.3,0.0:0.1:6.2)  |   0.0075     0.0030   0.0025   0.0021    0.0056    0.0058           0.0019   0.0014  \n",
        "HarmonicOscillator(3,0.3,0.0:0.1:6.2)  |   0.0081     0.0045   0.0028   0.0022    0.0064    0.0104           0.0019   0.0014  \n",
        "HarmonicOscillator(6,0.3,0.0:0.1:6.2)  |   0.0076     0.0121   0.0034   0.0027    0.0089    0.0382           0.0023   0.0016  \n",
        "HarmonicOscillator(10,0.3,0.0:0.1:6.2) |   0.0087     0.0242   0.0046   0.0033    0.0364    0.0722           0.0089   0.0020  \n",
        "HarmonicOscillator(12,0.3,0.0:0.1:6.2) |   0.0086     0.0420   0.0049   0.0040    0.0281    0.0760           0.0121   0.0023  \n"
       ]
      }
     ],
     "prompt_number": 14
    },
    {
     "cell_type": "code",
     "collapsed": false,
     "input": [
      "show(rtable; unit=:usec)"
     ],
     "language": "python",
     "metadata": {},
     "outputs": [
      {
       "output_type": "stream",
       "stream": "stdout",
       "text": [
        "BenchmarkTable [unit = usec]\n"
       ]
      },
      {
       "output_type": "stream",
       "stream": "stdout",
       "text": [
        "config                                 |    quexpmv   quexpokit    quode45    quode78    quode23s    qukrylov  qucranknicolson    queuler  \n",
        "-------------------------------------------------------------------------------------------------------------------------------------------\n",
        "HarmonicOscillator(2,0.3,0.0:0.1:6.2)  |  7478.4613   3029.7127  2506.2537  2069.1997   5601.2919   5772.8934        1923.0993  1372.5612  \n",
        "HarmonicOscillator(3,0.3,0.0:0.1:6.2)  |  8110.9863   4468.2526  2765.6558  2172.5628   6422.6004  10360.5003        1876.2721  1439.7042  \n",
        "HarmonicOscillator(6,0.3,0.0:0.1:6.2)  |  7635.4866  12090.3996  3432.2705  2716.6581   8896.7372  38199.0322        2259.0118  1575.4877  \n",
        "HarmonicOscillator(10,0.3,0.0:0.1:6.2) |  8678.5523  24233.9535  4644.3113  3281.6212  36373.7388  72153.0249        8903.2949  2011.6555  \n",
        "HarmonicOscillator(12,0.3,0.0:0.1:6.2) |  8646.1105  41979.0383  4863.2228  3990.7991  28107.2237  75965.0131       12100.7364  2254.5796  \n"
       ]
      }
     ],
     "prompt_number": 15
    },
    {
     "cell_type": "code",
     "collapsed": false,
     "input": [],
     "language": "python",
     "metadata": {},
     "outputs": []
    }
   ],
   "metadata": {}
  }
 ]
}
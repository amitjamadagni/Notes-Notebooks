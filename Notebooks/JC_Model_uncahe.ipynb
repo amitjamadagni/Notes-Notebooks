{
 "cells": [
  {
   "cell_type": "code",
   "execution_count": 1,
   "metadata": {
    "collapsed": true
   },
   "outputs": [],
   "source": [
    "require(\"/home/amit/Downloads/SemVII/QuBase.jl/src/QuBase.jl\")\n",
    "using QuBase\n",
    "require(\"/home/amit/Downloads/SemVII/QuDynamics.jl/src/QuDynamics.jl\")\n",
    "using QuDynamics\n",
    "using BenchmarkLite"
   ]
  },
  {
   "cell_type": "code",
   "execution_count": 2,
   "metadata": {
    "collapsed": true
   },
   "outputs": [],
   "source": [
    "type SampleProc{Alg} <: Proc end"
   ]
  },
  {
   "cell_type": "code",
   "execution_count": 3,
   "metadata": {
    "collapsed": true
   },
   "outputs": [],
   "source": [
    "type JaynesCummings\n",
    "    N::Int\n",
    "    wc::Float64\n",
    "    wa::Float64\n",
    "    g::Float64\n",
    "    kappa::Float64\n",
    "    gamma::Float64\n",
    "    use_rwa::Bool\n",
    "    ntraj\n",
    "    tlist\n",
    "end"
   ]
  },
  {
   "cell_type": "code",
   "execution_count": 4,
   "metadata": {
    "collapsed": false
   },
   "outputs": [
    {
     "data": {
      "text/plain": [
       "string (generic function with 9 methods)"
      ]
     },
     "execution_count": 4,
     "metadata": {},
     "output_type": "execute_result"
    }
   ],
   "source": [
    "Base.string{Alg}(::SampleProc{Alg}) = lowercase(string(Alg))"
   ]
  },
  {
   "cell_type": "code",
   "execution_count": 5,
   "metadata": {
    "collapsed": false
   },
   "outputs": [
    {
     "data": {
      "text/plain": [
       "isvalid (generic function with 23 methods)"
      ]
     },
     "execution_count": 5,
     "metadata": {},
     "output_type": "execute_result"
    }
   ],
   "source": [
    "Base.isvalid{Alg}(p::SampleProc{Alg}, cfg::JaynesCummings) = true"
   ]
  },
  {
   "cell_type": "code",
   "execution_count": 6,
   "metadata": {
    "collapsed": false
   },
   "outputs": [
    {
     "data": {
      "text/plain": [
       "operator_set (generic function with 1 method)"
      ]
     },
     "execution_count": 6,
     "metadata": {},
     "output_type": "execute_result"
    }
   ],
   "source": [
    "function operator_set(p::SampleProc, cfg::JaynesCummings)\n",
    "    idc = QuArray(eye(cfg.N))\n",
    "    ida = QuArray(eye(2))\n",
    "    a  = tensor(lowerop(cfg.N), ida)\n",
    "    sm = tensor(idc, lowerop(2))\n",
    "    if cfg.use_rwa\n",
    "        H = cfg.wc * a' * a + cfg.wa * sm' * sm + cfg.g * (a' * sm + a * sm')\n",
    "    else\n",
    "        H = cfg.wc * a' * a + cfg.wa * sm' * sm + cfg.g * (a' + a) * (sm + sm')\n",
    "    end\n",
    "    c_op_list = Array(QuBase.AbstractQuMatrix, 0)\n",
    "    n_th_a = 0.0\n",
    "    rate_1 = cfg.kappa * (1 + n_th_a)\n",
    "    if rate_1 > 0.0\n",
    "        push!(c_op_list, full(sqrt(rate_1) * a))\n",
    "    end\n",
    "    rate = cfg.kappa * n_th_a\n",
    "    if rate > 0.0\n",
    "        push!(c_op_list, full(sqrt(rate) * a'))\n",
    "    end\n",
    "    rate = cfg.gamma\n",
    "    if rate > 0.0\n",
    "        push!(c_op_list, full(sqrt(rate) * sm))\n",
    "    end\n",
    "    psi = complex(tensor(statevec(1, FiniteBasis(cfg.N)), statevec(2, FiniteBasis(2))))\n",
    "    rho = psi*psi'\n",
    "    qumcwfen = QuMCWFEnsemble(complex(psi), cfg.ntraj)\n",
    "    rhos = Array(typeof(rho), length(cfg.tlist)-1)\n",
    "    for i=1:length(cfg.tlist)-1\n",
    "        rhos[i] = complex(zeros(rho))\n",
    "    end\n",
    "    return full(H), c_op_list, qumcwfen, rhos\n",
    "end\n"
   ]
  },
  {
   "cell_type": "code",
   "execution_count": 7,
   "metadata": {
    "collapsed": false
   },
   "outputs": [
    {
     "data": {
      "text/plain": [
       "start (generic function with 37 methods)"
      ]
     },
     "execution_count": 7,
     "metadata": {},
     "output_type": "execute_result"
    }
   ],
   "source": [
    "Base.start(p::SampleProc, cfg::JaynesCummings) = (operator_set(p, cfg))"
   ]
  },
  {
   "cell_type": "code",
   "execution_count": 8,
   "metadata": {
    "collapsed": false
   },
   "outputs": [
    {
     "data": {
      "text/plain": [
       "length (generic function with 50 methods)"
      ]
     },
     "execution_count": 8,
     "metadata": {},
     "output_type": "execute_result"
    }
   ],
   "source": [
    "Base.length(p::SampleProc, cfg::JaynesCummings) = cfg.N"
   ]
  },
  {
   "cell_type": "code",
   "execution_count": 9,
   "metadata": {
    "collapsed": false
   },
   "outputs": [
    {
     "data": {
      "text/plain": [
       "run (generic function with 4 methods)"
      ]
     },
     "execution_count": 9,
     "metadata": {},
     "output_type": "execute_result"
    }
   ],
   "source": [
    "function Base.run{Alg}(p::SampleProc{Alg}, cfg::JaynesCummings, s::(QuBase.QuArray, Array, QuDynamics.QuMCWFEnsemble, Array))\n",
    "    for psi0 in s[3]\n",
    "        i = 1\n",
    "        for (t,psi) in QuPropagator(s[1], s[2], psi0, cfg.tlist, Alg())\n",
    "            s[4][i] = s[4][i] + (psi*psi')/length(s[3])/norm(psi)^2\n",
    "            i = i + 1\n",
    "        end\n",
    "    end\n",
    "end"
   ]
  },
  {
   "cell_type": "code",
   "execution_count": 10,
   "metadata": {
    "collapsed": false
   },
   "outputs": [
    {
     "data": {
      "text/plain": [
       "done (generic function with 40 methods)"
      ]
     },
     "execution_count": 10,
     "metadata": {},
     "output_type": "execute_result"
    }
   ],
   "source": [
    "Base.done(p::SampleProc, cfg, s) = nothing"
   ]
  },
  {
   "cell_type": "code",
   "execution_count": 11,
   "metadata": {
    "collapsed": false
   },
   "outputs": [
    {
     "data": {
      "text/plain": [
       "1-element Array{Proc,1}:\n",
       " SampleProc{QuMCWF}()"
      ]
     },
     "execution_count": 11,
     "metadata": {},
     "output_type": "execute_result"
    }
   ],
   "source": [
    "procs = Proc[ SampleProc{QuMCWF}()]"
   ]
  },
  {
   "cell_type": "code",
   "execution_count": 12,
   "metadata": {
    "collapsed": false
   },
   "outputs": [
    {
     "data": {
      "text/plain": [
       "16-element Array{JaynesCummings,1}:\n",
       " JaynesCummings(2,6.283185307179586,6.283185307179586,0.3141592653589793,0.05,0.15,true,200,0.0:0.1:6.2)                   \n",
       " JaynesCummings(3,6.283185307179586,6.283185307179586,0.3141592653589793,0.05,0.15,true,300,0.0:0.1:6.2)                   \n",
       " JaynesCummings(6,6.283185307179586,6.283185307179586,0.3141592653589793,0.05,0.15,true,400,0.0:0.1:6.2)                   \n",
       " JaynesCummings(10,6.283185307179586,6.283185307179586,0.3141592653589793,0.05,0.15,true,500,0.0:0.1:6.2)                  \n",
       " JaynesCummings(2,6.283185307179586,6.283185307179586,0.3141592653589793,0.05,0.15,false,200,0.0:0.1:6.2)                  \n",
       " JaynesCummings(3,6.283185307179586,6.283185307179586,0.3141592653589793,0.05,0.15,false,300,0.0:0.1:6.2)                  \n",
       " JaynesCummings(6,6.283185307179586,6.283185307179586,0.3141592653589793,0.05,0.15,false,400,0.0:0.1:6.2)                  \n",
       " JaynesCummings(10,6.283185307179586,6.283185307179586,0.3141592653589793,0.05,0.15,false,500,0.0:0.1:6.2)                 \n",
       " JaynesCummings(2,6.283185307179586,6.283185307179586,0.3141592653589793,0.05,0.15,true,200,0.0:0.20134228187919462:30.0)  \n",
       " JaynesCummings(3,6.283185307179586,6.283185307179586,0.3141592653589793,0.05,0.15,true,300,0.0:0.20134228187919462:30.0)  \n",
       " JaynesCummings(6,6.283185307179586,6.283185307179586,0.3141592653589793,0.05,0.15,true,400,0.0:0.20134228187919462:30.0)  \n",
       " JaynesCummings(10,6.283185307179586,6.283185307179586,0.3141592653589793,0.05,0.15,true,500,0.0:0.20134228187919462:30.0) \n",
       " JaynesCummings(2,6.283185307179586,6.283185307179586,0.3141592653589793,0.05,0.15,false,200,0.0:0.20134228187919462:30.0) \n",
       " JaynesCummings(3,6.283185307179586,6.283185307179586,0.3141592653589793,0.05,0.15,false,300,0.0:0.20134228187919462:30.0) \n",
       " JaynesCummings(6,6.283185307179586,6.283185307179586,0.3141592653589793,0.05,0.15,false,400,0.0:0.20134228187919462:30.0) \n",
       " JaynesCummings(10,6.283185307179586,6.283185307179586,0.3141592653589793,0.05,0.15,false,500,0.0:0.20134228187919462:30.0)"
      ]
     },
     "execution_count": 12,
     "metadata": {},
     "output_type": "execute_result"
    }
   ],
   "source": [
    "cfgs = JaynesCummings[JaynesCummings(2, 1.0 * 2 * pi, 1.0 * 2 * pi, 0.05 * 2 * pi, 0.05, 0.15, true, 200, 0.:0.1:2*pi),\n",
    "                      JaynesCummings(3, 1.0 * 2 * pi, 1.0 * 2 * pi, 0.05 * 2 * pi, 0.05, 0.15, true, 300, 0.:0.1:2*pi),\n",
    "                      JaynesCummings(6, 1.0 * 2 * pi, 1.0 * 2 * pi, 0.05 * 2 * pi, 0.05, 0.15, true, 400, 0.:0.1:2*pi),\n",
    "                      JaynesCummings(10, 1.0 * 2 * pi, 1.0 * 2 * pi, 0.05 * 2 * pi, 0.05, 0.15, true, 500, 0.:0.1:2*pi),\n",
    "                      JaynesCummings(2, 1.0 * 2 * pi, 1.0 * 2 * pi, 0.05 * 2 * pi, 0.05, 0.15, false, 200, 0.:0.1:2*pi),\n",
    "                      JaynesCummings(3, 1.0 * 2 * pi, 1.0 * 2 * pi, 0.05 * 2 * pi, 0.05, 0.15, false, 300, 0.:0.1:2*pi),\n",
    "                      JaynesCummings(6, 1.0 * 2 * pi, 1.0 * 2 * pi, 0.05 * 2 * pi, 0.05, 0.15, false, 400, 0.:0.1:2*pi),\n",
    "                      JaynesCummings(10, 1.0 * 2 * pi, 1.0 * 2 * pi, 0.05 * 2 * pi, 0.05, 0.15, false, 500, 0.:0.1:2*pi),\n",
    "                      JaynesCummings(2, 1.0 * 2 * pi, 1.0 * 2 * pi, 0.05 * 2 * pi, 0.05, 0.15, true, 200, 0.0:0.20134228187919462:30.0),\n",
    "                      JaynesCummings(3, 1.0 * 2 * pi, 1.0 * 2 * pi, 0.05 * 2 * pi, 0.05, 0.15, true, 300, 0.0:0.20134228187919462:30.0),\n",
    "                      JaynesCummings(6, 1.0 * 2 * pi, 1.0 * 2 * pi, 0.05 * 2 * pi, 0.05, 0.15, true, 400, 0.0:0.20134228187919462:30.0),\n",
    "                      JaynesCummings(10, 1.0 * 2 * pi, 1.0 * 2 * pi, 0.05 * 2 * pi, 0.05, 0.15, true, 500, 0.0:0.20134228187919462:30.0),\n",
    "                      JaynesCummings(2, 1.0 * 2 * pi, 1.0 * 2 * pi, 0.05 * 2 * pi, 0.05, 0.15, false, 200, 0.0:0.20134228187919462:30.0),\n",
    "                      JaynesCummings(3, 1.0 * 2 * pi, 1.0 * 2 * pi, 0.05 * 2 * pi, 0.05, 0.15, false, 300, 0.0:0.20134228187919462:30.0),\n",
    "                      JaynesCummings(6, 1.0 * 2 * pi, 1.0 * 2 * pi, 0.05 * 2 * pi, 0.05, 0.15, false, 400, 0.0:0.20134228187919462:30.0),\n",
    "                      JaynesCummings(10, 1.0 * 2 * pi, 1.0 * 2 * pi, 0.05 * 2 * pi, 0.05, 0.15, false, 500, 0.0:0.20134228187919462:30.0)]"
   ]
  },
  {
   "cell_type": "code",
   "execution_count": 13,
   "metadata": {
    "collapsed": false
   },
   "outputs": [
    {
     "name": "stdout",
     "output_type": "stream",
     "text": [
      "Benchmarking qumcwf ...\n",
      "  qumcwf with cfg = JaynesCummings(2,6.283185307179586,6.283185307179586,0.3141592653589793,0.05,0.15,true,200,0.0:0.1:6.2): nruns = 1, elapsed = 3.20065378 secs\n",
      "  qumcwf with cfg = JaynesCummings(3,6.283185307179586,6.283185307179586,0.3141592653589793,0.05,0.15,true,300,0.0:0.1:6.2): nruns = 1, elapsed = 6.971995177 secs\n",
      "  qumcwf with cfg = JaynesCummings(6,6.283185307179586,6.283185307179586,0.3141592653589793,0.05,0.15,true,400,0.0:0.1:6.2): nruns = 1, elapsed = 52.934160804 secs\n",
      "  qumcwf with cfg = JaynesCummings(10,6.283185307179586,6.283185307179586,0.3141592653589793,0.05,0.15,true,500,0.0:0.1:6.2): nruns = 1, elapsed = 474.474217268 secs\n",
      "  qumcwf with cfg = JaynesCummings(2,6.283185307179586,6.283185307179586,0.3141592653589793,0.05,0.15,false,200,0.0:0.1:6.2): nruns = 1, elapsed = 3.257691016 secs\n",
      "  qumcwf with cfg = JaynesCummings(3,6.283185307179586,6.283185307179586,0.3141592653589793,0.05,0.15,false,300,0.0:0.1:6.2): nruns = 1, elapsed = 6.801891375 secs\n",
      "  qumcwf with cfg = JaynesCummings(6,6.283185307179586,6.283185307179586,0.3141592653589793,0.05,0.15,false,400,0.0:0.1:6.2): nruns = 1, elapsed = 58.497392818 secs\n",
      "  qumcwf with cfg = JaynesCummings(10,6.283185307179586,6.283185307179586,0.3141592653589793,0.05,0.15,false,500,0.0:0.1:6.2): nruns = 1, elapsed = 471.369017513 secs\n",
      "  qumcwf with cfg = JaynesCummings(2,6.283185307179586,6.283185307179586,0.3141592653589793,0.05,0.15,true,200,0.0:0.20134228187919462:30.0): nruns = 1, elapsed = 7.17955586 secs\n",
      "  qumcwf with cfg = JaynesCummings(3,6.283185307179586,6.283185307179586,0.3141592653589793,0.05,0.15,true,300,0.0:0.20134228187919462:30.0): nruns = 1, elapsed = 12.237292639 secs\n",
      "  qumcwf with cfg = JaynesCummings(6,6.283185307179586,6.283185307179586,0.3141592653589793,0.05,0.15,true,400,0.0:0.20134228187919462:30.0): nruns = 1, elapsed = 58.742102521 secs\n",
      "  qumcwf with cfg = JaynesCummings(10,6.283185307179586,6.283185307179586,0.3141592653589793,0.05,0.15,true,500,0.0:0.20134228187919462:30.0): nruns = 1, elapsed = 465.841786565 secs\n",
      "  qumcwf with cfg = JaynesCummings(2,6.283185307179586,6.283185307179586,0.3141592653589793,0.05,0.15,false,200,0.0:0.20134228187919462:30.0): nruns = 1, elapsed = 7.194345661 secs\n",
      "  qumcwf with cfg = JaynesCummings(3,6.283185307179586,6.283185307179586,0.3141592653589793,0.05,0.15,false,300,0.0:0.20134228187919462:30.0): nruns = 1, elapsed = 13.180587454 secs\n",
      "  qumcwf with cfg = JaynesCummings(6,6.283185307179586,6.283185307179586,0.3141592653589793,0.05,0.15,false,400,0.0:0.20134228187919462:30.0): nruns = 1, elapsed = 61.583423776 secs\n",
      "  qumcwf with cfg = JaynesCummings(10,6.283185307179586,6.283185307179586,0.3141592653589793,0.05,0.15,false,500,0.0:0.20134228187919462:30.0): nruns = 1, elapsed = 452.772625329 secs\n",
      "BenchmarkTable [unit = usec]\n",
      "config                                                                                                                     |          qumcwf  \n",
      "----------------------------------------------------------------------------------------------------------------------------------------------\n",
      "JaynesCummings(2,6.283185307179586,6.283185307179586,0.3141592653589793,0.05,0.15,true,200,0.0:0.1:6.2)                    |    3200653.7800  \n",
      "JaynesCummings(3,6.283185307179586,6.283185307179586,0.3141592653589793,0.05,0.15,true,300,0.0:0.1:6.2)                    |    6971995.1770  \n",
      "JaynesCummings(6,6.283185307179586,6.283185307179586,0.3141592653589793,0.05,0.15,true,400,0.0:0.1:6.2)                    |   52934160.8040  \n",
      "JaynesCummings(10,6.283185307179586,6.283185307179586,0.3141592653589793,0.05,0.15,true,500,0.0:0.1:6.2)                   |  474474217.2680  \n",
      "JaynesCummings(2,6.283185307179586,6.283185307179586,0.3141592653589793,0.05,0.15,false,200,0.0:0.1:6.2)                   |    3257691.0160  \n",
      "JaynesCummings(3,6.283185307179586,6.283185307179586,0.3141592653589793,0.05,0.15,false,300,0.0:0.1:6.2)                   |    6801891.3750  \n",
      "JaynesCummings(6,6.283185307179586,6.283185307179586,0.3141592653589793,0.05,0.15,false,400,0.0:0.1:6.2)                   |   58497392.8180  \n",
      "JaynesCummings(10,6.283185307179586,6.283185307179586,0.3141592653589793,0.05,0.15,false,500,0.0:0.1:6.2)                  |  471369017.5130  \n",
      "JaynesCummings(2,6.283185307179586,6.283185307179586,0.3141592653589793,0.05,0.15,true,200,0.0:0.20134228187919462:30.0)   |    7179555.8600  \n",
      "JaynesCummings(3,6.283185307179586,6.283185307179586,0.3141592653589793,0.05,0.15,true,300,0.0:0.20134228187919462:30.0)   |   12237292.6390  \n",
      "JaynesCummings(6,6.283185307179586,6.283185307179586,0.3141592653589793,0.05,0.15,true,400,0.0:0.20134228187919462:30.0)   |   58742102.5210  \n",
      "JaynesCummings(10,6.283185307179586,6.283185307179586,0.3141592653589793,0.05,0.15,true,500,0.0:0.20134228187919462:30.0)  |  465841786.5650  \n",
      "JaynesCummings(2,6.283185307179586,6.283185307179586,0.3141592653589793,0.05,0.15,false,200,0.0:0.20134228187919462:30.0)  |    7194345.6610  \n",
      "JaynesCummings(3,6.283185307179586,6.283185307179586,0.3141592653589793,0.05,0.15,false,300,0.0:0.20134228187919462:30.0)  |   13180587.4540  \n",
      "JaynesCummings(6,6.283185307179586,6.283185307179586,0.3141592653589793,0.05,0.15,false,400,0.0:0.20134228187919462:30.0)  |   61583423.7760  \n",
      "JaynesCummings(10,6.283185307179586,6.283185307179586,0.3141592653589793,0.05,0.15,false,500,0.0:0.20134228187919462:30.0) |  452772625.3290  \n"
     ]
    }
   ],
   "source": [
    "rtable = run(procs, cfgs)\n",
    "show(rtable; unit=:usec)"
   ]
  },
  {
   "cell_type": "code",
   "execution_count": null,
   "metadata": {
    "collapsed": true
   },
   "outputs": [],
   "source": []
  }
 ],
 "metadata": {
  "kernelspec": {
   "display_name": "Julia 0.3.7",
   "language": "julia",
   "name": "julia-0.3"
  },
  "language_info": {
   "file_extension": ".jl",
   "mimetype": "application/julia",
   "name": "julia",
   "version": "0.3.7"
  }
 },
 "nbformat": 4,
 "nbformat_minor": 0
}

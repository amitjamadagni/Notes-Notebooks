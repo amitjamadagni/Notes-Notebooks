{
 "metadata": {
  "name": ""
 },
 "nbformat": 3,
 "nbformat_minor": 0,
 "worksheets": [
  {
   "cells": [
    {
     "cell_type": "code",
     "collapsed": false,
     "input": [
      "using QuBase\n",
      "using PyPlot"
     ],
     "language": "python",
     "metadata": {},
     "outputs": [
      {
       "output_type": "stream",
       "stream": "stderr",
       "text": [
        "INFO: Loading help data...\n"
       ]
      }
     ],
     "prompt_number": 1
    },
    {
     "cell_type": "code",
     "collapsed": false,
     "input": [
      "function liouvillian_op(h::QuBase.AbstractQuMatrix)\n",
      "    nb = size(coeffs(h), 1)\n",
      "    SI = Array(Int,0)\n",
      "    SJ = Array(Int,0)\n",
      "    Lvals = Array(Complex128,0)\n",
      "    for m=1:nb\n",
      "        for n=1:nb\n",
      "            for i=1:nb\n",
      "                for j=1:nb\n",
      "                    sm = (n-1)*nb + m\n",
      "                    sj = (j-1)*nb + i\n",
      "                    lv = zero(Complex128)\n",
      "                    if j==n\n",
      "                        lv = lv - im*h[m,i]\n",
      "                    end\n",
      "                    if i==m\n",
      "                        lv = lv + im*h[j,n]\n",
      "                    end\n",
      "                    if real(lv)!=0 || imag(lv)!=0\n",
      "                        push!(SI, sm)\n",
      "                        push!(SJ, sj)\n",
      "                        push!(Lvals, lv)\n",
      "                    end\n",
      "                end\n",
      "            end\n",
      "        end\n",
      "    end\n",
      "    return QuArray(full(sparse(SI, SJ, Lvals, nb*nb, nb*nb)))\n",
      "end"
     ],
     "language": "python",
     "metadata": {},
     "outputs": [
      {
       "metadata": {},
       "output_type": "pyout",
       "prompt_number": 2,
       "text": [
        "liouvillian_op (generic function with 1 method)"
       ]
      }
     ],
     "prompt_number": 2
    },
    {
     "cell_type": "code",
     "collapsed": false,
     "input": [
      "function liouvillian_tensor(h::QuBase.AbstractQuMatrix)\n",
      "    return -im*(tensor(eye(h), h) - tensor(h',eye(h))) \n",
      "end"
     ],
     "language": "python",
     "metadata": {},
     "outputs": [
      {
       "metadata": {},
       "output_type": "pyout",
       "prompt_number": 3,
       "text": [
        "liouvillian_tensor (generic function with 1 method)"
       ]
      }
     ],
     "prompt_number": 3
    },
    {
     "cell_type": "code",
     "collapsed": false,
     "input": [
      "for i = 1:50\n",
      "    n = rand(1:50)\n",
      "    a = lowerop(n)\n",
      "    tic()\n",
      "    liouvillian_op(a)\n",
      "    end_time_1 = toq()\n",
      "    axis([0, 40, 0.0, 0.01])\n",
      "    plot(n, end_time_1, \"ro\")\n",
      "    tic()\n",
      "    liouvillian_tensor(a)\n",
      "    end_time_2 = toq()\n",
      "    plot(n, end_time_2, \"bs\")\n",
      "    println(n, \" \", end_time_1, \" \", end_time_2)\n",
      "end\n",
      "    "
     ],
     "language": "python",
     "metadata": {},
     "outputs": [
      {
       "output_type": "stream",
       "stream": "stdout",
       "text": [
        "29 "
       ]
      },
      {
       "output_type": "stream",
       "stream": "stdout",
       "text": [
        "0.005311414 0.03135177\n",
        "27 0.00570915 0.023224675\n",
        "30 0.006639897 0.035212237\n",
        "21 0.002353555 0.008320517\n",
        "21"
       ]
      },
      {
       "output_type": "stream",
       "stream": "stdout",
       "text": [
        " 0.00233308 0.008407905\n",
        "43"
       ]
      },
      {
       "output_type": "stream",
       "stream": "stdout",
       "text": [
        " 0.057189094 0.170621124\n",
        "32 0.012281992 0.065837268\n",
        "11 0.000194397 0.000687773\n",
        "27"
       ]
      },
      {
       "output_type": "stream",
       "stream": "stdout",
       "text": [
        " 0.003793273 0.05190605\n",
        "23 0.002028802 0.011567403\n",
        "34"
       ]
      },
      {
       "output_type": "stream",
       "stream": "stdout",
       "text": [
        " 0.008819373 0.091532339\n",
        "36"
       ]
      },
      {
       "output_type": "stream",
       "stream": "stdout",
       "text": [
        " 0.015264365 0.126735159\n",
        "33 0.011649373 0.071573593\n",
        "3 1.9417e-5 9.5705e-5\n",
        "22"
       ]
      },
      {
       "output_type": "stream",
       "stream": "stdout",
       "text": [
        " 0.008501582 0.050408155\n",
        "26 0.006878803 0.031363292\n",
        "43"
       ]
      },
      {
       "output_type": "stream",
       "stream": "stdout",
       "text": [
        " 0.054956443 0.142135089\n",
        "1 1.0325e-5 8.7871e-5\n",
        "32 0.011792066 0.066798561\n",
        "46"
       ]
      },
      {
       "output_type": "stream",
       "stream": "stdout",
       "text": [
        " 0.069523274 0.21115794\n",
        "29 0.006990447 0.04363988\n",
        "1 1.0095e-5 8.0429e-5\n",
        "43"
       ]
      },
      {
       "output_type": "stream",
       "stream": "stdout",
       "text": [
        " 0.060833379 0.170664888\n",
        "12 0.000328417 0.001378427\n",
        "3 1.9847e-5 0.000137273\n",
        "48"
       ]
      },
      {
       "output_type": "stream",
       "stream": "stdout",
       "text": [
        " 0.083407886 0.215626528\n",
        "15 0.000739787 0.003446675\n",
        "25 0.004636261 0.02458233\n",
        "18 0.001314885 0.006694959\n",
        "35"
       ]
      },
      {
       "output_type": "stream",
       "stream": "stdout",
       "text": [
        " 0.050824448 0.059383899\n",
        "21 0.002230667 0.011902313\n",
        "42"
       ]
      },
      {
       "output_type": "stream",
       "stream": "stdout",
       "text": [
        " 0.066105816 0.130215387\n",
        "8 0.000105926 0.000355216\n",
        "24 0.003787342 0.020627276\n",
        "35"
       ]
      },
      {
       "output_type": "stream",
       "stream": "stdout",
       "text": [
        " 0.015801506 0.082220757\n",
        "4 2.6806e-5 0.00010817\n",
        "27 0.043300974 0.032274069\n",
        "30"
       ]
      },
      {
       "output_type": "stream",
       "stream": "stdout",
       "text": [
        " 0.007794869 0.036756317\n",
        "48"
       ]
      },
      {
       "output_type": "stream",
       "stream": "stdout",
       "text": [
        " 0.065839088 0.211402044\n",
        "10 0.000190711 0.000697769\n",
        "22 0.002686429 0.014692426\n",
        "2 1.4587e-5 8.281e-5\n",
        "50"
       ]
      },
      {
       "output_type": "stream",
       "stream": "stdout",
       "text": [
        " 0.093677053 0.287312624\n",
        "48"
       ]
      },
      {
       "output_type": "stream",
       "stream": "stdout",
       "text": [
        " 0.086911496 0.241827775\n",
        "24 0.003518869 0.021134667\n",
        "8 0.000102392 0.000346777\n",
        "33"
       ]
      },
      {
       "output_type": "stream",
       "stream": "stdout",
       "text": [
        " 0.013117834 0.092583517\n",
        "19 0.001560788 0.008119673\n",
        "31 0.009283581 0.056238822\n",
        "36"
       ]
      },
      {
       "output_type": "stream",
       "stream": "stdout",
       "text": [
        " 0.040138222 0.06516792\n"
       ]
      },
      {
       "metadata": {},
       "output_type": "display_data",
       "png": "[encoded data removed]",
       "text": [
        "Figure(PyObject <matplotlib.figure.Figure object at 0x7ff6fa54cd50>)"
       ]
      }
     ],
     "prompt_number": 10
    },
    {
     "cell_type": "code",
     "collapsed": false,
     "input": [
      "for i = 1:50\n",
      "    n = rand(1:50)\n",
      "    a = lowerop(n)\n",
      "    mem_1 = @allocated liouvillian_op(a)\n",
      "    plot(n, mem_1, \"ro\")\n",
      "    mem_2 = @allocated liouvillian_tensor(a)\n",
      "    plot(n, mem_2, \"bs\")\n",
      "    println(n, \" \", mem_1, \" \", mem_2)\n",
      "end\n",
      "    "
     ],
     "language": "python",
     "metadata": {},
     "outputs": [
      {
       "output_type": "stream",
       "stream": "stdout",
       "text": [
        "5 "
       ]
      },
      {
       "output_type": "stream",
       "stream": "stdout",
       "text": [
        "19200 17576\n",
        "32 17048208 16873880\n",
        "24"
       ]
      },
      {
       "output_type": "stream",
       "stream": "stdout",
       "text": [
        " 5519248 5365464\n",
        "41"
       ]
      },
      {
       "output_type": "stream",
       "stream": "stdout",
       "text": [
        " 45702752 45366728\n",
        "45"
       ]
      },
      {
       "output_type": "stream",
       "stream": "stdout",
       "text": [
        " 66146976 65794920\n",
        "28 10073232 9909944\n",
        "48"
       ]
      },
      {
       "output_type": "stream",
       "stream": "stdout",
       "text": [
        " 85771488 85144200\n",
        "43"
       ]
      },
      {
       "output_type": "stream",
       "stream": "stdout",
       "text": [
        " 55214064 54870312\n",
        "14 678144 638904\n",
        "13 515408 478744\n",
        "20 2681520 2601080\n",
        "16 1118032 1077144\n",
        "7 56016 48200\n",
        "44"
       ]
      },
      {
       "output_type": "stream",
       "stream": "stdout",
       "text": [
        " 60494544 60146712\n",
        "42"
       ]
      },
      {
       "output_type": "stream",
       "stream": "stdout",
       "text": [
        " 50288944 49949112\n",
        "11 269680 251240\n",
        "16 1118032 1077144\n",
        "40"
       ]
      },
      {
       "output_type": "stream",
       "stream": "stdout",
       "text": [
        " 41439696 41107512\n",
        "36"
       ]
      },
      {
       "output_type": "stream",
       "stream": "stdout",
       "text": [
        " 27312592 26994536\n",
        "6 31424 29528\n",
        "46"
       ]
      },
      {
       "output_type": "stream",
       "stream": "stdout",
       "text": [
        " 72450784 71832232\n",
        "26 7535856 7377496\n",
        "24 5519248 5365368\n",
        "50"
       ]
      },
      {
       "output_type": "stream",
       "stream": "stdout",
       "text": [
        " 100863328 100226824\n",
        "37"
       ]
      },
      {
       "output_type": "stream",
       "stream": "stdout",
       "text": [
        " 30435104 30113576\n",
        "4 9232 10872\n",
        "33 19385568 19077000\n",
        "17"
       ]
      },
      {
       "output_type": "stream",
       "stream": "stdout",
       "text": [
        " 1443008 1367528\n",
        "2 1840 5928\n",
        "17 1443008 1367528\n",
        "14 678144 638904\n",
        "50"
       ]
      },
      {
       "output_type": "stream",
       "stream": "stdout",
       "text": [
        " 100863328 100226824\n",
        "12 387904 352712\n",
        "21 3238656 3156360\n",
        "36"
       ]
      },
      {
       "output_type": "stream",
       "stream": "stdout",
       "text": [
        " 27312592 26994520\n",
        "25 6467360 6311240\n",
        "40"
       ]
      },
      {
       "output_type": "stream",
       "stream": "stdout",
       "text": [
        " 41439728 41107512\n",
        "46"
       ]
      },
      {
       "output_type": "stream",
       "stream": "stdout",
       "text": [
        " 72450768 71832232\n",
        "13 515408 478744\n",
        "15 876176 837256\n",
        "19 2201408 2122712\n",
        "45"
       ]
      },
      {
       "output_type": "stream",
       "stream": "stdout",
       "text": [
        " 66146976 65794920\n",
        "34 21801264 21489656\n",
        "5"
       ]
      },
      {
       "output_type": "stream",
       "stream": "stdout",
       "text": [
        " 19200 17576\n",
        "32"
       ]
      },
      {
       "output_type": "stream",
       "stream": "stdout",
       "text": [
        " 17048256 16873880\n",
        "24 5519248 5365368\n",
        "47"
       ]
      },
      {
       "output_type": "stream",
       "stream": "stdout",
       "text": [
        " 78898864 78276056\n",
        "30 13214320 13045688\n",
        "41"
       ]
      },
      {
       "output_type": "stream",
       "stream": "stdout",
       "text": [
        " 45702752 45366728\n",
        "6 31424 29528\n"
       ]
      },
      {
       "metadata": {},
       "output_type": "display_data",
       "png": "[encoded data removed]",
       "text": [
        "Figure(PyObject <matplotlib.figure.Figure object at 0x7ff6fa54cfd0>)"
       ]
      }
     ],
     "prompt_number": 12
    },
    {
     "cell_type": "code",
     "collapsed": false,
     "input": [],
     "language": "python",
     "metadata": {},
     "outputs": []
    }
   ],
   "metadata": {}
  }
 ]
}
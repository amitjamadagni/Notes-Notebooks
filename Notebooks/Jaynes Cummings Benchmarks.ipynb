{
 "cells": [
  {
   "cell_type": "code",
   "execution_count": 1,
   "metadata": {
    "collapsed": false
   },
   "outputs": [],
   "source": [
    "require(\"/home/amit/Downloads/SemVII/QuBase.jl/src/QuBase.jl\")\n",
    "using QuBase\n",
    "require(\"/home/amit/Downloads/SemVII/QuDynamics.jl/src/QuDynamics.jl\")\n",
    "using QuDynamics\n",
    "using BenchmarkLite"
   ]
  },
  {
   "cell_type": "code",
   "execution_count": 2,
   "metadata": {
    "collapsed": false
   },
   "outputs": [],
   "source": [
    "type SampleProc{Alg} <: Proc end"
   ]
  },
  {
   "cell_type": "markdown",
   "metadata": {},
   "source": [
    "Jaynes-Cummings type which takes the configuration parameters.\n",
    "These parameters are used for benchmarking, creating various\n",
    "JaynesCummings types with various parameters and using\n",
    "the solvers to get the timing results."
   ]
  },
  {
   "cell_type": "code",
   "execution_count": 3,
   "metadata": {
    "collapsed": false
   },
   "outputs": [],
   "source": [
    "type JaynesCummings\n",
    "    N::Int\n",
    "    wc::Float64\n",
    "    wa::Float64\n",
    "    g::Float64\n",
    "    kappa::Float64\n",
    "    gamma::Float64\n",
    "    use_rwa::Bool\n",
    "    tlist\n",
    "end"
   ]
  },
  {
   "cell_type": "markdown",
   "metadata": {},
   "source": [
    "Name of the solver, used in the creating the table of timing analysis"
   ]
  },
  {
   "cell_type": "code",
   "execution_count": 4,
   "metadata": {
    "collapsed": false
   },
   "outputs": [
    {
     "data": {
      "text/plain": [
       "string (generic function with 9 methods)"
      ]
     },
     "execution_count": 4,
     "metadata": {},
     "output_type": "execute_result"
    }
   ],
   "source": [
    "Base.string{Alg}(::SampleProc{Alg}) = lowercase(string(Alg))"
   ]
  },
  {
   "cell_type": "markdown",
   "metadata": {},
   "source": [
    "Constructing a valid configuration, this is set to `true` as we have\n",
    "set the type of the required fields in the construct `JaynesCummings` itself."
   ]
  },
  {
   "cell_type": "code",
   "execution_count": 5,
   "metadata": {
    "collapsed": false
   },
   "outputs": [
    {
     "data": {
      "text/plain": [
       "isvalid (generic function with 23 methods)"
      ]
     },
     "execution_count": 5,
     "metadata": {},
     "output_type": "execute_result"
    }
   ],
   "source": [
    "Base.isvalid{Alg}(p::SampleProc{Alg}, cfg::JaynesCummings) = true"
   ]
  },
  {
   "cell_type": "markdown",
   "metadata": {},
   "source": [
    "This returns the `hamitlonian`, `collapse operators`, `initial density matrix`,\n",
    "`observable whose expectation value is to be calculated` taking in the `cfg`\n",
    "configuration of the system."
   ]
  },
  {
   "cell_type": "code",
   "execution_count": 6,
   "metadata": {
    "collapsed": false
   },
   "outputs": [
    {
     "data": {
      "text/plain": [
       "operator_set (generic function with 1 method)"
      ]
     },
     "execution_count": 6,
     "metadata": {},
     "output_type": "execute_result"
    }
   ],
   "source": [
    "function operator_set(p::SampleProc, cfg::JaynesCummings)\n",
    "    idc = QuArray(eye(cfg.N))\n",
    "    ida = QuArray(eye(2))\n",
    "    a  = tensor(lowerop(cfg.N), ida)\n",
    "    sm = tensor(idc, lowerop(2))\n",
    "    if cfg.use_rwa\n",
    "        H = cfg.wc * a' * a + cfg.wa * sm' * sm + cfg.g * (a' * sm + a * sm')\n",
    "    else\n",
    "        H = cfg.wc * a' * a + cfg.wa * sm' * sm + cfg.g * (a' + a) * (sm + sm')\n",
    "    end\n",
    "    c_op_list = Array(QuBase.AbstractQuMatrix, 0)\n",
    "    n_th_a = 0.0\n",
    "    rate_1 = cfg.kappa * (1 + n_th_a)\n",
    "    if rate_1 > 0.0\n",
    "        push!(c_op_list, full(sqrt(rate_1) * a))\n",
    "    end\n",
    "    rate = cfg.kappa * n_th_a\n",
    "    if rate > 0.0\n",
    "        push!(c_op_list, full(sqrt(rate) * a'))\n",
    "    end\n",
    "    rate = cfg.gamma\n",
    "    if rate > 0.0\n",
    "        push!(c_op_list, full(sqrt(rate) * sm))\n",
    "    end\n",
    "    psi = complex(tensor(statevec(1, FiniteBasis(cfg.N)), statevec(2, FiniteBasis(2))))\n",
    "    return full(H), c_op_list, psi*psi', a*a'\n",
    "end"
   ]
  },
  {
   "cell_type": "markdown",
   "metadata": {},
   "source": [
    "Start states are pre-allocated, that is they are constructed before the evaluation\n",
    "here we return the `hamiltonian`, `collapse operator list`, `initial density matrix`,\n",
    "`observable whose expectation is to be calculated` using the above function\n",
    "i.e., operator_set. The first three remain fixed, the fourth can be varied as required."
   ]
  },
  {
   "cell_type": "code",
   "execution_count": 7,
   "metadata": {
    "collapsed": false
   },
   "outputs": [
    {
     "data": {
      "text/plain": [
       "start (generic function with 37 methods)"
      ]
     },
     "execution_count": 7,
     "metadata": {},
     "output_type": "execute_result"
    }
   ],
   "source": [
    "Base.start(p::SampleProc, cfg::JaynesCummings) = (operator_set(p, cfg))"
   ]
  },
  {
   "cell_type": "code",
   "execution_count": 8,
   "metadata": {
    "collapsed": false
   },
   "outputs": [
    {
     "data": {
      "text/plain": [
       "length (generic function with 50 methods)"
      ]
     },
     "execution_count": 8,
     "metadata": {},
     "output_type": "execute_result"
    }
   ],
   "source": [
    "Base.length(p::SampleProc, cfg::JaynesCummings) = cfg.N"
   ]
  },
  {
   "cell_type": "markdown",
   "metadata": {},
   "source": [
    "This function gets the timing done for calculation of trace, using the pre-allocated\n",
    "constructions from the start method i.e., the hamiltonain, collapse operator list,\n",
    "initial density matrix and observable whose expectation is to be calculated."
   ]
  },
  {
   "cell_type": "code",
   "execution_count": 9,
   "metadata": {
    "collapsed": false
   },
   "outputs": [
    {
     "data": {
      "text/plain": [
       "run (generic function with 4 methods)"
      ]
     },
     "execution_count": 9,
     "metadata": {},
     "output_type": "execute_result"
    }
   ],
   "source": [
    "function Base.run{Alg}(p::SampleProc{Alg}, cfg::JaynesCummings, s::(QuBase.QuArray, Array, QuBase.QuArray, QuBase.QuArray))\n",
    "    qprop = QuPropagator(s[1], s[2], s[3], cfg.tlist, Alg())\n",
    "    for (t, psi) in qprop\n",
    "        trace(coeffs(psi*(s[4])))\n",
    "    end\n",
    "end"
   ]
  },
  {
   "cell_type": "code",
   "execution_count": 10,
   "metadata": {
    "collapsed": false
   },
   "outputs": [
    {
     "data": {
      "text/plain": [
       "done (generic function with 40 methods)"
      ]
     },
     "execution_count": 10,
     "metadata": {},
     "output_type": "execute_result"
    }
   ],
   "source": [
    "Base.done(p::SampleProc, cfg, s) = nothing"
   ]
  },
  {
   "cell_type": "markdown",
   "metadata": {},
   "source": [
    "Creating the array of methods on which benchmarks have to be performed"
   ]
  },
  {
   "cell_type": "code",
   "execution_count": 11,
   "metadata": {
    "collapsed": false
   },
   "outputs": [
    {
     "data": {
      "text/plain": [
       "5-element Array{Proc,1}:\n",
       " SampleProc{QuExpmV}()  \n",
       " SampleProc{QuExpokit}()\n",
       " SampleProc{QuODE45}()  \n",
       " SampleProc{QuODE78}()  \n",
       " SampleProc{QuODE23s}() "
      ]
     },
     "execution_count": 11,
     "metadata": {},
     "output_type": "execute_result"
    }
   ],
   "source": [
    "procs = Proc[ SampleProc{QuExpmV}(),\n",
    "              SampleProc{QuExpokit}(),\n",
    "              SampleProc{QuODE45}(),\n",
    "              SampleProc{QuODE78}(),\n",
    "              SampleProc{QuODE23s}()]"
   ]
  },
  {
   "cell_type": "code",
   "execution_count": 12,
   "metadata": {
    "collapsed": false
   },
   "outputs": [
    {
     "data": {
      "text/plain": [
       "15-element Array{JaynesCummings,1}:\n",
       " JaynesCummings(2,6.283185307179586,6.283185307179586,0.3141592653589793,0.05,0.15,true,0.0:0.1:6.2)                   \n",
       " JaynesCummings(3,6.283185307179586,6.283185307179586,0.3141592653589793,0.05,0.15,true,0.0:0.1:6.2)                   \n",
       " JaynesCummings(6,6.283185307179586,6.283185307179586,0.3141592653589793,0.05,0.15,true,0.0:0.1:6.2)                   \n",
       " JaynesCummings(10,6.283185307179586,6.283185307179586,0.3141592653589793,0.05,0.15,true,0.0:0.1:6.2)                  \n",
       " JaynesCummings(2,6.283185307179586,6.283185307179586,0.3141592653589793,0.05,0.15,false,0.0:0.1:6.2)                  \n",
       " JaynesCummings(3,6.283185307179586,6.283185307179586,0.3141592653589793,0.05,0.15,false,0.0:0.1:6.2)                  \n",
       " JaynesCummings(6,6.283185307179586,6.283185307179586,0.3141592653589793,0.05,0.15,false,0.0:0.1:6.2)                  \n",
       " JaynesCummings(2,6.283185307179586,6.283185307179586,0.3141592653589793,0.05,0.15,true,0.0:0.1:6.2)                   \n",
       " JaynesCummings(3,6.283185307179586,6.283185307179586,0.3141592653589793,0.05,0.15,true,0.0:0.20134228187919462:30.0)  \n",
       " JaynesCummings(6,6.283185307179586,6.283185307179586,0.3141592653589793,0.05,0.15,true,0.0:0.20134228187919462:30.0)  \n",
       " JaynesCummings(10,6.283185307179586,6.283185307179586,0.3141592653589793,0.05,0.15,true,0.0:0.20134228187919462:30.0) \n",
       " JaynesCummings(2,6.283185307179586,6.283185307179586,0.3141592653589793,0.05,0.15,false,0.0:0.20134228187919462:30.0) \n",
       " JaynesCummings(3,6.283185307179586,6.283185307179586,0.3141592653589793,0.05,0.15,false,0.0:0.20134228187919462:30.0) \n",
       " JaynesCummings(6,6.283185307179586,6.283185307179586,0.3141592653589793,0.05,0.15,false,0.0:0.20134228187919462:30.0) \n",
       " JaynesCummings(10,6.283185307179586,6.283185307179586,0.3141592653589793,0.05,0.15,false,0.0:0.20134228187919462:30.0)"
      ]
     },
     "execution_count": 12,
     "metadata": {},
     "output_type": "execute_result"
    }
   ],
   "source": [
    "# Setting up various configurations.\n",
    "cfgs = JaynesCummings[JaynesCummings(2, 1.0 * 2 * pi, 1.0 * 2 * pi, 0.05 * 2 * pi, 0.05, 0.15, true, 0.:0.1:2*pi),\n",
    "                      JaynesCummings(3, 1.0 * 2 * pi, 1.0 * 2 * pi, 0.05 * 2 * pi, 0.05, 0.15, true, 0.:0.1:2*pi),\n",
    "                      JaynesCummings(6, 1.0 * 2 * pi, 1.0 * 2 * pi, 0.05 * 2 * pi, 0.05, 0.15, true, 0.:0.1:2*pi),\n",
    "                      JaynesCummings(10, 1.0 * 2 * pi, 1.0 * 2 * pi, 0.05 * 2 * pi, 0.05, 0.15, true, 0.:0.1:2*pi),\n",
    "                      JaynesCummings(2, 1.0 * 2 * pi, 1.0 * 2 * pi, 0.05 * 2 * pi, 0.05, 0.15, false, 0.:0.1:2*pi),\n",
    "                      JaynesCummings(3, 1.0 * 2 * pi, 1.0 * 2 * pi, 0.05 * 2 * pi, 0.05, 0.15, false, 0.:0.1:2*pi),\n",
    "                      JaynesCummings(6, 1.0 * 2 * pi, 1.0 * 2 * pi, 0.05 * 2 * pi, 0.05, 0.15, false, 0.:0.1:2*pi),\n",
    "                      JaynesCummings(2, 1.0 * 2 * pi, 1.0 * 2 * pi, 0.05 * 2 * pi, 0.05, 0.15, true, 0.:0.1:2*pi),\n",
    "                      JaynesCummings(3, 1.0 * 2 * pi, 1.0 * 2 * pi, 0.05 * 2 * pi, 0.05, 0.15, true, 0.0:0.20134228187919462:30.0),\n",
    "                      JaynesCummings(6, 1.0 * 2 * pi, 1.0 * 2 * pi, 0.05 * 2 * pi, 0.05, 0.15, true, 0.0:0.20134228187919462:30.0),\n",
    "                      JaynesCummings(10, 1.0 * 2 * pi, 1.0 * 2 * pi, 0.05 * 2 * pi, 0.05, 0.15, true, 0.0:0.20134228187919462:30.0),\n",
    "                      JaynesCummings(2, 1.0 * 2 * pi, 1.0 * 2 * pi, 0.05 * 2 * pi, 0.05, 0.15, false, 0.0:0.20134228187919462:30.0),\n",
    "                      JaynesCummings(3, 1.0 * 2 * pi, 1.0 * 2 * pi, 0.05 * 2 * pi, 0.05, 0.15, false, 0.0:0.20134228187919462:30.0),\n",
    "                      JaynesCummings(6, 1.0 * 2 * pi, 1.0 * 2 * pi, 0.05 * 2 * pi, 0.05, 0.15, false, 0.0:0.20134228187919462:30.0),\n",
    "                      JaynesCummings(10, 1.0 * 2 * pi, 1.0 * 2 * pi, 0.05 * 2 * pi, 0.05, 0.15, false, 0.0:0.20134228187919462:30.0)]"
   ]
  },
  {
   "cell_type": "markdown",
   "metadata": {},
   "source": [
    "Generating the timing analysis."
   ]
  },
  {
   "cell_type": "code",
   "execution_count": 13,
   "metadata": {
    "collapsed": false
   },
   "outputs": [
    {
     "name": "stdout",
     "output_type": "stream",
     "text": [
      "Benchmarking quexpmv ...\n",
      "  quexpmv with cfg = JaynesCummings(2,6.283185307179586,6.283185307179586,0.3141592653589793,0.05,0.15,true,0.0:0.1:6.2): nruns = 37, elapsed = 0.347887166 secs\n",
      "  quexpmv with cfg = JaynesCummings(3,6.283185307179586,6.283185307179586,0.3141592653589793,0.05,0.15,true,0.0:0.1:6.2): nruns = 78, elapsed = 1.279239196 secs\n",
      "  quexpmv with cfg = JaynesCummings(6,6.283185307179586,6.283185307179586,0.3141592653589793,0.05,0.15,true,0.0:0.1:6.2): nruns = 8, elapsed = 1.029717162 secs\n",
      "  quexpmv with cfg = JaynesCummings(10,6.283185307179586,6.283185307179586,0.3141592653589793,0.05,0.15,true,0.0:0.1:6.2): nruns = 2, elapsed = 1.850952209 secs\n",
      "  quexpmv with cfg = JaynesCummings(2,6.283185307179586,6.283185307179586,0.3141592653589793,0.05,0.15,false,0.0:0.1:6.2): nruns = 129, elapsed = 1.355695988 secs\n",
      "  quexpmv with cfg = JaynesCummings(3,6.283185307179586,6.283185307179586,0.3141592653589793,0.05,0.15,false,0.0:0.1:6.2): nruns = 71, elapsed = 1.314750328 secs\n",
      "  quexpmv with cfg = JaynesCummings(6,6.283185307179586,6.283185307179586,0.3141592653589793,0.05,0.15,false,0.0:0.1:6.2): nruns = 8, elapsed = 1.109222145 secs\n",
      "  quexpmv with cfg = JaynesCummings(2,6.283185307179586,6.283185307179586,0.3141592653589793,0.05,0.15,true,0.0:0.1:6.2): nruns = 112, elapsed = 1.080717237 secs\n",
      "  quexpmv with cfg = JaynesCummings(3,6.283185307179586,6.283185307179586,0.3141592653589793,0.05,0.15,true,0.0:0.20134228187919462:30.0): nruns = 47, elapsed = 1.405183414 secs\n",
      "  quexpmv with cfg = JaynesCummings(6,6.283185307179586,6.283185307179586,0.3141592653589793,0.05,0.15,true,0.0:0.20134228187919462:30.0): nruns = 7, elapsed = 1.066809382 secs\n",
      "  quexpmv with cfg = JaynesCummings(10,6.283185307179586,6.283185307179586,0.3141592653589793,0.05,0.15,true,0.0:0.20134228187919462:30.0): nruns = 1, elapsed = 0.994789722 secs\n",
      "  quexpmv with cfg = JaynesCummings(2,6.283185307179586,6.283185307179586,0.3141592653589793,0.05,0.15,false,0.0:0.20134228187919462:30.0): nruns = 25, elapsed = 0.623232891 secs\n",
      "  quexpmv with cfg = JaynesCummings(3,6.283185307179586,6.283185307179586,0.3141592653589793,0.05,0.15,false,0.0:0.20134228187919462:30.0): nruns = 39, elapsed = 1.460455709 secs\n",
      "  quexpmv with cfg = JaynesCummings(6,6.283185307179586,6.283185307179586,0.3141592653589793,0.05,0.15,false,0.0:0.20134228187919462:30.0): nruns = 6, elapsed = 1.099964173 secs\n",
      "  quexpmv with cfg = JaynesCummings(10,6.283185307179586,6.283185307179586,0.3141592653589793,0.05,0.15,false,0.0:0.20134228187919462:30.0): nruns = 1, elapsed = 1.24637399 secs\n",
      "Benchmarking quexpokit ...\n",
      "  quexpokit with cfg = JaynesCummings(2,6.283185307179586,6.283185307179586,0.3141592653589793,0.05,0.15,true,0.0:0.1:6.2): nruns = 138, elapsed = 1.227411163 secs\n",
      "  quexpokit with cfg = JaynesCummings(3,6.283185307179586,6.283185307179586,0.3141592653589793,0.05,0.15,true,0.0:0.1:6.2): nruns = 55, elapsed = 1.456086926 secs\n",
      "  quexpokit with cfg = JaynesCummings(6,6.283185307179586,6.283185307179586,0.3141592653589793,0.05,0.15,true,0.0:0.1:6.2): nruns = 6, elapsed = 1.119918691 secs\n",
      "  quexpokit with cfg = JaynesCummings(10,6.283185307179586,6.283185307179586,0.3141592653589793,0.05,0.15,true,0.0:0.1:6.2): nruns = 2, elapsed = 1.945693781 secs\n",
      "  quexpokit with cfg = JaynesCummings(2,6.283185307179586,6.283185307179586,0.3141592653589793,0.05,0.15,false,0.0:0.1:6.2): nruns = 94, elapsed = 1.228865496 secs\n",
      "  quexpokit with cfg = JaynesCummings(3,6.283185307179586,6.283185307179586,0.3141592653589793,0.05,0.15,false,0.0:0.1:6.2): nruns = 15, elapsed = 0.810265188 secs\n",
      "  quexpokit with cfg = JaynesCummings(6,6.283185307179586,6.283185307179586,0.3141592653589793,0.05,0.15,false,0.0:0.1:6.2): nruns = 4, elapsed = 1.209944124 secs\n",
      "  quexpokit with cfg = JaynesCummings(2,6.283185307179586,6.283185307179586,0.3141592653589793,0.05,0.15,true,0.0:0.1:6.2): nruns = 144, elapsed = 1.279170142 secs\n",
      "  quexpokit with cfg = JaynesCummings(3,6.283185307179586,6.283185307179586,0.3141592653589793,0.05,0.15,true,0.0:0.20134228187919462:30.0): nruns = 21, elapsed = 0.602860555 secs\n",
      "  quexpokit with cfg = JaynesCummings(6,6.283185307179586,6.283185307179586,0.3141592653589793,0.05,0.15,true,0.0:0.20134228187919462:30.0): nruns = 5, elapsed = 1.047896942 secs\n",
      "  quexpokit with cfg = JaynesCummings(10,6.283185307179586,6.283185307179586,0.3141592653589793,0.05,0.15,true,0.0:0.20134228187919462:30.0): nruns = 1, elapsed = 0.997835498 secs\n",
      "  quexpokit with cfg = JaynesCummings(2,6.283185307179586,6.283185307179586,0.3141592653589793,0.05,0.15,false,0.0:0.20134228187919462:30.0): nruns = 49, elapsed = 1.386885018 secs\n",
      "  quexpokit with cfg = JaynesCummings(3,6.283185307179586,6.283185307179586,0.3141592653589793,0.05,0.15,false,0.0:0.20134228187919462:30.0): nruns = 9, elapsed = 1.07958889 secs\n",
      "  quexpokit with cfg = JaynesCummings(6,6.283185307179586,6.283185307179586,0.3141592653589793,0.05,0.15,false,0.0:0.20134228187919462:30.0): nruns = 2, elapsed = 1.658971472 secs\n",
      "  quexpokit with cfg = JaynesCummings(10,6.283185307179586,6.283185307179586,0.3141592653589793,0.05,0.15,false,0.0:0.20134228187919462:30.0): nruns = 1, elapsed = 1.855788451 secs\n",
      "Benchmarking quode45 ...\n",
      "  quode45 with cfg = JaynesCummings(2,6.283185307179586,6.283185307179586,0.3141592653589793,0.05,0.15,true,0.0:0.1:6.2): nruns = 4, elapsed = 1.026674469 secs\n",
      "  quode45 with cfg = JaynesCummings(3,6.283185307179586,6.283185307179586,0.3141592653589793,0.05,0.15,true,0.0:0.1:6.2): nruns = 4, elapsed = 1.10596423 secs\n",
      "  quode45 with cfg = JaynesCummings(6,6.283185307179586,6.283185307179586,0.3141592653589793,0.05,0.15,true,0.0:0.1:6.2): nruns = 3, elapsed = 1.238361831 secs\n",
      "  quode45 with cfg = JaynesCummings(10,6.283185307179586,6.283185307179586,0.3141592653589793,0.05,0.15,true,0.0:0.1:6.2): nruns = 1, elapsed = 1.262891553 secs\n",
      "  quode45 with cfg = JaynesCummings(2,6.283185307179586,6.283185307179586,0.3141592653589793,0.05,0.15,false,0.0:0.1:6.2): nruns = 4, elapsed = 1.120488544 secs\n",
      "  quode45 with cfg = JaynesCummings(3,6.283185307179586,6.283185307179586,0.3141592653589793,0.05,0.15,false,0.0:0.1:6.2): nruns = 4, elapsed = 1.153103475 secs\n",
      "  quode45 with cfg = JaynesCummings(6,6.283185307179586,6.283185307179586,0.3141592653589793,0.05,0.15,false,0.0:0.1:6.2): nruns = 3, elapsed = 1.332165811 secs\n",
      "  quode45 with cfg = JaynesCummings(2,6.283185307179586,6.283185307179586,0.3141592653589793,0.05,0.15,true,0.0:0.1:6.2): nruns = 4, elapsed = 1.185926916 secs\n",
      "  quode45 with cfg = JaynesCummings(3,6.283185307179586,6.283185307179586,0.3141592653589793,0.05,0.15,true,0.0:0.20134228187919462:30.0): nruns = 2, elapsed = 1.472201792 secs\n",
      "  quode45 with cfg = JaynesCummings(6,6.283185307179586,6.283185307179586,0.3141592653589793,0.05,0.15,true,0.0:0.20134228187919462:30.0): nruns = 2, elapsed = 1.806750056 secs\n",
      "  quode45 with cfg = JaynesCummings(10,6.283185307179586,6.283185307179586,0.3141592653589793,0.05,0.15,true,0.0:0.20134228187919462:30.0): nruns = 1, elapsed = 1.904590678 secs\n",
      "  quode45 with cfg = JaynesCummings(2,6.283185307179586,6.283185307179586,0.3141592653589793,0.05,0.15,false,0.0:0.20134228187919462:30.0): nruns = 2, elapsed = 1.574367181 secs\n",
      "  quode45 with cfg = JaynesCummings(3,6.283185307179586,6.283185307179586,0.3141592653589793,0.05,0.15,false,0.0:0.20134228187919462:30.0): nruns = 2, elapsed = 1.625284742 secs\n",
      "  quode45 with cfg = JaynesCummings(6,6.283185307179586,6.283185307179586,0.3141592653589793,0.05,0.15,false,0.0:0.20134228187919462:30.0): nruns = 1, elapsed = 1.072467366 secs\n",
      "  quode45 with cfg = JaynesCummings(10,6.283185307179586,6.283185307179586,0.3141592653589793,0.05,0.15,false,0.0:0.20134228187919462:30.0): nruns = 1, elapsed = 2.240258774 secs\n",
      "Benchmarking quode78 ...\n",
      "  quode78 with cfg = JaynesCummings(2,6.283185307179586,6.283185307179586,0.3141592653589793,0.05,0.15,true,0.0:0.1:6.2): nruns = 3, elapsed = 1.042968384 secs\n",
      "  quode78 with cfg = JaynesCummings(3,6.283185307179586,6.283185307179586,0.3141592653589793,0.05,0.15,true,0.0:0.1:6.2): nruns = 3, elapsed = 1.074728065 secs\n",
      "  quode78 with cfg = JaynesCummings(6,6.283185307179586,6.283185307179586,0.3141592653589793,0.05,0.15,true,0.0:0.1:6.2): nruns = 2, elapsed = 1.023657308 secs\n",
      "  quode78 with cfg = JaynesCummings(10,6.283185307179586,6.283185307179586,0.3141592653589793,0.05,0.15,true,0.0:0.1:6.2): nruns = 1, elapsed = 1.405338143 secs\n",
      "  quode78 with cfg = JaynesCummings(2,6.283185307179586,6.283185307179586,0.3141592653589793,0.05,0.15,false,0.0:0.1:6.2): nruns = 3, elapsed = 1.138637789 secs\n",
      "  quode78 with cfg = JaynesCummings(3,6.283185307179586,6.283185307179586,0.3141592653589793,0.05,0.15,false,0.0:0.1:6.2): nruns = 3, elapsed = 1.130421669 secs\n",
      "  quode78 with cfg = JaynesCummings(6,6.283185307179586,6.283185307179586,0.3141592653589793,0.05,0.15,false,0.0:0.1:6.2): nruns = 2, elapsed = 1.066763647 secs\n",
      "  quode78 with cfg = JaynesCummings(2,6.283185307179586,6.283185307179586,0.3141592653589793,0.05,0.15,true,0.0:0.1:6.2): nruns = 3, elapsed = 1.140733825 secs\n",
      "  quode78 with cfg = JaynesCummings(3,6.283185307179586,6.283185307179586,0.3141592653589793,0.05,0.15,true,0.0:0.20134228187919462:30.0): nruns = 2, elapsed = 1.903194813 secs\n",
      "  quode78 with cfg = JaynesCummings(6,6.283185307179586,6.283185307179586,0.3141592653589793,0.05,0.15,true,0.0:0.20134228187919462:30.0): nruns = 1, elapsed = 1.151374614 secs\n",
      "  quode78 with cfg = JaynesCummings(10,6.283185307179586,6.283185307179586,0.3141592653589793,0.05,0.15,true,0.0:0.20134228187919462:30.0): nruns = 1, elapsed = 2.205645652 secs\n",
      "  quode78 with cfg = JaynesCummings(2,6.283185307179586,6.283185307179586,0.3141592653589793,0.05,0.15,false,0.0:0.20134228187919462:30.0): nruns = 1, elapsed = 1.068052541 secs\n",
      "  quode78 with cfg = JaynesCummings(3,6.283185307179586,6.283185307179586,0.3141592653589793,0.05,0.15,false,0.0:0.20134228187919462:30.0): nruns = 1, elapsed = 1.058044964 secs\n",
      "  quode78 with cfg = JaynesCummings(6,6.283185307179586,6.283185307179586,0.3141592653589793,0.05,0.15,false,0.0:0.20134228187919462:30.0): nruns = 1, elapsed = 1.358820053 secs\n",
      "  quode78 with cfg = JaynesCummings(10,6.283185307179586,6.283185307179586,0.3141592653589793,0.05,0.15,false,0.0:0.20134228187919462:30.0): nruns = 1, elapsed = 2.544504691 secs\n",
      "Benchmarking quode23s ...\n",
      "  quode23s with cfg = JaynesCummings(2,6.283185307179586,6.283185307179586,0.3141592653589793,0.05,0.15,true,0.0:0.1:6.2): nruns = 2, elapsed = 1.343081441 secs\n",
      "  quode23s with cfg = JaynesCummings(3,6.283185307179586,6.283185307179586,0.3141592653589793,0.05,0.15,true,0.0:0.1:6.2): nruns = 2, elapsed = 1.593818545 secs\n",
      "  quode23s with cfg = JaynesCummings(6,6.283185307179586,6.283185307179586,0.3141592653589793,0.05,0.15,true,0.0:0.1:6.2): nruns = 1, elapsed = 2.837273866 secs\n",
      "  quode23s with cfg = JaynesCummings(10,6.283185307179586,6.283185307179586,0.3141592653589793,0.05,0.15,true,0.0:0.1:6.2): nruns = 1, elapsed = 18.734266532 secs\n",
      "  quode23s with cfg = JaynesCummings(2,6.283185307179586,6.283185307179586,0.3141592653589793,0.05,0.15,false,0.0:0.1:6.2): nruns = 2, elapsed = 1.38906347 secs\n",
      "  quode23s with cfg = JaynesCummings(3,6.283185307179586,6.283185307179586,0.3141592653589793,0.05,0.15,false,0.0:0.1:6.2): nruns = 2, elapsed = 2.272062816 secs\n",
      "  quode23s with cfg = JaynesCummings(6,6.283185307179586,6.283185307179586,0.3141592653589793,0.05,0.15,false,0.0:0.1:6.2): nruns = 1, elapsed = 3.342540123 secs\n",
      "  quode23s with cfg = JaynesCummings(2,6.283185307179586,6.283185307179586,0.3141592653589793,0.05,0.15,true,0.0:0.1:6.2): nruns = 2, elapsed = 1.430057728 secs\n",
      "  quode23s with cfg = JaynesCummings(3,6.283185307179586,6.283185307179586,0.3141592653589793,0.05,0.15,true,0.0:0.20134228187919462:30.0): nruns = 1, elapsed = 2.124680125 secs\n",
      "  quode23s with cfg = JaynesCummings(6,6.283185307179586,6.283185307179586,0.3141592653589793,0.05,0.15,true,0.0:0.20134228187919462:30.0): nruns = 1, elapsed = 7.948490842 secs\n",
      "  quode23s with cfg = JaynesCummings(10,6.283185307179586,6.283185307179586,0.3141592653589793,0.05,0.15,true,0.0:0.20134228187919462:30.0): nruns = 1, elapsed = 52.714444791 secs\n",
      "  quode23s with cfg = JaynesCummings(2,6.283185307179586,6.283185307179586,0.3141592653589793,0.05,0.15,false,0.0:0.20134228187919462:30.0): nruns = 1, elapsed = 1.913790101 secs\n",
      "  quode23s with cfg = JaynesCummings(3,6.283185307179586,6.283185307179586,0.3141592653589793,0.05,0.15,false,0.0:0.20134228187919462:30.0): nruns = 1, elapsed = 2.424593514 secs\n",
      "  quode23s with cfg = JaynesCummings(6,6.283185307179586,6.283185307179586,0.3141592653589793,0.05,0.15,false,0.0:0.20134228187919462:30.0): nruns = 1, elapsed = 10.114469296 secs\n",
      "  quode23s with cfg = JaynesCummings(10,6.283185307179586,6.283185307179586,0.3141592653589793,0.05,0.15,false,0.0:0.20134228187919462:30.0): nruns = 1, elapsed = 76.321980571 secs\n"
     ]
    },
    {
     "data": {
      "text/plain": [
       "BenchmarkTable [unit = sec]\n",
       "config                                                                                                                 |  quexpmv  quexpokit  quode45  quode78  quode23s  \n",
       "--------------------------------------------------------------------------------------------------------------------------------------------------------------------------\n",
       "JaynesCummings(2,6.283185307179586,6.283185307179586,0.3141592653589793,0.05,0.15,true,0.0:0.1:6.2)                    |   0.0094     0.0089   0.2567   0.3477    0.6715  \n",
       "JaynesCummings(3,6.283185307179586,6.283185307179586,0.3141592653589793,0.05,0.15,true,0.0:0.1:6.2)                    |   0.0164     0.0265   0.2765   0.3582    0.7969  \n",
       "JaynesCummings(6,6.283185307179586,6.283185307179586,0.3141592653589793,0.05,0.15,true,0.0:0.1:6.2)                    |   0.1287     0.1867   0.4128   0.5118    2.8373  \n",
       "JaynesCummings(10,6.283185307179586,6.283185307179586,0.3141592653589793,0.05,0.15,true,0.0:0.1:6.2)                   |   0.9255     0.9728   1.2629   1.4053   18.7343  \n",
       "JaynesCummings(2,6.283185307179586,6.283185307179586,0.3141592653589793,0.05,0.15,false,0.0:0.1:6.2)                   |   0.0105     0.0131   0.2801   0.3795    0.6945  \n",
       "JaynesCummings(3,6.283185307179586,6.283185307179586,0.3141592653589793,0.05,0.15,false,0.0:0.1:6.2)                   |   0.0185     0.0540   0.2883   0.3768    1.1360  \n",
       "JaynesCummings(6,6.283185307179586,6.283185307179586,0.3141592653589793,0.05,0.15,false,0.0:0.1:6.2)                   |   0.1387     0.3025   0.4441   0.5334    3.3425  \n",
       "JaynesCummings(2,6.283185307179586,6.283185307179586,0.3141592653589793,0.05,0.15,true,0.0:0.1:6.2)                    |   0.0096     0.0089   0.2965   0.3802    0.7150  \n",
       "JaynesCummings(3,6.283185307179586,6.283185307179586,0.3141592653589793,0.05,0.15,true,0.0:0.20134228187919462:30.0)   |   0.0299     0.0287   0.7361   0.9516    2.1247  \n",
       "JaynesCummings(6,6.283185307179586,6.283185307179586,0.3141592653589793,0.05,0.15,true,0.0:0.20134228187919462:30.0)   |   0.1524     0.2096   0.9034   1.1514    7.9485  \n",
       "JaynesCummings(10,6.283185307179586,6.283185307179586,0.3141592653589793,0.05,0.15,true,0.0:0.20134228187919462:30.0)  |   0.9948     0.9978   1.9046   2.2056   52.7144  \n",
       "JaynesCummings(2,6.283185307179586,6.283185307179586,0.3141592653589793,0.05,0.15,false,0.0:0.20134228187919462:30.0)  |   0.0249     0.0283   0.7872   1.0681    1.9138  \n",
       "JaynesCummings(3,6.283185307179586,6.283185307179586,0.3141592653589793,0.05,0.15,false,0.0:0.20134228187919462:30.0)  |   0.0374     0.1200   0.8126   1.0580    2.4246  \n",
       "JaynesCummings(6,6.283185307179586,6.283185307179586,0.3141592653589793,0.05,0.15,false,0.0:0.20134228187919462:30.0)  |   0.1833     0.8295   1.0725   1.3588   10.1145  \n",
       "JaynesCummings(10,6.283185307179586,6.283185307179586,0.3141592653589793,0.05,0.15,false,0.0:0.20134228187919462:30.0) |   1.2464     1.8558   2.2403   2.5445   76.3220  \n"
      ]
     },
     "execution_count": 13,
     "metadata": {},
     "output_type": "execute_result"
    }
   ],
   "source": [
    "rtable = run(procs, cfgs)"
   ]
  },
  {
   "cell_type": "markdown",
   "metadata": {},
   "source": [
    "Table display from the above method."
   ]
  },
  {
   "cell_type": "code",
   "execution_count": 15,
   "metadata": {
    "collapsed": false
   },
   "outputs": [
    {
     "name": "stdout",
     "output_type": "stream",
     "text": [
      "BenchmarkTable [unit = sec]\n",
      "config                                                                                                                 |  quexpmv  quexpokit  quode45  quode78  quode23s  \n",
      "--------------------------------------------------------------------------------------------------------------------------------------------------------------------------\n",
      "JaynesCummings(2,6.283185307179586,6.283185307179586,0.3141592653589793,0.05,0.15,true,0.0:0.1:6.2)                    |   0.0095     0.0107   0.0071   0.0057    0.0445  \n",
      "JaynesCummings(3,6.283185307179586,6.283185307179586,0.3141592653589793,0.05,0.15,true,0.0:0.1:6.2)                    |   0.0163     0.0253   0.0174   0.0144    0.2112  \n",
      "JaynesCummings(6,6.283185307179586,6.283185307179586,0.3141592653589793,0.05,0.15,true,0.0:0.1:6.2)                    |   0.1301     0.2022   0.1739   0.1412    2.3508  \n",
      "JaynesCummings(10,6.283185307179586,6.283185307179586,0.3141592653589793,0.05,0.15,true,0.0:0.1:6.2)                   |   0.9240     0.9879   0.9941   0.9663   18.7138  \n",
      "JaynesCummings(2,6.283185307179586,6.283185307179586,0.3141592653589793,0.05,0.15,false,0.0:0.1:6.2)                   |   0.0104     0.0131   0.0077   0.0061    0.0437  \n",
      "JaynesCummings(3,6.283185307179586,6.283185307179586,0.3141592653589793,0.05,0.15,false,0.0:0.1:6.2)                   |   0.0181     0.0535   0.0236   0.0156    0.1804  \n",
      "JaynesCummings(6,6.283185307179586,6.283185307179586,0.3141592653589793,0.05,0.15,false,0.0:0.1:6.2)                   |   0.1392     0.3067   0.1768   0.1455    2.7486  \n",
      "JaynesCummings(2,6.283185307179586,6.283185307179586,0.3141592653589793,0.05,0.15,true,0.0:0.1:6.2)                    |   0.0094     0.0089   0.0073   0.0057    0.0434  \n",
      "JaynesCummings(3,6.283185307179586,6.283185307179586,0.3141592653589793,0.05,0.15,true,0.0:0.20134228187919462:30.0)   |   0.0294     0.0302   0.0325   0.0329    0.3965  \n",
      "JaynesCummings(6,6.283185307179586,6.283185307179586,0.3141592653589793,0.05,0.15,true,0.0:0.20134228187919462:30.0)   |   0.1523     0.2109   0.1982   0.2293    6.1685  \n",
      "JaynesCummings(10,6.283185307179586,6.283185307179586,0.3141592653589793,0.05,0.15,true,0.0:0.20134228187919462:30.0)  |   0.9975     1.0528   1.1140   1.1498   44.3057  \n",
      "JaynesCummings(2,6.283185307179586,6.283185307179586,0.3141592653589793,0.05,0.15,false,0.0:0.20134228187919462:30.0)  |   0.0246     0.0319   0.0179   0.0174    0.1224  \n",
      "JaynesCummings(3,6.283185307179586,6.283185307179586,0.3141592653589793,0.05,0.15,false,0.0:0.20134228187919462:30.0)  |   0.0361     0.1296   0.0580   0.0658    0.5133  \n",
      "JaynesCummings(6,6.283185307179586,6.283185307179586,0.3141592653589793,0.05,0.15,false,0.0:0.20134228187919462:30.0)  |   0.1842     0.8253   0.3183   0.3398    7.1028  \n",
      "JaynesCummings(10,6.283185307179586,6.283185307179586,0.3141592653589793,0.05,0.15,false,0.0:0.20134228187919462:30.0) |   1.1190     1.8440   1.5775   1.5393   58.9441  \n"
     ]
    }
   ],
   "source": [
    "show(rtable)"
   ]
  },
  {
   "cell_type": "code",
   "execution_count": 14,
   "metadata": {
    "collapsed": false
   },
   "outputs": [
    {
     "name": "stdout",
     "output_type": "stream",
     "text": [
      "BenchmarkTable [unit = sec]\n",
      "config                                                                                                                 |  quexpmv  quexpokit  quode45  quode78  quode23s  \n",
      "--------------------------------------------------------------------------------------------------------------------------------------------------------------------------\n",
      "JaynesCummings(2,6.283185307179586,6.283185307179586,0.3141592653589793,0.05,0.15,true,0.0:0.1:6.2)                    |   0.0094     0.0089   0.2567   0.3477    0.6715  \n",
      "JaynesCummings(3,6.283185307179586,6.283185307179586,0.3141592653589793,0.05,0.15,true,0.0:0.1:6.2)                    |   0.0164     0.0265   0.2765   0.3582    0.7969  \n",
      "JaynesCummings(6,6.283185307179586,6.283185307179586,0.3141592653589793,0.05,0.15,true,0.0:0.1:6.2)                    |   0.1287     0.1867   0.4128   0.5118    2.8373  \n",
      "JaynesCummings(10,6.283185307179586,6.283185307179586,0.3141592653589793,0.05,0.15,true,0.0:0.1:6.2)                   |   0.9255     0.9728   1.2629   1.4053   18.7343  \n",
      "JaynesCummings(2,6.283185307179586,6.283185307179586,0.3141592653589793,0.05,0.15,false,0.0:0.1:6.2)                   |   0.0105     0.0131   0.2801   0.3795    0.6945  \n",
      "JaynesCummings(3,6.283185307179586,6.283185307179586,0.3141592653589793,0.05,0.15,false,0.0:0.1:6.2)                   |   0.0185     0.0540   0.2883   0.3768    1.1360  \n",
      "JaynesCummings(6,6.283185307179586,6.283185307179586,0.3141592653589793,0.05,0.15,false,0.0:0.1:6.2)                   |   0.1387     0.3025   0.4441   0.5334    3.3425  \n",
      "JaynesCummings(2,6.283185307179586,6.283185307179586,0.3141592653589793,0.05,0.15,true,0.0:0.1:6.2)                    |   0.0096     0.0089   0.2965   0.3802    0.7150  \n",
      "JaynesCummings(3,6.283185307179586,6.283185307179586,0.3141592653589793,0.05,0.15,true,0.0:0.20134228187919462:30.0)   |   0.0299     0.0287   0.7361   0.9516    2.1247  \n",
      "JaynesCummings(6,6.283185307179586,6.283185307179586,0.3141592653589793,0.05,0.15,true,0.0:0.20134228187919462:30.0)   |   0.1524     0.2096   0.9034   1.1514    7.9485  \n",
      "JaynesCummings(10,6.283185307179586,6.283185307179586,0.3141592653589793,0.05,0.15,true,0.0:0.20134228187919462:30.0)  |   0.9948     0.9978   1.9046   2.2056   52.7144  \n",
      "JaynesCummings(2,6.283185307179586,6.283185307179586,0.3141592653589793,0.05,0.15,false,0.0:0.20134228187919462:30.0)  |   0.0249     0.0283   0.7872   1.0681    1.9138  \n",
      "JaynesCummings(3,6.283185307179586,6.283185307179586,0.3141592653589793,0.05,0.15,false,0.0:0.20134228187919462:30.0)  |   0.0374     0.1200   0.8126   1.0580    2.4246  \n",
      "JaynesCummings(6,6.283185307179586,6.283185307179586,0.3141592653589793,0.05,0.15,false,0.0:0.20134228187919462:30.0)  |   0.1833     0.8295   1.0725   1.3588   10.1145  \n",
      "JaynesCummings(10,6.283185307179586,6.283185307179586,0.3141592653589793,0.05,0.15,false,0.0:0.20134228187919462:30.0) |   1.2464     1.8558   2.2403   2.5445   76.3220  \n"
     ]
    }
   ],
   "source": [
    "show(rtable)"
   ]
  },
  {
   "cell_type": "code",
   "execution_count": null,
   "metadata": {
    "collapsed": true
   },
   "outputs": [],
   "source": []
  }
 ],
 "metadata": {
  "kernelspec": {
   "display_name": "Julia 0.3.7",
   "language": "julia",
   "name": "julia-0.3"
  },
  "language_info": {
   "file_extension": ".jl",
   "mimetype": "application/julia",
   "name": "julia",
   "version": "0.3.7"
  }
 },
 "nbformat": 4,
 "nbformat_minor": 0
}

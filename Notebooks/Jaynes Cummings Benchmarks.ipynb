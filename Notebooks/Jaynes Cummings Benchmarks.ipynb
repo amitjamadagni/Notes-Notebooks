{
 "metadata": {
  "name": ""
 },
 "nbformat": 3,
 "nbformat_minor": 0,
 "worksheets": [
  {
   "cells": [
    {
     "cell_type": "code",
     "collapsed": false,
     "input": [
      "require(\"/home/amit/Downloads/SemVII/QuBase.jl/src/QuBase.jl\")\n",
      "using QuBase\n",
      "require(\"/home/amit/Downloads/SemVII/QuDynamics.jl/src/QuDynamics.jl\")\n",
      "using QuDynamics\n",
      "using BenchmarkLite"
     ],
     "language": "python",
     "metadata": {},
     "outputs": [],
     "prompt_number": 2
    },
    {
     "cell_type": "code",
     "collapsed": false,
     "input": [
      "type SampleProc{Alg} <: Proc end"
     ],
     "language": "python",
     "metadata": {},
     "outputs": [],
     "prompt_number": 3
    },
    {
     "cell_type": "code",
     "collapsed": false,
     "input": [
      "# Jaynes-Cummings type which takes the configuration parameters.\n",
      "# These parameters are used for benchmarking, creating various\n",
      "# JaynesCummings types with various parameters and using\n",
      "# the above solvers to get the timing results.\n",
      "type JaynesCummings\n",
      "    N::Int\n",
      "    wc::Float64\n",
      "    wa::Float64\n",
      "    g::Float64\n",
      "    kappa::Float64\n",
      "    gamma::Float64\n",
      "    use_rwa::Bool\n",
      "    tlist\n",
      "end"
     ],
     "language": "python",
     "metadata": {},
     "outputs": [],
     "prompt_number": 4
    },
    {
     "cell_type": "code",
     "collapsed": false,
     "input": [
      "# Name of the solver, used in the creating the table of timing analysis\n",
      "Base.string{Alg}(::SampleProc{Alg}) = lowercase(string(Alg))"
     ],
     "language": "python",
     "metadata": {},
     "outputs": [
      {
       "metadata": {},
       "output_type": "pyout",
       "prompt_number": 6,
       "text": [
        "string (generic function with 9 methods)"
       ]
      }
     ],
     "prompt_number": 6
    },
    {
     "cell_type": "code",
     "collapsed": false,
     "input": [
      "# Constructing a valid configuration, this is set to `true` as we have\n",
      "# set the type of the required fields in the construct `JaynesCummings` itself.\n",
      "Base.isvalid{Alg}(p::SampleProc{Alg}, cfg::JaynesCummings) = true"
     ],
     "language": "python",
     "metadata": {},
     "outputs": [
      {
       "metadata": {},
       "output_type": "pyout",
       "prompt_number": 8,
       "text": [
        "isvalid (generic function with 23 methods)"
       ]
      }
     ],
     "prompt_number": 8
    },
    {
     "cell_type": "code",
     "collapsed": false,
     "input": [
      "# This returns the `hamitlonian`, `collapse operators`, `initial density matrix`,\n",
      "# `observable whose expectation value is to be calculated` taking in the `cfg`\n",
      "# configuration of the system.\n",
      "function operator_set(p::SampleProc, cfg::JaynesCummings)\n",
      "    idc = QuArray(eye(cfg.N))\n",
      "    ida = QuArray(eye(2))\n",
      "    a  = tensor(lowerop(cfg.N), ida)\n",
      "    sm = tensor(idc, lowerop(2))\n",
      "    if cfg.use_rwa\n",
      "        H = cfg.wc * a' * a + cfg.wa * sm' * sm + cfg.g * (a' * sm + a * sm')\n",
      "    else\n",
      "        H = cfg.wc * a' * a + cfg.wa * sm' * sm + cfg.g * (a' + a) * (sm + sm')\n",
      "    end\n",
      "    c_op_list = Array(QuBase.AbstractQuMatrix, 0)\n",
      "    n_th_a = 0.0\n",
      "    rate_1 = cfg.kappa * (1 + n_th_a)\n",
      "    if rate_1 > 0.0\n",
      "        push!(c_op_list, full(sqrt(rate_1) * a))\n",
      "    end\n",
      "    rate = cfg.kappa * n_th_a\n",
      "    if rate > 0.0\n",
      "        push!(c_op_list, full(sqrt(rate) * a'))\n",
      "    end\n",
      "    rate = cfg.gamma\n",
      "    if rate > 0.0\n",
      "        push!(c_op_list, full(sqrt(rate) * sm))\n",
      "    end\n",
      "    psi = complex(tensor(statevec(1, FiniteBasis(cfg.N)), statevec(2, FiniteBasis(2))))\n",
      "    return full(H), c_op_list, psi*psi', a*a'\n",
      "end"
     ],
     "language": "python",
     "metadata": {},
     "outputs": [
      {
       "metadata": {},
       "output_type": "pyout",
       "prompt_number": 9,
       "text": [
        "operator_set (generic function with 1 method)"
       ]
      }
     ],
     "prompt_number": 9
    },
    {
     "cell_type": "code",
     "collapsed": false,
     "input": [
      "# Start states are pre-allocated, that is they are constructed before the evaluation\n",
      "# here we return the `hamiltonian`, `collapse operator list`, `initial density matrix`,\n",
      "# `observable whose expectation is to be calculated` using the above function\n",
      "# i.e., operator_set. The first three remain fixed, the fourth can be varied as required.\n",
      "Base.start(p::SampleProc, cfg::JaynesCummings) = (operator_set(p, cfg))"
     ],
     "language": "python",
     "metadata": {},
     "outputs": [
      {
       "metadata": {},
       "output_type": "pyout",
       "prompt_number": 11,
       "text": [
        "start (generic function with 35 methods)"
       ]
      }
     ],
     "prompt_number": 11
    },
    {
     "cell_type": "code",
     "collapsed": false,
     "input": [
      "Base.length(p::SampleProc, cfg::JaynesCummings) = cfg.N"
     ],
     "language": "python",
     "metadata": {},
     "outputs": [
      {
       "metadata": {},
       "output_type": "pyout",
       "prompt_number": 12,
       "text": [
        "length (generic function with 48 methods)"
       ]
      }
     ],
     "prompt_number": 12
    },
    {
     "cell_type": "code",
     "collapsed": false,
     "input": [
      "# This function gets the timing done for calculation of trace, using the pre-allocated\n",
      "# constructions from the start method i.e., the hamiltonain, collapse operator list,\n",
      "# initial density matrix and observable whose expectation is to be calculated.\n",
      "function Base.run{Alg}(p::SampleProc{Alg}, cfg::JaynesCummings, s::(QuBase.QuArray, Array, QuBase.QuArray, QuBase.QuArray))\n",
      "    qprop = QuPropagator(s[1], s[2], s[3], cfg.tlist, Alg())\n",
      "    for (t, psi) in qprop\n",
      "        trace(coeffs(psi*(s[4])))\n",
      "    end\n",
      "end"
     ],
     "language": "python",
     "metadata": {},
     "outputs": [
      {
       "metadata": {},
       "output_type": "pyout",
       "prompt_number": 13,
       "text": [
        "run (generic function with 4 methods)"
       ]
      }
     ],
     "prompt_number": 13
    },
    {
     "cell_type": "code",
     "collapsed": false,
     "input": [
      "Base.done(p::SampleProc, cfg, s) = nothing"
     ],
     "language": "python",
     "metadata": {},
     "outputs": [
      {
       "metadata": {},
       "output_type": "pyout",
       "prompt_number": 14,
       "text": [
        "done (generic function with 38 methods)"
       ]
      }
     ],
     "prompt_number": 14
    },
    {
     "cell_type": "code",
     "collapsed": false,
     "input": [
      "# Creating the array of methods on which benchmarks have to be performed\n",
      "procs = Proc[ SampleProc{QuExpmV}(),\n",
      "              SampleProc{QuExpokit}(),\n",
      "              SampleProc{QuODE45}(),\n",
      "              SampleProc{QuODE78}(),\n",
      "              SampleProc{QuODE23s}()]"
     ],
     "language": "python",
     "metadata": {},
     "outputs": [
      {
       "metadata": {},
       "output_type": "pyout",
       "prompt_number": 15,
       "text": [
        "5-element Array{Proc,1}:\n",
        " SampleProc{QuExpmV}()  \n",
        " SampleProc{QuExpokit}()\n",
        " SampleProc{QuODE45}()  \n",
        " SampleProc{QuODE78}()  \n",
        " SampleProc{QuODE23s}() "
       ]
      }
     ],
     "prompt_number": 15
    },
    {
     "cell_type": "code",
     "collapsed": false,
     "input": [
      "# Setting up various configurations.\n",
      "cfgs = JaynesCummings[JaynesCummings(2, 1.0 * 2 * pi, 1.0 * 2 * pi, 0.05 * 2 * pi, 0.05, 0.15, true, 0.:0.1:2*pi),\n",
      "                      JaynesCummings(3, 1.0 * 2 * pi, 1.0 * 2 * pi, 0.05 * 2 * pi, 0.05, 0.15, true, 0.:0.1:2*pi),\n",
      "                      JaynesCummings(6, 1.0 * 2 * pi, 1.0 * 2 * pi, 0.05 * 2 * pi, 0.05, 0.15, true, 0.:0.1:2*pi),\n",
      "                      JaynesCummings(10, 1.0 * 2 * pi, 1.0 * 2 * pi, 0.05 * 2 * pi, 0.05, 0.15, true, 0.:0.1:2*pi),\n",
      "                      JaynesCummings(2, 1.0 * 2 * pi, 1.0 * 2 * pi, 0.05 * 2 * pi, 0.05, 0.15, false, 0.:0.1:2*pi),\n",
      "                      JaynesCummings(3, 1.0 * 2 * pi, 1.0 * 2 * pi, 0.05 * 2 * pi, 0.05, 0.15, false, 0.:0.1:2*pi),\n",
      "                      JaynesCummings(6, 1.0 * 2 * pi, 1.0 * 2 * pi, 0.05 * 2 * pi, 0.05, 0.15, false, 0.:0.1:2*pi),\n",
      "                      JaynesCummings(2, 1.0 * 2 * pi, 1.0 * 2 * pi, 0.05 * 2 * pi, 0.05, 0.15, true, 0.:0.1:2*pi),\n",
      "                      JaynesCummings(3, 1.0 * 2 * pi, 1.0 * 2 * pi, 0.05 * 2 * pi, 0.05, 0.15, true, 0.0:0.20134228187919462:30.0),\n",
      "                      JaynesCummings(6, 1.0 * 2 * pi, 1.0 * 2 * pi, 0.05 * 2 * pi, 0.05, 0.15, true, 0.0:0.20134228187919462:30.0),\n",
      "                      JaynesCummings(10, 1.0 * 2 * pi, 1.0 * 2 * pi, 0.05 * 2 * pi, 0.05, 0.15, true, 0.0:0.20134228187919462:30.0),\n",
      "                      JaynesCummings(2, 1.0 * 2 * pi, 1.0 * 2 * pi, 0.05 * 2 * pi, 0.05, 0.15, false, 0.0:0.20134228187919462:30.0),\n",
      "                      JaynesCummings(3, 1.0 * 2 * pi, 1.0 * 2 * pi, 0.05 * 2 * pi, 0.05, 0.15, false, 0.0:0.20134228187919462:30.0),\n",
      "                      JaynesCummings(6, 1.0 * 2 * pi, 1.0 * 2 * pi, 0.05 * 2 * pi, 0.05, 0.15, false, 0.0:0.20134228187919462:30.0),\n",
      "                      JaynesCummings(10, 1.0 * 2 * pi, 1.0 * 2 * pi, 0.05 * 2 * pi, 0.05, 0.15, false, 0.0:0.20134228187919462:30.0)]"
     ],
     "language": "python",
     "metadata": {},
     "outputs": [
      {
       "metadata": {},
       "output_type": "pyout",
       "prompt_number": 19,
       "text": [
        "15-element Array{JaynesCummings,1}:\n",
        " JaynesCummings(2,6.283185307179586,6.283185307179586,0.3141592653589793,0.05,0.15,true,0.0:0.1:6.2)                   \n",
        " JaynesCummings(3,6.283185307179586,6.283185307179586,0.3141592653589793,0.05,0.15,true,0.0:0.1:6.2)                   \n",
        " JaynesCummings(6,6.283185307179586,6.283185307179586,0.3141592653589793,0.05,0.15,true,0.0:0.1:6.2)                   \n",
        " JaynesCummings(10,6.283185307179586,6.283185307179586,0.3141592653589793,0.05,0.15,true,0.0:0.1:6.2)                  \n",
        " JaynesCummings(2,6.283185307179586,6.283185307179586,0.3141592653589793,0.05,0.15,false,0.0:0.1:6.2)                  \n",
        " JaynesCummings(3,6.283185307179586,6.283185307179586,0.3141592653589793,0.05,0.15,false,0.0:0.1:6.2)                  \n",
        " JaynesCummings(6,6.283185307179586,6.283185307179586,0.3141592653589793,0.05,0.15,false,0.0:0.1:6.2)                  \n",
        " JaynesCummings(2,6.283185307179586,6.283185307179586,0.3141592653589793,0.05,0.15,true,0.0:0.1:6.2)                   \n",
        " JaynesCummings(3,6.283185307179586,6.283185307179586,0.3141592653589793,0.05,0.15,true,0.0:0.20134228187919462:30.0)  \n",
        " JaynesCummings(6,6.283185307179586,6.283185307179586,0.3141592653589793,0.05,0.15,true,0.0:0.20134228187919462:30.0)  \n",
        " JaynesCummings(10,6.283185307179586,6.283185307179586,0.3141592653589793,0.05,0.15,true,0.0:0.20134228187919462:30.0) \n",
        " JaynesCummings(2,6.283185307179586,6.283185307179586,0.3141592653589793,0.05,0.15,false,0.0:0.20134228187919462:30.0) \n",
        " JaynesCummings(3,6.283185307179586,6.283185307179586,0.3141592653589793,0.05,0.15,false,0.0:0.20134228187919462:30.0) \n",
        " JaynesCummings(6,6.283185307179586,6.283185307179586,0.3141592653589793,0.05,0.15,false,0.0:0.20134228187919462:30.0) \n",
        " JaynesCummings(10,6.283185307179586,6.283185307179586,0.3141592653589793,0.05,0.15,false,0.0:0.20134228187919462:30.0)"
       ]
      }
     ],
     "prompt_number": 19
    },
    {
     "cell_type": "code",
     "collapsed": false,
     "input": [
      "# Generating the timing analysis.\n",
      "rtable = run(procs, cfgs)"
     ],
     "language": "python",
     "metadata": {},
     "outputs": [
      {
       "output_type": "stream",
       "stream": "stdout",
       "text": [
        "Benchmarking quexpmv ...\n"
       ]
      },
      {
       "output_type": "stream",
       "stream": "stdout",
       "text": [
        "  quexpmv with cfg = JaynesCummings(2,6.283185307179586,6.283185307179586,0.3141592653589793,0.05,0.15,true,0.0:0.1:6.2): nruns = 75, elapsed = 0.840586099 secs"
       ]
      },
      {
       "output_type": "stream",
       "stream": "stdout",
       "text": [
        "\n",
        "  quexpmv with cfg = JaynesCummings(3,6.283185307179586,6.283185307179586,0.3141592653589793,0.05,0.15,true,0.0:0.1:6.2): nruns = 75, elapsed = 1.321496381 secs"
       ]
      },
      {
       "output_type": "stream",
       "stream": "stdout",
       "text": [
        "\n",
        "  quexpmv with cfg = JaynesCummings(6,6.283185307179586,6.283185307179586,0.3141592653589793,0.05,0.15,true,0.0:0.1:6.2): nruns = 8, elapsed = 1.151785039 secs"
       ]
      },
      {
       "output_type": "stream",
       "stream": "stdout",
       "text": [
        "\n",
        "  quexpmv with cfg = JaynesCummings(10,6.283185307179586,6.283185307179586,0.3141592653589793,0.05,0.15,true,0.0:0.1:6.2): nruns = 1, elapsed = 1.340266332 secs"
       ]
      },
      {
       "output_type": "stream",
       "stream": "stdout",
       "text": [
        "\n",
        "  quexpmv with cfg = JaynesCummings(2,6.283185307179586,6.283185307179586,0.3141592653589793,0.05,0.15,false,0.0:0.1:6.2): nruns = 120, elapsed = 1.433602429 secs"
       ]
      },
      {
       "output_type": "stream",
       "stream": "stdout",
       "text": [
        "\n",
        "  quexpmv with cfg = JaynesCummings(3,6.283185307179586,6.283185307179586,0.3141592653589793,0.05,0.15,false,0.0:0.1:6.2): nruns = 68, elapsed = 1.398406014 secs"
       ]
      },
      {
       "output_type": "stream",
       "stream": "stdout",
       "text": [
        "\n",
        "  quexpmv with cfg = JaynesCummings(6,6.283185307179586,6.283185307179586,0.3141592653589793,0.05,0.15,false,0.0:0.1:6.2): nruns = 7, elapsed = 1.210156406 secs"
       ]
      },
      {
       "output_type": "stream",
       "stream": "stdout",
       "text": [
        "\n",
        "  quexpmv with cfg = JaynesCummings(2,6.283185307179586,6.283185307179586,0.3141592653589793,0.05,0.15,true,0.0:0.1:6.2): nruns = 136, elapsed = 1.422152501 secs"
       ]
      },
      {
       "output_type": "stream",
       "stream": "stdout",
       "text": [
        "\n",
        "  quexpmv with cfg = JaynesCummings(3,6.283185307179586,6.283185307179586,0.3141592653589793,0.05,0.15,true,0.0:0.20134228187919462:30.0): nruns = 45, elapsed = 1.418704166 secs"
       ]
      },
      {
       "output_type": "stream",
       "stream": "stdout",
       "text": [
        "\n",
        "  quexpmv with cfg = JaynesCummings(6,6.283185307179586,6.283185307179586,0.3141592653589793,0.05,0.15,true,0.0:0.20134228187919462:30.0): nruns = 6, elapsed = 1.017596683 secs"
       ]
      },
      {
       "output_type": "stream",
       "stream": "stdout",
       "text": [
        "\n",
        "  quexpmv with cfg = JaynesCummings(10,6.283185307179586,6.283185307179586,0.3141592653589793,0.05,0.15,true,0.0:0.20134228187919462:30.0): nruns = 1, elapsed = 1.086813708 secs"
       ]
      },
      {
       "output_type": "stream",
       "stream": "stdout",
       "text": [
        "\n",
        "  quexpmv with cfg = JaynesCummings(2,6.283185307179586,6.283185307179586,0.3141592653589793,0.05,0.15,false,0.0:0.20134228187919462:30.0): nruns = 51, elapsed = 1.352051624 secs"
       ]
      },
      {
       "output_type": "stream",
       "stream": "stdout",
       "text": [
        "\n",
        "  quexpmv with cfg = JaynesCummings(3,6.283185307179586,6.283185307179586,0.3141592653589793,0.05,0.15,false,0.0:0.20134228187919462:30.0): nruns = 37, elapsed = 1.436332803 secs"
       ]
      },
      {
       "output_type": "stream",
       "stream": "stdout",
       "text": [
        "\n",
        "  quexpmv with cfg = JaynesCummings(6,6.283185307179586,6.283185307179586,0.3141592653589793,0.05,0.15,false,0.0:0.20134228187919462:30.0): nruns = 5, elapsed = 1.008039049 secs"
       ]
      },
      {
       "output_type": "stream",
       "stream": "stdout",
       "text": [
        "\n",
        "  quexpmv with cfg = JaynesCummings(10,6.283185307179586,6.283185307179586,0.3141592653589793,0.05,0.15,false,0.0:0.20134228187919462:30.0): nruns = 1, elapsed = 3.090362174 secs"
       ]
      },
      {
       "output_type": "stream",
       "stream": "stdout",
       "text": [
        "\n",
        "Benchmarking quexpokit ...\n",
        "  quexpokit with cfg = JaynesCummings(2,6.283185307179586,6.283185307179586,0.3141592653589793,0.05,0.15,true,0.0:0.1:6.2): nruns = 117, elapsed = 1.196234189 secs"
       ]
      },
      {
       "output_type": "stream",
       "stream": "stdout",
       "text": [
        "\n",
        "  quexpokit with cfg = JaynesCummings(3,6.283185307179586,6.283185307179586,0.3141592653589793,0.05,0.15,true,0.0:0.1:6.2): nruns = 53, elapsed = 1.215834204 secs"
       ]
      },
      {
       "output_type": "stream",
       "stream": "stdout",
       "text": [
        "\n",
        "  quexpokit with cfg = JaynesCummings(6,6.283185307179586,6.283185307179586,0.3141592653589793,0.05,0.15,true,0.0:0.1:6.2): nruns = 5, elapsed = 1.136044309 secs"
       ]
      },
      {
       "output_type": "stream",
       "stream": "stdout",
       "text": [
        "\n",
        "  quexpokit with cfg = JaynesCummings(10,6.283185307179586,6.283185307179586,0.3141592653589793,0.05,0.15,true,0.0:0.1:6.2): nruns = 1, elapsed = 2.563161887 secs"
       ]
      },
      {
       "output_type": "stream",
       "stream": "stdout",
       "text": [
        "\n",
        "  quexpokit with cfg = JaynesCummings(2,6.283185307179586,6.283185307179586,0.3141592653589793,0.05,0.15,false,0.0:0.1:6.2): nruns = 81, elapsed = 1.120385608 secs"
       ]
      },
      {
       "output_type": "stream",
       "stream": "stdout",
       "text": [
        "\n",
        "  quexpokit with cfg = JaynesCummings(3,6.283185307179586,6.283185307179586,0.3141592653589793,0.05,0.15,false,0.0:0.1:6.2): nruns = 21, elapsed = 1.241889414 secs"
       ]
      },
      {
       "output_type": "stream",
       "stream": "stdout",
       "text": [
        "\n",
        "  quexpokit with cfg = JaynesCummings(6,6.283185307179586,6.283185307179586,0.3141592653589793,0.05,0.15,false,0.0:0.1:6.2): nruns = 4, elapsed = 1.487148315 secs"
       ]
      },
      {
       "output_type": "stream",
       "stream": "stdout",
       "text": [
        "\n",
        "  quexpokit with cfg = JaynesCummings(2,6.283185307179586,6.283185307179586,0.3141592653589793,0.05,0.15,true,0.0:0.1:6.2): nruns = 132, elapsed = 1.325063376 secs"
       ]
      },
      {
       "output_type": "stream",
       "stream": "stdout",
       "text": [
        "\n",
        "  quexpokit with cfg = JaynesCummings(3,6.283185307179586,6.283185307179586,0.3141592653589793,0.05,0.15,true,0.0:0.20134228187919462:30.0): nruns = 39, elapsed = 1.279669886 secs"
       ]
      },
      {
       "output_type": "stream",
       "stream": "stdout",
       "text": [
        "\n",
        "  quexpokit with cfg = JaynesCummings(6,6.283185307179586,6.283185307179586,0.3141592653589793,0.05,0.15,true,0.0:0.20134228187919462:30.0): nruns = 5, elapsed = 1.073551628 secs"
       ]
      },
      {
       "output_type": "stream",
       "stream": "stdout",
       "text": [
        "\n",
        "  quexpokit with cfg = JaynesCummings(10,6.283185307179586,6.283185307179586,0.3141592653589793,0.05,0.15,true,0.0:0.20134228187919462:30.0): nruns = 1, elapsed = 1.106173906 secs"
       ]
      },
      {
       "output_type": "stream",
       "stream": "stdout",
       "text": [
        "\n",
        "  quexpokit with cfg = JaynesCummings(2,6.283185307179586,6.283185307179586,0.3141592653589793,0.05,0.15,false,0.0:0.20134228187919462:30.0): nruns = 41, elapsed = 1.310892262 secs"
       ]
      },
      {
       "output_type": "stream",
       "stream": "stdout",
       "text": [
        "\n",
        "  quexpokit with cfg = JaynesCummings(3,6.283185307179586,6.283185307179586,0.3141592653589793,0.05,0.15,false,0.0:0.20134228187919462:30.0): nruns = 6, elapsed = 0.859172289 secs"
       ]
      },
      {
       "output_type": "stream",
       "stream": "stdout",
       "text": [
        "\n",
        "  quexpokit with cfg = JaynesCummings(6,6.283185307179586,6.283185307179586,0.3141592653589793,0.05,0.15,false,0.0:0.20134228187919462:30.0): nruns = 1, elapsed = 0.875369976 secs"
       ]
      },
      {
       "output_type": "stream",
       "stream": "stdout",
       "text": [
        "\n",
        "  quexpokit with cfg = JaynesCummings(10,6.283185307179586,6.283185307179586,0.3141592653589793,0.05,0.15,false,0.0:0.20134228187919462:30.0): nruns = 1, elapsed = 2.039862915 secs"
       ]
      },
      {
       "output_type": "stream",
       "stream": "stdout",
       "text": [
        "\n",
        "Benchmarking quode45 ...\n",
        "  quode45 with cfg = JaynesCummings(2,6.283185307179586,6.283185307179586,0.3141592653589793,0.05,0.15,true,0.0:0.1:6.2): nruns = 94, elapsed = 0.77884051 secs"
       ]
      },
      {
       "output_type": "stream",
       "stream": "stdout",
       "text": [
        "\n",
        "  quode45 with cfg = JaynesCummings(3,6.283185307179586,6.283185307179586,0.3141592653589793,0.05,0.15,true,0.0:0.1:6.2): nruns = 23, elapsed = 0.424402412 secs"
       ]
      },
      {
       "output_type": "stream",
       "stream": "stdout",
       "text": [
        "\n",
        "  quode45 with cfg = JaynesCummings(6,6.283185307179586,6.283185307179586,0.3141592653589793,0.05,0.15,true,0.0:0.1:6.2): nruns = 5, elapsed = 1.028488946 secs"
       ]
      },
      {
       "output_type": "stream",
       "stream": "stdout",
       "text": [
        "\n",
        "  quode45 with cfg = JaynesCummings(10,6.283185307179586,6.283185307179586,0.3141592653589793,0.05,0.15,true,0.0:0.1:6.2): nruns = 1, elapsed = 2.582810318 secs"
       ]
      },
      {
       "output_type": "stream",
       "stream": "stdout",
       "text": [
        "\n",
        "  quode45 with cfg = JaynesCummings(2,6.283185307179586,6.283185307179586,0.3141592653589793,0.05,0.15,false,0.0:0.1:6.2): nruns = 163, elapsed = 3.133377358 secs"
       ]
      },
      {
       "output_type": "stream",
       "stream": "stdout",
       "text": [
        "\n",
        "  quode45 with cfg = JaynesCummings(3,6.283185307179586,6.283185307179586,0.3141592653589793,0.05,0.15,false,0.0:0.1:6.2): nruns = 41, elapsed = 2.298000206 secs"
       ]
      },
      {
       "output_type": "stream",
       "stream": "stdout",
       "text": [
        "\n",
        "  quode45 with cfg = JaynesCummings(6,6.283185307179586,6.283185307179586,0.3141592653589793,0.05,0.15,false,0.0:0.1:6.2): nruns = 3, elapsed = 1.452004254 secs"
       ]
      },
      {
       "output_type": "stream",
       "stream": "stdout",
       "text": [
        "\n",
        "  quode45 with cfg = JaynesCummings(2,6.283185307179586,6.283185307179586,0.3141592653589793,0.05,0.15,true,0.0:0.1:6.2): nruns = 25, elapsed = 0.359347162 secs"
       ]
      },
      {
       "output_type": "stream",
       "stream": "stdout",
       "text": [
        "\n",
        "  quode45 with cfg = JaynesCummings(3,6.283185307179586,6.283185307179586,0.3141592653589793,0.05,0.15,true,0.0:0.20134228187919462:30.0): nruns = 28, elapsed = 2.344597236 secs"
       ]
      },
      {
       "output_type": "stream",
       "stream": "stdout",
       "text": [
        "\n",
        "  quode45 with cfg = JaynesCummings(6,6.283185307179586,6.283185307179586,0.3141592653589793,0.05,0.15,true,0.0:0.20134228187919462:30.0): nruns = 3, elapsed = 1.62361599 secs"
       ]
      },
      {
       "output_type": "stream",
       "stream": "stdout",
       "text": [
        "\n",
        "  quode45 with cfg = JaynesCummings(10,6.283185307179586,6.283185307179586,0.3141592653589793,0.05,0.15,true,0.0:0.20134228187919462:30.0): nruns = 1, elapsed = 2.800360639 secs"
       ]
      },
      {
       "output_type": "stream",
       "stream": "stdout",
       "text": [
        "\n",
        "  quode45 with cfg = JaynesCummings(2,6.283185307179586,6.283185307179586,0.3141592653589793,0.05,0.15,false,0.0:0.20134228187919462:30.0): nruns = 66, elapsed = 3.019122033 secs"
       ]
      },
      {
       "output_type": "stream",
       "stream": "stdout",
       "text": [
        "\n",
        "  quode45 with cfg = JaynesCummings(3,6.283185307179586,6.283185307179586,0.3141592653589793,0.05,0.15,false,0.0:0.20134228187919462:30.0): nruns = 10, elapsed = 1.508205466 secs"
       ]
      },
      {
       "output_type": "stream",
       "stream": "stdout",
       "text": [
        "\n",
        "  quode45 with cfg = JaynesCummings(6,6.283185307179586,6.283185307179586,0.3141592653589793,0.05,0.15,false,0.0:0.20134228187919462:30.0): nruns = 2, elapsed = 1.54771907 secs"
       ]
      },
      {
       "output_type": "stream",
       "stream": "stdout",
       "text": [
        "\n",
        "  quode45 with cfg = JaynesCummings(10,6.283185307179586,6.283185307179586,0.3141592653589793,0.05,0.15,false,0.0:0.20134228187919462:30.0): nruns = 1, elapsed = 3.965089755 secs"
       ]
      },
      {
       "output_type": "stream",
       "stream": "stdout",
       "text": [
        "\n",
        "Benchmarking quode78 ...\n",
        "  quode78 with cfg = JaynesCummings(2,6.283185307179586,6.283185307179586,0.3141592653589793,0.05,0.15,true,0.0:0.1:6.2): nruns = 138, elapsed = 1.87096563 secs"
       ]
      },
      {
       "output_type": "stream",
       "stream": "stdout",
       "text": [
        "\n",
        "  quode78 with cfg = JaynesCummings(3,6.283185307179586,6.283185307179586,0.3141592653589793,0.05,0.15,true,0.0:0.1:6.2): nruns = 69, elapsed = 2.745488113 secs"
       ]
      },
      {
       "output_type": "stream",
       "stream": "stdout",
       "text": [
        "\n",
        "  quode78 with cfg = JaynesCummings(6,6.283185307179586,6.283185307179586,0.3141592653589793,0.05,0.15,true,0.0:0.1:6.2): nruns = 3, elapsed = 1.197754568 secs"
       ]
      },
      {
       "output_type": "stream",
       "stream": "stdout",
       "text": [
        "\n",
        "  quode78 with cfg = JaynesCummings(10,6.283185307179586,6.283185307179586,0.3141592653589793,0.05,0.15,true,0.0:0.1:6.2): nruns = 1, elapsed = 1.053740703 secs"
       ]
      },
      {
       "output_type": "stream",
       "stream": "stdout",
       "text": [
        "\n",
        "  quode78 with cfg = JaynesCummings(2,6.283185307179586,6.283185307179586,0.3141592653589793,0.05,0.15,false,0.0:0.1:6.2): nruns = 198, elapsed = 1.313029546 secs"
       ]
      },
      {
       "output_type": "stream",
       "stream": "stdout",
       "text": [
        "\n",
        "  quode78 with cfg = JaynesCummings(3,6.283185307179586,6.283185307179586,0.3141592653589793,0.05,0.15,false,0.0:0.1:6.2): nruns = 26, elapsed = 0.422778984 secs"
       ]
      },
      {
       "output_type": "stream",
       "stream": "stdout",
       "text": [
        "\n",
        "  quode78 with cfg = JaynesCummings(6,6.283185307179586,6.283185307179586,0.3141592653589793,0.05,0.15,false,0.0:0.1:6.2): nruns = 7, elapsed = 1.118837089 secs"
       ]
      },
      {
       "output_type": "stream",
       "stream": "stdout",
       "text": [
        "\n",
        "  quode78 with cfg = JaynesCummings(2,6.283185307179586,6.283185307179586,0.3141592653589793,0.05,0.15,true,0.0:0.1:6.2): nruns = 191, elapsed = 1.20340065 secs"
       ]
      },
      {
       "output_type": "stream",
       "stream": "stdout",
       "text": [
        "\n",
        "  quode78 with cfg = JaynesCummings(3,6.283185307179586,6.283185307179586,0.3141592653589793,0.05,0.15,true,0.0:0.20134228187919462:30.0): nruns = 42, elapsed = 1.522490791 secs"
       ]
      },
      {
       "output_type": "stream",
       "stream": "stdout",
       "text": [
        "\n",
        "  quode78 with cfg = JaynesCummings(6,6.283185307179586,6.283185307179586,0.3141592653589793,0.05,0.15,true,0.0:0.20134228187919462:30.0): nruns = 2, elapsed = 1.130223237 secs"
       ]
      },
      {
       "output_type": "stream",
       "stream": "stdout",
       "text": [
        "\n",
        "  quode78 with cfg = JaynesCummings(10,6.283185307179586,6.283185307179586,0.3141592653589793,0.05,0.15,true,0.0:0.20134228187919462:30.0): nruns = 1, elapsed = 2.889525315 secs"
       ]
      },
      {
       "output_type": "stream",
       "stream": "stdout",
       "text": [
        "\n",
        "  quode78 with cfg = JaynesCummings(2,6.283185307179586,6.283185307179586,0.3141592653589793,0.05,0.15,false,0.0:0.20134228187919462:30.0): nruns = 60, elapsed = 1.516122378 secs"
       ]
      },
      {
       "output_type": "stream",
       "stream": "stdout",
       "text": [
        "\n",
        "  quode78 with cfg = JaynesCummings(3,6.283185307179586,6.283185307179586,0.3141592653589793,0.05,0.15,false,0.0:0.20134228187919462:30.0): nruns = 16, elapsed = 1.943614235 secs"
       ]
      },
      {
       "output_type": "stream",
       "stream": "stdout",
       "text": [
        "\n",
        "  quode78 with cfg = JaynesCummings(6,6.283185307179586,6.283185307179586,0.3141592653589793,0.05,0.15,false,0.0:0.20134228187919462:30.0): nruns = 2, elapsed = 1.769777248 secs"
       ]
      },
      {
       "output_type": "stream",
       "stream": "stdout",
       "text": [
        "\n",
        "  quode78 with cfg = JaynesCummings(10,6.283185307179586,6.283185307179586,0.3141592653589793,0.05,0.15,false,0.0:0.20134228187919462:30.0): nruns = 1, elapsed = 3.830684292 secs"
       ]
      },
      {
       "output_type": "stream",
       "stream": "stdout",
       "text": [
        "\n",
        "Benchmarking quode23s ...\n",
        "  quode23s with cfg = JaynesCummings(2,6.283185307179586,6.283185307179586,0.3141592653589793,0.05,0.15,true,0.0:0.1:6.2): nruns = 33, elapsed = 1.618036874 secs"
       ]
      },
      {
       "output_type": "stream",
       "stream": "stdout",
       "text": [
        "\n",
        "  quode23s with cfg = JaynesCummings(3,6.283185307179586,6.283185307179586,0.3141592653589793,0.05,0.15,true,0.0:0.1:6.2): nruns = 7, elapsed = 1.532040109 secs"
       ]
      },
      {
       "output_type": "stream",
       "stream": "stdout",
       "text": [
        "\n",
        "  quode23s with cfg = JaynesCummings(6,6.283185307179586,6.283185307179586,0.3141592653589793,0.05,0.15,true,0.0:0.1:6.2): nruns = 1, elapsed = 2.059682099 secs"
       ]
      },
      {
       "output_type": "stream",
       "stream": "stdout",
       "text": [
        "\n",
        "  quode23s with cfg = JaynesCummings(10,6.283185307179586,6.283185307179586,0.3141592653589793,0.05,0.15,true,0.0:0.1:6.2): nruns = 1, elapsed = 17.359796831 secs"
       ]
      },
      {
       "output_type": "stream",
       "stream": "stdout",
       "text": [
        "\n",
        "  quode23s with cfg = JaynesCummings(2,6.283185307179586,6.283185307179586,0.3141592653589793,0.05,0.15,false,0.0:0.1:6.2): nruns = 33, elapsed = 1.686823697 secs"
       ]
      },
      {
       "output_type": "stream",
       "stream": "stdout",
       "text": [
        "\n",
        "  quode23s with cfg = JaynesCummings(3,6.283185307179586,6.283185307179586,0.3141592653589793,0.05,0.15,false,0.0:0.1:6.2): nruns = 6, elapsed = 1.197741262 secs"
       ]
      },
      {
       "output_type": "stream",
       "stream": "stdout",
       "text": [
        "\n",
        "  quode23s with cfg = JaynesCummings(6,6.283185307179586,6.283185307179586,0.3141592653589793,0.05,0.15,false,0.0:0.1:6.2): nruns = 1, elapsed = 2.65447805 secs"
       ]
      },
      {
       "output_type": "stream",
       "stream": "stdout",
       "text": [
        "\n",
        "  quode23s with cfg = JaynesCummings(2,6.283185307179586,6.283185307179586,0.3141592653589793,0.05,0.15,true,0.0:0.1:6.2): nruns = 11, elapsed = 0.605930779 secs"
       ]
      },
      {
       "output_type": "stream",
       "stream": "stdout",
       "text": [
        "\n",
        "  quode23s with cfg = JaynesCummings(3,6.283185307179586,6.283185307179586,0.3141592653589793,0.05,0.15,true,0.0:0.20134228187919462:30.0): nruns = 3, elapsed = 1.304759853 secs"
       ]
      },
      {
       "output_type": "stream",
       "stream": "stdout",
       "text": [
        "\n",
        "  quode23s with cfg = JaynesCummings(6,6.283185307179586,6.283185307179586,0.3141592653589793,0.05,0.15,true,0.0:0.20134228187919462:30.0): nruns = 1, elapsed = 5.827931735 secs"
       ]
      },
      {
       "output_type": "stream",
       "stream": "stdout",
       "text": [
        "\n",
        "  quode23s with cfg = JaynesCummings(10,6.283185307179586,6.283185307179586,0.3141592653589793,0.05,0.15,true,0.0:0.20134228187919462:30.0): nruns = 1, elapsed = 46.664039695 secs"
       ]
      },
      {
       "output_type": "stream",
       "stream": "stdout",
       "text": [
        "\n",
        "  quode23s with cfg = JaynesCummings(2,6.283185307179586,6.283185307179586,0.3141592653589793,0.05,0.15,false,0.0:0.20134228187919462:30.0): nruns = 10, elapsed = 1.356058932 secs"
       ]
      },
      {
       "output_type": "stream",
       "stream": "stdout",
       "text": [
        "\n",
        "  quode23s with cfg = JaynesCummings(3,6.283185307179586,6.283185307179586,0.3141592653589793,0.05,0.15,false,0.0:0.20134228187919462:30.0): nruns = 2, elapsed = 1.062798174 secs"
       ]
      },
      {
       "output_type": "stream",
       "stream": "stdout",
       "text": [
        "\n",
        "  quode23s with cfg = JaynesCummings(6,6.283185307179586,6.283185307179586,0.3141592653589793,0.05,0.15,false,0.0:0.20134228187919462:30.0): nruns = 1, elapsed = 7.141154448 secs"
       ]
      },
      {
       "output_type": "stream",
       "stream": "stdout",
       "text": [
        "\n",
        "  quode23s with cfg = JaynesCummings(10,6.283185307179586,6.283185307179586,0.3141592653589793,0.05,0.15,false,0.0:0.20134228187919462:30.0): nruns = 1, elapsed = 61.273136992 secs"
       ]
      },
      {
       "output_type": "stream",
       "stream": "stdout",
       "text": [
        "\n"
       ]
      },
      {
       "metadata": {},
       "output_type": "pyout",
       "prompt_number": 20,
       "text": [
        "BenchmarkTable [unit = sec]\n",
        "config                                                                                                                 |  quexpmv  quexpokit  quode45  quode78  quode23s  \n",
        "--------------------------------------------------------------------------------------------------------------------------------------------------------------------------\n",
        "JaynesCummings(2,6.283185307179586,6.283185307179586,0.3141592653589793,0.05,0.15,true,0.0:0.1:6.2)                    |   0.0112     0.0102   0.0083   0.0136    0.0490  \n",
        "JaynesCummings(3,6.283185307179586,6.283185307179586,0.3141592653589793,0.05,0.15,true,0.0:0.1:6.2)                    |   0.0176     0.0229   0.0185   0.0398    0.2189  \n",
        "JaynesCummings(6,6.283185307179586,6.283185307179586,0.3141592653589793,0.05,0.15,true,0.0:0.1:6.2)                    |   0.1440     0.2272   0.2057   0.3993    2.0597  \n",
        "JaynesCummings(10,6.283185307179586,6.283185307179586,0.3141592653589793,0.05,0.15,true,0.0:0.1:6.2)                   |   1.3403     2.5632   2.5828   1.0537   17.3598  \n",
        "JaynesCummings(2,6.283185307179586,6.283185307179586,0.3141592653589793,0.05,0.15,false,0.0:0.1:6.2)                   |   0.0119     0.0138   0.0192   0.0066    0.0511  \n",
        "JaynesCummings(3,6.283185307179586,6.283185307179586,0.3141592653589793,0.05,0.15,false,0.0:0.1:6.2)                   |   0.0206     0.0591   0.0560   0.0163    0.1996  \n",
        "JaynesCummings(6,6.283185307179586,6.283185307179586,0.3141592653589793,0.05,0.15,false,0.0:0.1:6.2)                   |   0.1729     0.3718   0.4840   0.1598    2.6545  \n",
        "JaynesCummings(2,6.283185307179586,6.283185307179586,0.3141592653589793,0.05,0.15,true,0.0:0.1:6.2)                    |   0.0105     0.0100   0.0144   0.0063    0.0551  \n",
        "JaynesCummings(3,6.283185307179586,6.283185307179586,0.3141592653589793,0.05,0.15,true,0.0:0.20134228187919462:30.0)   |   0.0315     0.0328   0.0837   0.0362    0.4349  \n",
        "JaynesCummings(6,6.283185307179586,6.283185307179586,0.3141592653589793,0.05,0.15,true,0.0:0.20134228187919462:30.0)   |   0.1696     0.2147   0.5412   0.5651    5.8279  \n",
        "JaynesCummings(10,6.283185307179586,6.283185307179586,0.3141592653589793,0.05,0.15,true,0.0:0.20134228187919462:30.0)  |   1.0868     1.1062   2.8004   2.8895   46.6640  \n",
        "JaynesCummings(2,6.283185307179586,6.283185307179586,0.3141592653589793,0.05,0.15,false,0.0:0.20134228187919462:30.0)  |   0.0265     0.0320   0.0457   0.0253    0.1356  \n",
        "JaynesCummings(3,6.283185307179586,6.283185307179586,0.3141592653589793,0.05,0.15,false,0.0:0.20134228187919462:30.0)  |   0.0388     0.1432   0.1508   0.1215    0.5314  \n",
        "JaynesCummings(6,6.283185307179586,6.283185307179586,0.3141592653589793,0.05,0.15,false,0.0:0.20134228187919462:30.0)  |   0.2016     0.8754   0.7739   0.8849    7.1412  \n",
        "JaynesCummings(10,6.283185307179586,6.283185307179586,0.3141592653589793,0.05,0.15,false,0.0:0.20134228187919462:30.0) |   3.0904     2.0399   3.9651   3.8307   61.2731  \n"
       ]
      }
     ],
     "prompt_number": 20
    },
    {
     "cell_type": "code",
     "collapsed": false,
     "input": [
      "# Table display from the above method.\n",
      "show(rtable; unit=:usec)"
     ],
     "language": "python",
     "metadata": {},
     "outputs": [
      {
       "output_type": "stream",
       "stream": "stdout",
       "text": [
        "BenchmarkTable [unit = usec]\n"
       ]
      },
      {
       "output_type": "stream",
       "stream": "stdout",
       "text": [
        "config                                                                                                                 |       quexpmv     quexpokit       quode45       quode78       quode23s  \n",
        "-------------------------------------------------------------------------------------------------------------------------------------------------------------------------------------------------\n",
        "JaynesCummings(2,6.283185307179586,6.283185307179586,0.3141592653589793,0.05,0.15,true,0.0:0.1:6.2)                    |    11207.8147    10224.2238     8285.5373    13557.7220     49031.4204  \n",
        "JaynesCummings(3,6.283185307179586,6.283185307179586,0.3141592653589793,0.05,0.15,true,0.0:0.1:6.2)                    |    17619.9517    22940.2680    18452.2788    39789.6828    218862.8727  \n",
        "JaynesCummings(6,6.283185307179586,6.283185307179586,0.3141592653589793,0.05,0.15,true,0.0:0.1:6.2)                    |   143973.1299   227208.8618   205697.7892   399251.5227   2059682.0990  \n",
        "JaynesCummings(10,6.283185307179586,6.283185307179586,0.3141592653589793,0.05,0.15,true,0.0:0.1:6.2)                   |  1340266.3320  2563161.8870  2582810.3180  1053740.7030  17359796.8310  \n",
        "JaynesCummings(2,6.283185307179586,6.283185307179586,0.3141592653589793,0.05,0.15,false,0.0:0.1:6.2)                   |    11946.6869    13831.9211    19223.1740     6631.4624     51115.8696  \n",
        "JaynesCummings(3,6.283185307179586,6.283185307179586,0.3141592653589793,0.05,0.15,false,0.0:0.1:6.2)                   |    20564.7943    59137.5911    56048.7855    16260.7302    199623.5437  \n",
        "JaynesCummings(6,6.283185307179586,6.283185307179586,0.3141592653589793,0.05,0.15,false,0.0:0.1:6.2)                   |   172879.4866   371787.0787   484001.4180   159833.8699   2654478.0500  \n",
        "JaynesCummings(2,6.283185307179586,6.283185307179586,0.3141592653589793,0.05,0.15,true,0.0:0.1:6.2)                    |    10457.0037    10038.3589    14373.8865     6300.5270     55084.6163  \n",
        "JaynesCummings(3,6.283185307179586,6.283185307179586,0.3141592653589793,0.05,0.15,true,0.0:0.20134228187919462:30.0)   |    31526.7592    32812.0484    83735.6156    36249.7807    434919.9510  \n",
        "JaynesCummings(6,6.283185307179586,6.283185307179586,0.3141592653589793,0.05,0.15,true,0.0:0.20134228187919462:30.0)   |   169599.4472   214710.3256   541205.3300   565111.6185   5827931.7350  \n",
        "JaynesCummings(10,6.283185307179586,6.283185307179586,0.3141592653589793,0.05,0.15,true,0.0:0.20134228187919462:30.0)  |  1086813.7080  1106173.9060  2800360.6390  2889525.3150  46664039.6950  \n",
        "JaynesCummings(2,6.283185307179586,6.283185307179586,0.3141592653589793,0.05,0.15,false,0.0:0.20134228187919462:30.0)  |    26510.8162    31972.9820    45744.2732    25268.7063    135605.8932  \n",
        "JaynesCummings(3,6.283185307179586,6.283185307179586,0.3141592653589793,0.05,0.15,false,0.0:0.20134228187919462:30.0)  |    38819.8055   143195.3815   150820.5466   121475.8897    531399.0870  \n",
        "JaynesCummings(6,6.283185307179586,6.283185307179586,0.3141592653589793,0.05,0.15,false,0.0:0.20134228187919462:30.0)  |   201607.8098   875369.9760   773859.5350   884888.6240   7141154.4480  \n",
        "JaynesCummings(10,6.283185307179586,6.283185307179586,0.3141592653589793,0.05,0.15,false,0.0:0.20134228187919462:30.0) |  3090362.1740  2039862.9150  3965089.7550  3830684.2920  61273136.9920  \n"
       ]
      }
     ],
     "prompt_number": 21
    },
    {
     "cell_type": "code",
     "collapsed": false,
     "input": [],
     "language": "python",
     "metadata": {},
     "outputs": []
    }
   ],
   "metadata": {}
  }
 ]
}
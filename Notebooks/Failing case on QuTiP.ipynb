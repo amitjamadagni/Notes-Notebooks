{
 "cells": [
  {
   "cell_type": "code",
   "execution_count": 1,
   "metadata": {
    "collapsed": false
   },
   "outputs": [
    {
     "name": "stderr",
     "output_type": "stream",
     "text": [
      "WARNING: `require` is deprecated, use `using` or `import` instead\n",
      " in depwarn at deprecated.jl:73\n",
      " [inlined code] from deprecated.jl:694\n",
      " in require at no file:0\n",
      " in include_string at loading.jl:266\n",
      " in execute_request_0x535c5df2 at /home/amit/.julia/v0.4/IJulia/src/execute_request.jl:182\n",
      " in eventloop at /home/amit/.julia/v0.4/IJulia/src/IJulia.jl:142\n",
      " in anonymous at task.jl:447\n",
      "while loading In[1], in expression starting on line 1\n"
     ]
    }
   ],
   "source": [
    "require(\"/home/amit/Downloads/SemVII/QuDynamics.jl/src/QuDynamics.jl\")"
   ]
  },
  {
   "cell_type": "code",
   "execution_count": 2,
   "metadata": {
    "collapsed": true
   },
   "outputs": [],
   "source": [
    "using PyPlot"
   ]
  },
  {
   "cell_type": "code",
   "execution_count": 3,
   "metadata": {
    "collapsed": true
   },
   "outputs": [],
   "source": [
    "using QuDynamics\n",
    "using QuBase"
   ]
  },
  {
   "cell_type": "code",
   "execution_count": 4,
   "metadata": {
    "collapsed": true
   },
   "outputs": [],
   "source": [
    "immutable QuLindbladMasterEqTD <: QuEquation{0} end"
   ]
  },
  {
   "cell_type": "code",
   "execution_count": 5,
   "metadata": {
    "collapsed": false
   },
   "outputs": [
    {
     "data": {
      "text/plain": [
       "linspace(0.0,2.0,1000)"
      ]
     },
     "execution_count": 5,
     "metadata": {},
     "output_type": "execute_result"
    }
   ],
   "source": [
    "c_const = 299792458\n",
    "N = 20             # number of cavity fock states\n",
    "wc = (c_const/(1300.03))*(2*pi) \n",
    "wl = wc;\n",
    "delta1 = wl-wc\n",
    "# psi0 = tensor(basis(N,0)) \n",
    "psi0 = statevec(1, FiniteBasis(N))\n",
    "QFactorCavity = 10^5 #QFactor cavity\n",
    "KappaOUT = wc/QFactorCavity\n",
    "\n",
    "# Parameters for pumping\n",
    "\n",
    "KappaIN=1*KappaOUT \n",
    "FluxPhotons =1\n",
    "Multiplicator = 1\n",
    "E=sqrt(KappaIN)*sqrt(FluxPhotons)\n",
    "Input_Tstart = 1 #nanoseconds\n",
    "Input_TWidth = 0.1/2.355 #nanoseconds\n",
    "sizeT=1000\n",
    "T=2\n",
    "tlist = linspace(0,T,sizeT)\n",
    "\n",
    "\n",
    "# def H1_coeffGauss(t, args):\n",
    "#    return np.exp(-((t-Input_Tstart)/(sqrt(2)*Input_TWidth)) ** 2)\n",
    " \n",
    "# output = mesolve(H, psi0, tlist,c_op_list, [])\n",
    "# N_c = expect(a.dag() * a,output.states)\n",
    "\n",
    "# plt.rc('text', usetex=True)\n",
    "# plt.rc('font', family='arial',size=20)\n",
    "\n",
    "# fig, axes = plt.subplots(1, 1, figsize=(10,6))\n",
    "# plt.plot(tlist, N_c, \"ro\")"
   ]
  },
  {
   "cell_type": "code",
   "execution_count": 6,
   "metadata": {
    "collapsed": false
   },
   "outputs": [
    {
     "data": {
      "text/plain": [
       "20x20 QuMatrix in QuBase.FiniteBasis{QuBase.Orthonormal}:\n",
       "...coefficients: SparseMatrixCSC{Float64,Int64}\n",
       "\n",
       "\t[1 ,  2]  =  3.80648\n",
       "\t[2 ,  3]  =  5.38318\n",
       "\t[3 ,  4]  =  6.59302\n",
       "\t[4 ,  5]  =  7.61296\n",
       "\t[5 ,  6]  =  8.51155\n",
       "\t[6 ,  7]  =  9.32393\n",
       "\t[7 ,  8]  =  10.071\n",
       "\t[8 ,  9]  =  10.7664\n",
       "\t[9 , 10]  =  11.4194\n",
       "\t[10, 11]  =  12.0371\n",
       "\t[11, 12]  =  12.6247\n",
       "\t[12, 13]  =  13.186\n",
       "\t[13, 14]  =  13.7245\n",
       "\t[14, 15]  =  14.2425\n",
       "\t[15, 16]  =  14.7424\n",
       "\t[16, 17]  =  15.2259\n",
       "\t[17, 18]  =  15.6945\n",
       "\t[18, 19]  =  16.1495\n",
       "\t[19, 20]  =  16.5921"
      ]
     },
     "execution_count": 6,
     "metadata": {},
     "output_type": "execute_result"
    }
   ],
   "source": [
    "psi0 = statevec(1, FiniteBasis(N))\n",
    "a  = tensor(lowerop(N))\n",
    "H0 = -delta1*a'*a\n",
    "H1 = im*E*(a'-a)\n",
    "# H = [H0,[H1,H1_coeffGauss]]\n",
    "c_op_list = Array(QuBase.QuArray,1)\n",
    "c_op_list[1] = sqrt(KappaOUT) * a"
   ]
  },
  {
   "cell_type": "code",
   "execution_count": 7,
   "metadata": {
    "collapsed": false
   },
   "outputs": [
    {
     "data": {
      "text/plain": [
       "fn_1 (generic function with 1 method)"
      ]
     },
     "execution_count": 7,
     "metadata": {},
     "output_type": "execute_result"
    }
   ],
   "source": [
    "function fn_1(H0, H1, t)\n",
    "    H0 + H1*exp(-((t-Input_Tstart)/(sqrt(2)*Input_TWidth))^2)\n",
    "end"
   ]
  },
  {
   "cell_type": "code",
   "execution_count": 8,
   "metadata": {
    "collapsed": false
   },
   "outputs": [
    {
     "data": {
      "text/plain": [
       "operator (generic function with 9 methods)"
      ]
     },
     "execution_count": 8,
     "metadata": {},
     "output_type": "execute_result"
    }
   ],
   "source": [
    "function QuDynamics.operator(qu_eq::QuLindbladMasterEqTD, t)\n",
    "    QuDynamics.lindblad_op(fn_1(H0, H1, t), c_op_list)\n",
    "end"
   ]
  },
  {
   "cell_type": "code",
   "execution_count": 9,
   "metadata": {
    "collapsed": false
   },
   "outputs": [
    {
     "data": {
      "text/plain": [
       "QuDynamics.QuStateEvolution{QuDynamics.QuExpmV,QuBase.QuArray{QuBase.FiniteBasis{QuBase.Orthonormal},Float64,2,Array{Float64,2}},QuLindbladMasterEqTD}(QuLindbladMasterEqTD(),20x20 QuMatrix in QuBase.FiniteBasis{QuBase.Orthonormal}:\n",
       "...coefficients: Array{Float64,2}\n",
       "[1.0 0.0 0.0 0.0 0.0 0.0 0.0 0.0 0.0 0.0 0.0 0.0 0.0 0.0 0.0 0.0 0.0 0.0 0.0 0.0\n",
       " 0.0 0.0 0.0 0.0 0.0 0.0 0.0 0.0 0.0 0.0 0.0 0.0 0.0 0.0 0.0 0.0 0.0 0.0 0.0 0.0\n",
       " 0.0 0.0 0.0 0.0 0.0 0.0 0.0 0.0 0.0 0.0 0.0 0.0 0.0 0.0 0.0 0.0 0.0 0.0 0.0 0.0\n",
       " 0.0 0.0 0.0 0.0 0.0 0.0 0.0 0.0 0.0 0.0 0.0 0.0 0.0 0.0 0.0 0.0 0.0 0.0 0.0 0.0\n",
       " 0.0 0.0 0.0 0.0 0.0 0.0 0.0 0.0 0.0 0.0 0.0 0.0 0.0 0.0 0.0 0.0 0.0 0.0 0.0 0.0\n",
       " 0.0 0.0 0.0 0.0 0.0 0.0 0.0 0.0 0.0 0.0 0.0 0.0 0.0 0.0 0.0 0.0 0.0 0.0 0.0 0.0\n",
       " 0.0 0.0 0.0 0.0 0.0 0.0 0.0 0.0 0.0 0.0 0.0 0.0 0.0 0.0 0.0 0.0 0.0 0.0 0.0 0.0\n",
       " 0.0 0.0 0.0 0.0 0.0 0.0 0.0 0.0 0.0 0.0 0.0 0.0 0.0 0.0 0.0 0.0 0.0 0.0 0.0 0.0\n",
       " 0.0 0.0 0.0 0.0 0.0 0.0 0.0 0.0 0.0 0.0 0.0 0.0 0.0 0.0 0.0 0.0 0.0 0.0 0.0 0.0\n",
       " 0.0 0.0 0.0 0.0 0.0 0.0 0.0 0.0 0.0 0.0 0.0 0.0 0.0 0.0 0.0 0.0 0.0 0.0 0.0 0.0\n",
       " 0.0 0.0 0.0 0.0 0.0 0.0 0.0 0.0 0.0 0.0 0.0 0.0 0.0 0.0 0.0 0.0 0.0 0.0 0.0 0.0\n",
       " 0.0 0.0 0.0 0.0 0.0 0.0 0.0 0.0 0.0 0.0 0.0 0.0 0.0 0.0 0.0 0.0 0.0 0.0 0.0 0.0\n",
       " 0.0 0.0 0.0 0.0 0.0 0.0 0.0 0.0 0.0 0.0 0.0 0.0 0.0 0.0 0.0 0.0 0.0 0.0 0.0 0.0\n",
       " 0.0 0.0 0.0 0.0 0.0 0.0 0.0 0.0 0.0 0.0 0.0 0.0 0.0 0.0 0.0 0.0 0.0 0.0 0.0 0.0\n",
       " 0.0 0.0 0.0 0.0 0.0 0.0 0.0 0.0 0.0 0.0 0.0 0.0 0.0 0.0 0.0 0.0 0.0 0.0 0.0 0.0\n",
       " 0.0 0.0 0.0 0.0 0.0 0.0 0.0 0.0 0.0 0.0 0.0 0.0 0.0 0.0 0.0 0.0 0.0 0.0 0.0 0.0\n",
       " 0.0 0.0 0.0 0.0 0.0 0.0 0.0 0.0 0.0 0.0 0.0 0.0 0.0 0.0 0.0 0.0 0.0 0.0 0.0 0.0\n",
       " 0.0 0.0 0.0 0.0 0.0 0.0 0.0 0.0 0.0 0.0 0.0 0.0 0.0 0.0 0.0 0.0 0.0 0.0 0.0 0.0\n",
       " 0.0 0.0 0.0 0.0 0.0 0.0 0.0 0.0 0.0 0.0 0.0 0.0 0.0 0.0 0.0 0.0 0.0 0.0 0.0 0.0\n",
       " 0.0 0.0 0.0 0.0 0.0 0.0 0.0 0.0 0.0 0.0 0.0 0.0 0.0 0.0 0.0 0.0 0.0 0.0 0.0 0.0],linspace(0.0,2.0,1000),QuDynamics.QuExpmV(Dict{Symbol,Any}()))"
      ]
     },
     "execution_count": 9,
     "metadata": {},
     "output_type": "execute_result"
    }
   ],
   "source": [
    "qprop_1 = QuPropagator(QuLindbladMasterEqTD(), psi0*psi0', tlist, QuExpmV())"
   ]
  },
  {
   "cell_type": "code",
   "execution_count": 10,
   "metadata": {
    "collapsed": false
   },
   "outputs": [],
   "source": [
    "expect_1 = Array(Complex128, length(tlist))\n",
    "i = 1\n",
    "for (t, psi) in qprop_1\n",
    "    expect_1[i] = expectationvalue(a'*a, psi)\n",
    "    i = i + 1\n",
    "end"
   ]
  },
  {
   "cell_type": "code",
   "execution_count": 11,
   "metadata": {
    "collapsed": false
   },
   "outputs": [
    {
     "data": {
      "image/png": "[encoded data removed]",
      "text/plain": [
       "PyPlot.Figure(PyObject <matplotlib.figure.Figure object at 0x7f0d84379e10>)"
      ]
     },
     "metadata": {},
     "output_type": "display_data"
    }
   ],
   "source": [
    "for i in 1:length(tlist)-1\n",
    "    plot(tlist[i], real(expect_1[i]), \"ro\")\n",
    "end"
   ]
  },
  {
   "cell_type": "code",
   "execution_count": null,
   "metadata": {
    "collapsed": true
   },
   "outputs": [],
   "source": []
  }
 ],
 "metadata": {
  "kernelspec": {
   "display_name": "Julia 0.4.1",
   "language": "julia",
   "name": "julia-0.4"
  },
  "language_info": {
   "file_extension": ".jl",
   "mimetype": "application/julia",
   "name": "julia",
   "version": "0.4.1"
  }
 },
 "nbformat": 4,
 "nbformat_minor": 0
}

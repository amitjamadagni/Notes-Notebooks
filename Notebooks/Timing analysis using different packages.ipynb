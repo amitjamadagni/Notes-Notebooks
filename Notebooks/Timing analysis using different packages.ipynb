{
 "metadata": {
  "name": ""
 },
 "nbformat": 3,
 "nbformat_minor": 0,
 "worksheets": [
  {
   "cells": [
    {
     "cell_type": "code",
     "collapsed": false,
     "input": [
      "require(\"/home/esornep/Downloads/SemVII/QuDynamics.jl/src/QuDynamics.jl\")\n",
      "\n",
      "using QuDynamics\n",
      "using QuBase\n",
      "using PyPlot"
     ],
     "language": "python",
     "metadata": {},
     "outputs": [],
     "prompt_number": 12
    },
    {
     "cell_type": "code",
     "collapsed": false,
     "input": [
      "function initialize_harmonic_oscillator(n::Int, lambda::Any)\n",
      "    a = lowerop(n)\n",
      "    hamiltonian = a'*a + lambda*(a + a')\n",
      "    init_state = statevec(1,FiniteBasis(n))\n",
      "    return hamiltonian, init_state\n",
      "end\n",
      "t = 0.:0.1:2*pi"
     ],
     "language": "python",
     "metadata": {},
     "outputs": [
      {
       "metadata": {},
       "output_type": "pyout",
       "prompt_number": 13,
       "text": [
        "0.0:0.1:6.2"
       ]
      }
     ],
     "prompt_number": 13
    },
    {
     "cell_type": "code",
     "collapsed": false,
     "input": [
      "for i=[1:100]\n",
      "    n = rand(1:500)\n",
      "    init = initialize_harmonic_oscillator(n, 0.5)\n",
      "    qexpm_expo  = QuPropagator(init[1], init[2], t, QuExpm_Expo())\n",
      "    qexpm_expmv  = QuPropagator(init[1], init[2], t, QuExpm_ExpmV())\n",
      "    start_state_qexpm_expo = start(qexpm_expo)\n",
      "    start_state_qexpm_expmv = start(qexpm_expmv)\n",
      "    tic()\n",
      "    next(qexpm_expo, start_state_qexpm_expo)\n",
      "    end_time_1 = toq()\n",
      "    plot(n, end_time_1, \"bs\")\n",
      "    tic()\n",
      "    next(qexpm_expmv, start_state_qexpm_expmv)\n",
      "    end_time_2 = toq()\n",
      "    plot(n, end_time_2, \"ro\")\n",
      "    println(n, \" \", end_time_1, \" \", end_time_2)\n",
      "end\n"
     ],
     "language": "python",
     "metadata": {},
     "outputs": [
      {
       "output_type": "stream",
       "stream": "stdout",
       "text": [
        "482 "
       ]
      },
      {
       "output_type": "stream",
       "stream": "stdout",
       "text": [
        "0.038562072 0.046442192\n",
        "138 0.006858721 0.000485015\n",
        "223 0.003171305 0.000732101\n",
        "15 0.0010122 0.000245445\n",
        "22 0.000833229 0.00022531\n",
        "301 0.003184652 0.001010588\n",
        "259 0.003026888 0.00075855\n",
        "85 0.00261298 0.000273648\n",
        "214"
       ]
      },
      {
       "output_type": "stream",
       "stream": "stdout",
       "text": [
        " 0.003554563 0.000680095\n",
        "343 0.005121051 0.00117483\n",
        "12 0.000392256 0.000215153\n",
        "17 0.00049695 0.000202636\n",
        "333 0.003378014 0.001072577\n",
        "301 0.003164716 0.000962085\n",
        "242"
       ]
      },
      {
       "output_type": "stream",
       "stream": "stdout",
       "text": [
        " 0.006788338 0.000726524\n",
        "483 0.004249403 0.00180414\n",
        "476 0.003868925 0.001763628\n",
        "321"
       ]
      },
      {
       "output_type": "stream",
       "stream": "stdout",
       "text": [
        " 0.003241599 0.000981758\n",
        "448 0.00406833 0.001676572\n",
        "17 0.000527447 0.000216584\n",
        "5 0.000144218 0.00019455\n",
        "193 0.003141795 0.000614842\n",
        "283 0.003152259 0.000910303\n",
        "216"
       ]
      },
      {
       "output_type": "stream",
       "stream": "stdout",
       "text": [
        " 0.002860912 0.000669078\n",
        "179 0.002819784 0.000526644\n",
        "322 0.003241738 0.001012451\n",
        "200 0.003326938 0.000631129\n",
        "198"
       ]
      },
      {
       "output_type": "stream",
       "stream": "stdout",
       "text": [
        " 0.039768472 0.00065559\n",
        "291 0.003793591 0.001075056\n",
        "250 0.003044749 0.000765957\n",
        "301 0.003172478 0.000985309\n",
        "134 0.002618329 0.000424067\n",
        "234 0.002950968 0.000702033\n",
        "166"
       ]
      },
      {
       "output_type": "stream",
       "stream": "stdout",
       "text": [
        " 0.002740399 0.000471144\n",
        "69 0.003503977 0.000275058\n",
        "146 0.011177777 0.000482912\n",
        "26 0.014442284 0.000242314\n",
        "263 0.00303583 0.000754103\n",
        "31 0.000959435 0.000228087\n",
        "370"
       ]
      },
      {
       "output_type": "stream",
       "stream": "stdout",
       "text": [
        " 0.004191915 0.001134127\n",
        "489 0.004330537 0.001884\n",
        "7 0.000213989 0.00020261\n",
        "33 0.000932928 0.000220239\n",
        "47 0.001148261 0.00023315\n",
        "306 0.003204667 0.000970289\n",
        "403"
       ]
      },
      {
       "output_type": "stream",
       "stream": "stdout",
       "text": [
        " 0.003579019 0.001509304\n",
        "31 0.001949174 0.000230723\n",
        "483 0.004416346 0.001923264\n",
        "130 0.002647985 0.000432527\n",
        "6 0.000172816 0.000184985\n",
        "254 0.002946326 0.000728875\n",
        "115 0.002526567 0.000380563\n",
        "396"
       ]
      },
      {
       "output_type": "stream",
       "stream": "stdout",
       "text": [
        " 0.003555175 0.001417483\n",
        "149 0.011448449 0.000471067\n",
        "315 0.038528864 0.00101136\n",
        "337"
       ]
      },
      {
       "output_type": "stream",
       "stream": "stdout",
       "text": [
        " 0.003307184 0.00105196\n",
        "458 0.00409079 0.001734927\n",
        "60 0.000969467 0.000255672\n",
        "256 0.003027521 0.000750027\n",
        "144 0.002862237 0.000441757\n",
        "234 0.002942188 0.0007086\n",
        "147"
       ]
      },
      {
       "output_type": "stream",
       "stream": "stdout",
       "text": [
        " 0.002702493 0.000467052\n",
        "26 0.004443422 0.000230708\n",
        "188 0.014981008 0.000812411\n",
        "386 0.003482464 0.001418936\n",
        "239 0.003014658 0.000714992\n",
        "129 0.002629589 0.000431995\n",
        "43"
       ]
      },
      {
       "output_type": "stream",
       "stream": "stdout",
       "text": [
        " 0.000924036 0.00022866\n",
        "480 0.005826716 0.001920202\n",
        "142 0.003444902 0.000448074\n",
        "267 0.003152862 0.000759956\n",
        "54 0.001171281 0.000238513\n",
        "208 0.002693333 0.000641628\n",
        "69"
       ]
      },
      {
       "output_type": "stream",
       "stream": "stdout",
       "text": [
        " 0.002309502 0.000266029\n",
        "170 0.013415524 0.000499941\n",
        "45 0.000961836 0.000260436\n",
        "473 0.003789805 0.001651851\n",
        "155 0.002720309 0.000451143\n",
        "398"
       ]
      },
      {
       "output_type": "stream",
       "stream": "stdout",
       "text": [
        " 0.003517322 0.001431748\n",
        "224 0.011049461 0.000722854\n",
        "178 0.038171652 0.000498093\n",
        "106 0.002599421 0.00036998\n",
        "224 0.002739358 0.000687779\n",
        "220"
       ]
      },
      {
       "output_type": "stream",
       "stream": "stdout",
       "text": [
        " 0.002924321 0.0006834\n",
        "13 0.012979991 0.000245886\n",
        "236 0.00402645 0.000736938\n",
        "20 0.000709182 0.000207877\n",
        "443 0.004669225 0.001584395\n",
        "291"
       ]
      },
      {
       "output_type": "stream",
       "stream": "stdout",
       "text": [
        " 0.003090172 0.000943948\n",
        "348 0.012755438 0.001125656\n",
        "421 0.003710936 0.001514676\n",
        "492"
       ]
      },
      {
       "output_type": "stream",
       "stream": "stdout",
       "text": [
        " 0.015193533 0.002057829\n",
        "312 0.022866511 0.001119808\n",
        "329 0.0043012 0.001074277\n",
        "84 0.002635791 0.000298633\n",
        "317"
       ]
      },
      {
       "output_type": "stream",
       "stream": "stdout",
       "text": [
        " 0.004760776 0.001010571\n",
        "366 0.005867382 0.001118104\n",
        "459 0.003945465 0.001730165\n",
        "436"
       ]
      },
      {
       "output_type": "stream",
       "stream": "stdout",
       "text": [
        " 0.003767206 0.001602412\n",
        "254 0.014049388 0.000818559\n"
       ]
      },
      {
       "metadata": {},
       "output_type": "display_data",
       "png": "[encoded data removed]",
       "text": [
        "Figure(PyObject <matplotlib.figure.Figure object at 0x7f0dcbfd18d0>)"
       ]
      }
     ],
     "prompt_number": 15
    },
    {
     "cell_type": "code",
     "collapsed": false,
     "input": [],
     "language": "python",
     "metadata": {},
     "outputs": []
    }
   ],
   "metadata": {}
  }
 ]
}
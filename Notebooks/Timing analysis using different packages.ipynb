{
 "metadata": {
  "name": ""
 },
 "nbformat": 3,
 "nbformat_minor": 0,
 "worksheets": [
  {
   "cells": [
    {
     "cell_type": "code",
     "collapsed": false,
     "input": [
      "require(\"/home/esornep/Downloads/SemVII/QuDynamics.jl/src/QuDynamics.jl\")\n",
      "\n",
      "using QuDynamics\n",
      "using QuBase\n",
      "using PyPlot"
     ],
     "language": "python",
     "metadata": {},
     "outputs": [],
     "prompt_number": 79
    },
    {
     "cell_type": "code",
     "collapsed": false,
     "input": [
      "function initialize_harmonic_oscillator(n::Int, lambda::Any)\n",
      "    a = lowerop(n)\n",
      "    hamiltonian = a'*a + lambda*(a + a')\n",
      "    init_state = statevec(1,FiniteBasis(n))\n",
      "    return hamiltonian, init_state\n",
      "end"
     ],
     "language": "python",
     "metadata": {},
     "outputs": [
      {
       "metadata": {},
       "output_type": "pyout",
       "prompt_number": 80,
       "text": [
        "initialize_harmonic_oscillator (generic function with 1 method)"
       ]
      }
     ],
     "prompt_number": 80
    },
    {
     "cell_type": "code",
     "collapsed": false,
     "input": [
      "function benchmarks()\n",
      "    const time = [0.:0.1:2*pi]\n",
      "    for i=[1:100]\n",
      "        n = rand(1:500)\n",
      "        init = initialize_harmonic_oscillator(n, 0.5)\n",
      "        qexpm_expo  = QuPropagator(init[1], init[2], time, QuExpm_Expo())\n",
      "        qexpm_expmv  = QuPropagator(init[1], init[2], time, QuExpm_ExpmV())\n",
      "        start_state_qexpm_expo = start(qexpm_expo)\n",
      "        start_state_qexpm_expmv = start(qexpm_expmv)\n",
      "        axis([0, 500, 0.0, 0.01])\n",
      "        tic()\n",
      "        next(qexpm_expo, start_state_qexpm_expo)\n",
      "        end_time_1 = toq()\n",
      "        plot(n, end_time_1, \"bs\")\n",
      "        tic()\n",
      "        next(qexpm_expmv, start_state_qexpm_expmv)\n",
      "        end_time_2 = toq()\n",
      "        plot(n, end_time_2, \"ro\")\n",
      "        println(n, \" \", end_time_1, \" \", end_time_2)\n",
      "    end\n",
      "end\n",
      "benchmarks()"
     ],
     "language": "python",
     "metadata": {},
     "outputs": [
      {
       "output_type": "stream",
       "stream": "stdout",
       "text": [
        "192 "
       ]
      },
      {
       "output_type": "stream",
       "stream": "stdout",
       "text": [
        "0.024005039 0.000702612\n",
        "331 0.010650614 0.001072382\n",
        "458"
       ]
      },
      {
       "output_type": "stream",
       "stream": "stdout",
       "text": [
        " 0.083291567 0.001695436\n",
        "390 0.003592836 0.001512394\n",
        "245 0.008901493 0.00075285\n",
        "27 0.000789422 0.000214157\n",
        "434"
       ]
      },
      {
       "output_type": "stream",
       "stream": "stdout",
       "text": [
        " 0.003739091 0.001566536\n",
        "180 0.01150118 0.000503888\n",
        "213 0.004969005 0.000713621\n",
        "268 0.010030886 0.000800358\n",
        "59 0.000999782 0.000244798\n",
        "391"
       ]
      },
      {
       "output_type": "stream",
       "stream": "stdout",
       "text": [
        " 0.003577151 0.001463052\n",
        "144 0.029814237 0.000455975\n",
        "402 0.003692213 0.00265853\n",
        "287 0.004347519 0.000966383\n",
        "423"
       ]
      },
      {
       "output_type": "stream",
       "stream": "stdout",
       "text": [
        " 0.006039297 0.00155996\n",
        "147 0.012897203 0.00048127\n",
        "250 0.018848309 0.000765523\n",
        "288 0.003137803 0.000936229\n",
        "133"
       ]
      },
      {
       "output_type": "stream",
       "stream": "stdout",
       "text": [
        " 0.003968352 0.000289033\n",
        "419 0.004028712 0.001596399\n",
        "415 0.003688379 0.001474122\n",
        "2 0.000102237 0.000174713\n",
        "50 0.000931715 0.000227358\n",
        "149 0.002811341 0.000431463\n",
        "424"
       ]
      },
      {
       "output_type": "stream",
       "stream": "stdout",
       "text": [
        " 0.003623505 0.034543016\n",
        "336 0.005176546 0.001045522\n",
        "68 0.003372056 0.000287135\n",
        "111 0.002740029 0.000376803\n",
        "376 0.00421511 0.001164896\n",
        "138 0.002731288 0.000425204\n",
        "372"
       ]
      },
      {
       "output_type": "stream",
       "stream": "stdout",
       "text": [
        " 0.004040162 0.001117618\n",
        "323 0.005700222 0.00109751\n",
        "10 0.000302526 0.000217901\n",
        "301 0.003240076 0.000988994\n",
        "265 0.003054837 0.000766228\n",
        "389"
       ]
      },
      {
       "output_type": "stream",
       "stream": "stdout",
       "text": [
        " 0.004381999 0.001393042\n",
        "229 0.014930901 0.000748318\n",
        "73 0.002277785 0.000283156\n",
        "207 0.00306147 0.000646052\n",
        "290 0.003123661 0.000925144\n",
        "447"
       ]
      },
      {
       "output_type": "stream",
       "stream": "stdout",
       "text": [
        " 0.003732752 0.001547121\n",
        "441 0.00567068 0.001649224\n",
        "436 0.003728994 0.002596783\n",
        "376"
       ]
      },
      {
       "output_type": "stream",
       "stream": "stdout",
       "text": [
        " 0.005397604 0.001291331\n",
        "431 0.0056653 0.001638696\n",
        "210 0.003118619 0.000703443\n",
        "368"
       ]
      },
      {
       "output_type": "stream",
       "stream": "stdout",
       "text": [
        " 0.041031612 0.001120374\n",
        "100 0.013413976 0.000426214\n",
        "169 0.004203097 0.000487649\n",
        "357 0.003530214 0.001125591\n",
        "182 0.002902241 0.000493844\n",
        "79 0.00247236 0.000261762\n",
        "262"
       ]
      },
      {
       "output_type": "stream",
       "stream": "stdout",
       "text": [
        " 0.004640524 0.000782825\n",
        "156 0.008496621 0.000431562\n",
        "470 0.003963208 0.001638999\n",
        "138 0.002692015 0.000420222\n",
        "461"
       ]
      },
      {
       "output_type": "stream",
       "stream": "stdout",
       "text": [
        " 0.005589912 0.001645223\n",
        "393 0.004520622 0.001511091\n",
        "53 0.000975269 0.00023543\n",
        "228 0.00864831 0.00082982\n",
        "139"
       ]
      },
      {
       "output_type": "stream",
       "stream": "stdout",
       "text": [
        " 0.003089124 0.000462064\n",
        "481 0.004548759 0.001989911\n",
        "142 0.002974104 0.000450714\n",
        "211 0.0032692 0.00067494\n",
        "479"
       ]
      },
      {
       "output_type": "stream",
       "stream": "stdout",
       "text": [
        " 0.004175256 0.001824124\n",
        "423 0.006593372 0.001660877\n",
        "3 0.000148158 0.000198913\n",
        "263 0.003457508 0.000802773\n",
        "353 0.003669119 0.001114046\n",
        "49 0.000947269 0.000237128\n",
        "272"
       ]
      },
      {
       "output_type": "stream",
       "stream": "stdout",
       "text": [
        " 0.053733199 0.000806396\n",
        "109 0.044160607 0.000487483\n",
        "450 0.004313904 0.001648422\n",
        "129"
       ]
      },
      {
       "output_type": "stream",
       "stream": "stdout",
       "text": [
        " 0.002707741 0.000412005\n",
        "137 0.002830105 0.000422764\n",
        "183 0.017751709 0.000490693\n",
        "51 0.001223834 0.000255791\n",
        "230 0.003148548 0.000716858\n",
        "498"
       ]
      },
      {
       "output_type": "stream",
       "stream": "stdout",
       "text": [
        " 0.005202266 0.001892284\n",
        "352 0.0043916 0.001118458\n",
        "279 0.003152066 0.000856734\n",
        "488 0.004238505 0.001853661\n",
        "380"
       ]
      },
      {
       "output_type": "stream",
       "stream": "stdout",
       "text": [
        " 0.003480439 0.001377853\n",
        "2 0.012660346 0.000211231\n",
        "220 0.004816716 0.00072286\n",
        "148 0.002878301 0.000437837\n",
        "224 0.002873792 0.000675323\n",
        "410 0.003608046 0."
       ]
      },
      {
       "output_type": "stream",
       "stream": "stdout",
       "text": [
        "001442446\n",
        "258 0.010708811 0.000767587\n",
        "467 0.003923823 0.001662418\n",
        "421 0.003970133 0.001472817\n",
        "399"
       ]
      },
      {
       "output_type": "stream",
       "stream": "stdout",
       "text": [
        " 0.00370702 0.001463307\n",
        "447 0.064393677 0.001714084\n",
        "465"
       ]
      },
      {
       "output_type": "stream",
       "stream": "stdout",
       "text": [
        " 0.009904436 0.00180622\n",
        "110 0.017418839 0.000417702\n",
        "19 0.000667216 0.00019755\n",
        "152 0.00302656 0.000461443\n",
        "203 0.003002163 0.000665908\n",
        "201 0.003124363 0.000659055\n"
       ]
      },
      {
       "metadata": {},
       "output_type": "display_data",
       "png": "[encoded data removed]",
       "text": [
        "Figure(PyObject <matplotlib.figure.Figure object at 0x7f0dcbc54290>)"
       ]
      }
     ],
     "prompt_number": 81
    },
    {
     "cell_type": "code",
     "collapsed": false,
     "input": [
      "dic = [:m=>50]\n",
      "function benchmarks_setm()\n",
      "    const time = [0.:0.1:2*pi]\n",
      "    for i=[1:100]\n",
      "        n = rand(1:500)\n",
      "        init = initialize_harmonic_oscillator(n, 0.5)\n",
      "        qexpm_expo = QuPropagator(init[1], init[2], time, QuExpm_Expo())\n",
      "        qexpm_expo_m  = QuPropagator(init[1], init[2], time, QuExpm_Expo(dic))\n",
      "        qexpm_expmv  = QuPropagator(init[1], init[2], time, QuExpm_ExpmV())\n",
      "        start_state_qexpm_expo = start(qexpm_expo)\n",
      "        start_state_qexpm_expo_m = start(qexpm_expo_m)\n",
      "        start_state_qexpm_expmv = start(qexpm_expmv)\n",
      "        axis([0, 500, 0.0, 0.01])\n",
      "        tic()\n",
      "        next(qexpm_expo, start_state_qexpm_expo)\n",
      "        end_time_1 = toq()\n",
      "        plot(n, end_time_1, \"bs\")\n",
      "        tic()\n",
      "        next(qexpm_expo, start_state_qexpm_expo_m)\n",
      "        end_time_2 = toq()\n",
      "        plot(n, end_time_2, \"g^\")\n",
      "        tic()\n",
      "        next(qexpm_expmv, start_state_qexpm_expmv)\n",
      "        end_time_3 = toq()\n",
      "        plot(n, end_time_3, \"ro\")\n",
      "        println(n, \" \", end_time_1, \" \", end_time_2, \" \",end_time_3)\n",
      "    end\n",
      "end\n",
      "benchmarks_setm()"
     ],
     "language": "python",
     "metadata": {},
     "outputs": [
      {
       "output_type": "stream",
       "stream": "stdout",
       "text": [
        "103 "
       ]
      },
      {
       "output_type": "stream",
       "stream": "stdout",
       "text": [
        "0.009695974 0.029682631 0.000384508\n",
        "271 0.009787403 0.023874291 0.000779799\n",
        "372"
       ]
      },
      {
       "output_type": "stream",
       "stream": "stdout",
       "text": [
        " 0.020691676 0.0084883 0.001203754\n",
        "466 0.004155725 0.037014387 0.001619225\n",
        "437"
       ]
      },
      {
       "output_type": "stream",
       "stream": "stdout",
       "text": [
        " 0.003534276 0.003470785 0.001553268\n",
        "485 0.004552678 0.004324106 0.001827416\n",
        "186 0.002871122 0.00295179 0.000650835\n",
        "290 0.003189404 0.003109644 0.000937711\n",
        "171"
       ]
      },
      {
       "output_type": "stream",
       "stream": "stdout",
       "text": [
        " 0.004192073 0.002798517 0.000471391\n",
        "175 0.008770329 0.003695482 0.000515319\n",
        "90 0.002944911 0.002617565 0.000278157\n",
        "63 0.002342107 0.002264914 0.000249685\n",
        "410 0.003596125 0.004355553 0.001456038\n",
        "431"
       ]
      },
      {
       "output_type": "stream",
       "stream": "stdout",
       "text": [
        " 0.003658659 0.003647548 0.001508788\n",
        "316 0.003067863 0.003073764 0.001361115\n",
        "320 0.003171382 0.003060484 0.00100307\n",
        "74"
       ]
      },
      {
       "output_type": "stream",
       "stream": "stdout",
       "text": [
        " 0.002386276 0.035241589 0.000269485\n",
        "168 0.009928292 0.002935754 0.000486495\n",
        "88 0.002725097 0.002644522 0.000309332\n",
        "317 0.003285285 0.003267584 0.000992439\n",
        "238 0.002971089 0.00294696 0.000702057\n",
        "279"
       ]
      },
      {
       "output_type": "stream",
       "stream": "stdout",
       "text": [
        " 0.002911948 0.002880733 0.000779532\n",
        "470 0.026810722 0.004104166 0.00163027\n",
        "343"
       ]
      },
      {
       "output_type": "stream",
       "stream": "stdout",
       "text": [
        " 0.004194499 0.003379061 0.00105133\n",
        "430 0.006916892 0.005553767 0.001628736\n",
        "278 0.003074075 0.003157713 0.000779684\n",
        "329"
       ]
      },
      {
       "output_type": "stream",
       "stream": "stdout",
       "text": [
        " 0.003106807 0.00305924 0.00100825\n",
        "43 0.000959137 0.001000975 0.000236396\n",
        "467 0.00519582 0.003950074 0.001660159\n",
        "388 0.003327826 0.003256946 0.001383215\n",
        "141"
       ]
      },
      {
       "output_type": "stream",
       "stream": "stdout",
       "text": [
        " 0.036989465 0.002690614 0.000437534\n",
        "460 0.004994602 0.003907784 0.001611365\n",
        "16 0.000478247 0.000442085 0.000207778\n",
        "132 0.002702938 0.002648167 0.000413709\n",
        "220 0.003087687 0.002853333 0.000671577\n",
        "472"
       ]
      },
      {
       "output_type": "stream",
       "stream": "stdout",
       "text": [
        " 0.003828014 0.003790966 0.001628422\n",
        "170 0.009756665 0.00267227 0.00048964\n",
        "114 0.002638677 0.002626514 0.000388\n",
        "351 0.003355543 0.003349844 0.001086253\n",
        "281"
       ]
      },
      {
       "output_type": "stream",
       "stream": "stdout",
       "text": [
        " 0.003608876 0.003125645 0.000785391\n",
        "87 0.012692795 0.002785828 0.000316744\n",
        "430 0.003511239 0.003497043 0.001501618\n",
        "248 0.002979891 0.00299849 0.000719126\n",
        "197"
       ]
      },
      {
       "output_type": "stream",
       "stream": "stdout",
       "text": [
        " 0.004665157 0.002913228 0.000636627\n",
        "176 0.010060523 0.003155384 0.034267548\n",
        "103 0.002532386 0.002594067 0.000369144\n",
        "227 0.003037902 0.003019019 0.000681867\n",
        "84"
       ]
      },
      {
       "output_type": "stream",
       "stream": "stdout",
       "text": [
        " 0.003288616 0.002436012 0.00027351\n",
        "101 0.012910018 0.002663877 0.000393226\n",
        "367 0.003440765 0.004189286 0.001111831\n",
        "346"
       ]
      },
      {
       "output_type": "stream",
       "stream": "stdout",
       "text": [
        " 0.01680642 0.004972512 0.001097546\n",
        "432 0.016879844 0.01729411 0.001720903\n",
        "326"
       ]
      },
      {
       "output_type": "stream",
       "stream": "stdout",
       "text": [
        " 0.003222106 0.020924953 0.001048267\n",
        "42 0.017702369 0.0063147 0.000265912\n",
        "140 0.016364999 0.003182469 0.000475757\n",
        "213 0.003217047 0.003370916 0.000679835\n",
        "90"
       ]
      },
      {
       "output_type": "stream",
       "stream": "stdout",
       "text": [
        " 0.002534813 0.004132143 0.000289914\n",
        "409 0.003970845 0.003711462 0.001568029\n",
        "143 0.002832522 0.003038046 0.000466903\n",
        "137"
       ]
      },
      {
       "output_type": "stream",
       "stream": "stdout",
       "text": [
        " 0.002876191 0.036427682 0.000452054\n",
        "77 0.002439385 0.015955378 0.000330324\n",
        "25 0.00071852 0.000694924 0.000237956\n",
        "433 0.004343512 0.00380918 0.001523926\n",
        "361"
       ]
      },
      {
       "output_type": "stream",
       "stream": "stdout",
       "text": [
        " 0.00505624 0.003482328 0.001088947\n",
        "59 0.017185388 0.002560072 0.000278844\n",
        "230 0.002976343 0.002942242 0.000692725\n",
        "239 0.002951824 0.002946673 0.000703524\n",
        "432"
       ]
      },
      {
       "output_type": "stream",
       "stream": "stdout",
       "text": [
        " 0.005198542 0.003731643 0.001512347\n",
        "267 0.013722345 0.003206444 0.000747178\n",
        "161 0.002682108 0.003146946 0.000462935\n",
        "193 0.01709328 0.005075372 0.000681244\n",
        "175"
       ]
      },
      {
       "output_type": "stream",
       "stream": "stdout",
       "text": [
        " 0.006754349 0.002919436 0.000515381\n",
        "85 0.002800587 0.002722589 0.00029733\n",
        "85 0.02539587 0.004619297 0.000305536\n",
        "161 0.002626458 0.015857503 0.00047925\n",
        "58"
       ]
      },
      {
       "output_type": "stream",
       "stream": "stdout",
       "text": [
        " 0.000993082 0.046975854 0.000273634\n",
        "218 0.032611974 0.007360891 0.000756314\n",
        "394 0.003663705 0.003674092 0.00147718\n",
        "187"
       ]
      },
      {
       "output_type": "stream",
       "stream": "stdout",
       "text": [
        " 0.004510899 0.002978376 0.000611673\n",
        "474 0.00582488 0.004174267 0.001760763\n",
        "269 0.003233646 0.00331725 0.000822365\n",
        "150 0.002811118 0.002948003 0.000471613\n",
        "381"
       ]
      },
      {
       "output_type": "stream",
       "stream": "stdout",
       "text": [
        " 0.015596642 0.00351944 0.0014196\n",
        "466 0.004012394 0.004278509 0.001668173\n",
        "473 0.003954067 0.00391389 0.001687161\n",
        "94"
       ]
      },
      {
       "output_type": "stream",
       "stream": "stdout",
       "text": [
        " 0.00255165 0.004035927 0.000358918\n",
        "384 0.012096439 0.003534576 0.00148468\n",
        "198 0.002889887 0.00299929 0.000669359\n",
        "232"
       ]
      },
      {
       "output_type": "stream",
       "stream": "stdout",
       "text": [
        " 0.016887827 0.049322347 0.000709974\n",
        "362 0.025668085 0.0232152 0.001142796\n",
        "201"
       ]
      },
      {
       "output_type": "stream",
       "stream": "stdout",
       "text": [
        " 0.010133445 0.023309799 0.000655463\n",
        "286 0.030806595 0.00561944 0.001004325\n",
        "375 0.003577162 0.003553353 0.001166618\n",
        "417"
       ]
      },
      {
       "output_type": "stream",
       "stream": "stdout",
       "text": [
        " 0.005352611 0.004315094 0.000962581\n",
        "296 0.010608541 0.005149687 0.00103313\n",
        "100 0.003370859 0.003645221 0.000382287\n",
        "240 0.003065277 0.003115006 0.000731146\n",
        "449"
       ]
      },
      {
       "output_type": "stream",
       "stream": "stdout",
       "text": [
        " 0.003889782 0.003829012 0.00162866\n",
        "14 0.019174231 0.000413881 0.000218585\n",
        "50 0.000996233 0.000948152 0.000280996\n"
       ]
      },
      {
       "metadata": {},
       "output_type": "display_data",
       "png": "[encoded data removed]",
       "text": [
        "Figure(PyObject <matplotlib.figure.Figure object at 0x7f0dcb0cc150>)"
       ]
      }
     ],
     "prompt_number": 87
    },
    {
     "cell_type": "code",
     "collapsed": false,
     "input": [],
     "language": "python",
     "metadata": {},
     "outputs": []
    }
   ],
   "metadata": {}
  }
 ]
}
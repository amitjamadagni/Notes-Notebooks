{
 "metadata": {
  "name": ""
 },
 "nbformat": 3,
 "nbformat_minor": 0,
 "worksheets": [
  {
   "cells": [
    {
     "cell_type": "code",
     "collapsed": false,
     "input": [
      "require(\"/home/esornep/Downloads/SemVII/QuDynamics.jl/src/QuDynamics.jl\")\n",
      "\n",
      "using QuDynamics\n",
      "using QuBase\n",
      "using PyPlot"
     ],
     "language": "python",
     "metadata": {},
     "outputs": [],
     "prompt_number": 70
    },
    {
     "cell_type": "code",
     "collapsed": false,
     "input": [
      "function initialize_harmonic_oscillator(n::Int, lambda::Any)\n",
      "    a = lowerop(n)\n",
      "    hamiltonian = a'*a + lambda*(a + a')\n",
      "    init_state = statevec(1,FiniteBasis(n))\n",
      "    return hamiltonian, init_state\n",
      "end"
     ],
     "language": "python",
     "metadata": {},
     "outputs": [
      {
       "metadata": {},
       "output_type": "pyout",
       "prompt_number": 71,
       "text": [
        "initialize_harmonic_oscillator (generic function with 1 method)"
       ]
      }
     ],
     "prompt_number": 71
    },
    {
     "cell_type": "code",
     "collapsed": false,
     "input": [
      "function benchmarks()\n",
      "    const time = [0.:0.1:2*pi]\n",
      "    for i=[1:100]\n",
      "        n = rand(1:500)\n",
      "        init = initialize_harmonic_oscillator(n, 0.5)\n",
      "        qexpm_expo  = QuPropagator(init[1], init[2], time, QuExpm_Expo())\n",
      "        qexpm_expmv  = QuPropagator(init[1], init[2], time, QuExpm_ExpmV())\n",
      "        start_state_qexpm_expo = start(qexpm_expo)\n",
      "        start_state_qexpm_expmv = start(qexpm_expmv)\n",
      "        axis([0, 500, 0.0, 0.01])\n",
      "        tic()\n",
      "        next(qexpm_expo, start_state_qexpm_expo)\n",
      "        end_time_1 = toq()\n",
      "        plot(n, end_time_1, \"bs\")\n",
      "        tic()\n",
      "        next(qexpm_expmv, start_state_qexpm_expmv)\n",
      "        end_time_2 = toq()\n",
      "        plot(n, end_time_2, \"ro\")\n",
      "        println(n, \" \", end_time_1, \" \", end_time_2)\n",
      "    end\n",
      "end\n",
      "benchmarks()"
     ],
     "language": "python",
     "metadata": {},
     "outputs": [
      {
       "output_type": "stream",
       "stream": "stdout",
       "text": [
        "210 "
       ]
      },
      {
       "output_type": "stream",
       "stream": "stdout",
       "text": [
        "0.047423248 0.036684946\n",
        "351 0.013385189 0.001308001\n",
        "117 0.005457404 0.000416152\n",
        "93 0.002882721 0.000381672\n",
        "496"
       ]
      },
      {
       "output_type": "stream",
       "stream": "stdout",
       "text": [
        " 0.004135817 0.001986363\n",
        "52 0.001050357 0.000248445\n",
        "129 0.002924006 0.000429718\n",
        "460 0.003814087 0.001636286\n",
        "272 0.003233752 0.000809189\n",
        "210 0.003763244 0.000680422\n",
        "410"
       ]
      },
      {
       "output_type": "stream",
       "stream": "stdout",
       "text": [
        " 0.003632207 0.001504251\n",
        "326 0.003219965 0.001062241\n",
        "218 0.003145304 0.000719894\n",
        "362 0.003526973 0.001141154\n",
        "113 0.002380331 0.00038888\n",
        "458"
       ]
      },
      {
       "output_type": "stream",
       "stream": "stdout",
       "text": [
        " 0.003832644 0.001595121\n",
        "4 0.003709983 0.000218104\n",
        "134 0.011798169 0.000460841\n",
        "361 0.003472885 0.001106139\n",
        "430 0.003467505 0.001501199\n",
        "104"
       ]
      },
      {
       "output_type": "stream",
       "stream": "stdout",
       "text": [
        " 0.002533252 0.000373812\n",
        "447 0.003732597 0.001581904\n",
        "403 0.003548733 0.001441259\n",
        "488"
       ]
      },
      {
       "output_type": "stream",
       "stream": "stdout",
       "text": [
        " 0.037268023 0.001817351\n",
        "414 0.005162442 0.00159216\n",
        "180 0.002846197 0.000482747\n",
        "181 0.002886264 0.000481351\n",
        "395 0.003562658 0.001408832\n",
        "228"
       ]
      },
      {
       "output_type": "stream",
       "stream": "stdout",
       "text": [
        " 0.003999301 0.00069252\n",
        "212 0.010742711 0.000713048\n",
        "108 0.002999377 0.000376949\n",
        "385 0.003770643 0.001422274\n",
        "154 0.002674167 0.000441757\n",
        "128 0.003399293 0.000405221\n",
        "236"
       ]
      },
      {
       "output_type": "stream",
       "stream": "stdout",
       "text": [
        " 0.004473827 0.000696643\n",
        "216 0.009823169 0.000723178\n",
        "100 0.002588348 0.000365211\n",
        "129 0.002685532 0.000421535\n",
        "55 0.000941411 0.000251717\n",
        "378 0.003544517 0.001419452\n",
        "349"
       ]
      },
      {
       "output_type": "stream",
       "stream": "stdout",
       "text": [
        " 0.004187049 0.001074022\n",
        "95 0.015404427 0.000380829\n",
        "47 0.001366646 0.000241038\n",
        "492 0.003963199 0.001867494\n",
        "307 0.003426479 0.000983256\n",
        "320"
       ]
      },
      {
       "output_type": "stream",
       "stream": "stdout",
       "text": [
        " 0.003046452 0.001002517\n",
        "154 0.045845131 0.000472822\n",
        "308 0.003289927 0.000970626\n",
        "373"
       ]
      },
      {
       "output_type": "stream",
       "stream": "stdout",
       "text": [
        " 0.003619777 0.001128399\n",
        "101 0.002539797 0.000369044\n",
        "486 0.017846374 0.001908627\n",
        "410"
       ]
      },
      {
       "output_type": "stream",
       "stream": "stdout",
       "text": [
        " 0.007820046 0.001651624\n",
        "7 0.000219088 0.000207644\n",
        "404 0.003693489 0.001517419\n",
        "108 0.002656875 0.000368898\n",
        "51 0.000761576 0.000237961\n",
        "167 0.00285011 0.000457929\n",
        "424"
       ]
      },
      {
       "output_type": "stream",
       "stream": "stdout",
       "text": [
        " 0.003640367 0.00152652\n",
        "327 0.012846644 0.0010965\n",
        "230 0.004154609 0.000748796\n",
        "71 0.002537028 0.000252177\n",
        "365 0.006270538 0.00118654\n",
        "383"
       ]
      },
      {
       "output_type": "stream",
       "stream": "stdout",
       "text": [
        " 0.003775202 0.00142629\n",
        "62 0.014132111 0.000275004\n",
        "55 0.001093229 0.000247951\n",
        "158 0.003735578 0.000484532\n",
        "105 0.002381864 0.000361822\n",
        "327 0.003274139 0.00101082\n",
        "454"
       ]
      },
      {
       "output_type": "stream",
       "stream": "stdout",
       "text": [
        " 0.003746335 0.001565616\n",
        "77 0.013424105 0.000281497\n",
        "468 0.037074195 0.001647131\n",
        "231"
       ]
      },
      {
       "output_type": "stream",
       "stream": "stdout",
       "text": [
        " 0.002789071 0.000693725\n",
        "356 0.003528448 0.001135065\n",
        "322 0.003343308 0.001011009\n",
        "185 0.002920175 0.000499136\n",
        "272 0.003063804 0.000763902\n",
        "405"
       ]
      },
      {
       "output_type": "stream",
       "stream": "stdout",
       "text": [
        " 0.003859131 0.001445504\n",
        "426 0.005382442 0.001635745\n",
        "86 0.002528239 0.000282093\n",
        "490"
       ]
      },
      {
       "output_type": "stream",
       "stream": "stdout",
       "text": [
        " 0.021905636 0.001822351\n",
        "415 0.013753956 0.001536019\n",
        "239 0.00308753 0.000738485\n",
        "248 0.003046737 0.000712669\n",
        "353"
       ]
      },
      {
       "output_type": "stream",
       "stream": "stdout",
       "text": [
        " 0.003445592 0.001091028\n",
        "260 0.018843874 0.000851646\n",
        "335 0.003335813 0.001066786\n",
        "9 0.000252329 0.00019429\n",
        "370 0.003407707 0.001097545\n",
        "270"
       ]
      },
      {
       "output_type": "stream",
       "stream": "stdout",
       "text": [
        " 0.003076865 0.000756881\n",
        "293 0.008320118 0.00101174\n",
        "194 0.002987674 0.000647601\n",
        "181 0.002847933 0.000479344\n",
        "92"
       ]
      },
      {
       "output_type": "stream",
       "stream": "stdout",
       "text": [
        " 0.035446648 0.000355686\n",
        "274 0.010253165 0.00081842\n",
        "161 0.002797414 0.000492252\n",
        "366 0.003450109 0.001105889\n",
        "57 0.001014294 0.000238989\n",
        "88 0.002479016 0.000262747\n",
        "479"
       ]
      },
      {
       "output_type": "stream",
       "stream": "stdout",
       "text": [
        " 0.004110237 0.001851573\n",
        "461 0.004262704 0.001644892\n"
       ]
      },
      {
       "metadata": {},
       "output_type": "display_data",
       "png": "[encoded data removed]",
       "text": [
        "Figure(PyObject <matplotlib.figure.Figure object at 0x7f0dcbc54bd0>)"
       ]
      }
     ],
     "prompt_number": 75
    },
    {
     "cell_type": "code",
     "collapsed": false,
     "input": [],
     "language": "python",
     "metadata": {},
     "outputs": []
    }
   ],
   "metadata": {}
  }
 ]
}
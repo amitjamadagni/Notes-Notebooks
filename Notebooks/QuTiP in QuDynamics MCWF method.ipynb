{
 "metadata": {
  "name": ""
 },
 "nbformat": 3,
 "nbformat_minor": 0,
 "worksheets": [
  {
   "cells": [
    {
     "cell_type": "code",
     "collapsed": false,
     "input": [
      "require(\"/home/amit/Downloads/SemVII/QuBase.jl/src/QuBase.jl\")\n",
      "using QuBase\n",
      "require(\"/home/amit/Downloads/SemVII/QuDynamics.jl/src/QuDynamics.jl\")\n",
      "using QuDynamics"
     ],
     "language": "python",
     "metadata": {},
     "outputs": [],
     "prompt_number": 1
    },
    {
     "cell_type": "code",
     "collapsed": false,
     "input": [
      "using PyPlot"
     ],
     "language": "python",
     "metadata": {},
     "outputs": [
      {
       "output_type": "stream",
       "stream": "stderr",
       "text": [
        "INFO: Loading help data...\n"
       ]
      }
     ],
     "prompt_number": 2
    },
    {
     "cell_type": "code",
     "collapsed": false,
     "input": [
      "a  = tensor(QuArray(eye(2)), lowerop(10))\n",
      "sm = tensor(lowerop(2), QuArray(eye(10)))"
     ],
     "language": "python",
     "metadata": {},
     "outputs": [
      {
       "metadata": {},
       "output_type": "pyout",
       "prompt_number": 4,
       "text": [
        "20x20 QuMatrix in FiniteBasis{Orthonormal}:\n",
        "...coefficients: SparseMatrixCSC{Float64,Int64}\n",
        "\n",
        "\t[1 , 11]  =  1.0\n",
        "\t[2 , 12]  =  1.0\n",
        "\t[3 , 13]  =  1.0\n",
        "\t[4 , 14]  =  1.0\n",
        "\t[5 , 15]  =  1.0\n",
        "\t[6 , 16]  =  1.0\n",
        "\t[7 , 17]  =  1.0\n",
        "\t[8 , 18]  =  1.0\n",
        "\t[9 , 19]  =  1.0\n",
        "\t[10, 20]  =  1.0"
       ]
      }
     ],
     "prompt_number": 4
    },
    {
     "cell_type": "code",
     "collapsed": false,
     "input": [
      "init_state = complex(tensor(statevec(1, FiniteBasis(2)), statevec(6, FiniteBasis(10))))\n",
      "init_state_dm = complex(init_state*init_state')\n",
      "hamiltonian = 2*pi*a'*a + 2*pi*sm'*sm + 2*pi*0.25*(sm * a' + sm' * a)\n",
      "tlist = linspace(0., 10., 200)\n",
      "c_ops = [sqrt(0.1) * a]"
     ],
     "language": "python",
     "metadata": {},
     "outputs": [
      {
       "metadata": {},
       "output_type": "pyout",
       "prompt_number": 19,
       "text": [
        "1-element Array{QuArray{FiniteBasis{Orthonormal},Float64,2,SparseMatrixCSC{Float64,Int64}},1}:\n",
        " 20x20 QuMatrix in FiniteBasis{Orthonormal}:\n",
        "...coefficients: SparseMatrixCSC{Float64,Int64}\n",
        "\n",
        "\t[1 ,  2]  =  0.316228\n",
        "\t[2 ,  3]  =  0.447214\n",
        "\t[3 ,  4]  =  0.547723\n",
        "\t[4 ,  5]  =  0.632456\n",
        "\t[5 ,  6]  =  0.707107\n",
        "\t[6 ,  7]  =  0.774597\n",
        "\t[7 ,  8]  =  0.83666\n",
        "\t[8 ,  9]  =  0.894427\n",
        "\t[9 , 10]  =  0.948683\n",
        "\t[11, 12]  =  0.316228\n",
        "\t[12, 13]  =  0.447214\n",
        "\t[13, 14]  =  0.547723\n",
        "\t[14, 15]  =  0.632456\n",
        "\t[15, 16]  =  0.707107\n",
        "\t[16, 17]  =  0.774597\n",
        "\t[17, 18]  =  0.83666\n",
        "\t[18, 19]  =  0.894427\n",
        "\t[19, 20]  =  0.948683"
       ]
      }
     ],
     "prompt_number": 19
    },
    {
     "cell_type": "code",
     "collapsed": false,
     "input": [
      "rho = Array(typeof(init_state_dm), length(tlist)-1)\n",
      "qumcwfen = QuMCWFEnsemble(complex(init_state), 1000)"
     ],
     "language": "python",
     "metadata": {},
     "outputs": [
      {
       "metadata": {},
       "output_type": "pyout",
       "prompt_number": 20,
       "text": [
        "QuMCWFEnsemble{QuArray{FiniteBasis{Orthonormal},Complex{Float64},1,Array{Complex{Float64},1}}}(20-element QuVector in FiniteBasis{Orthonormal}:\n",
        "...coefficients: Array{Complex{Float64},1}\n",
        "Complex{Float64}[0.0 + 0.0im,0.0 + 0.0im,0.0 + 0.0im,0.0 + 0.0im,0.0 + 0.0im,1.0 + 0.0im,0.0 + 0.0im,0.0 + 0.0im,0.0 + 0.0im,0.0 + 0.0im,0.0 + 0.0im,0.0 + 0.0im,0.0 + 0.0im,0.0 + 0.0im,0.0 + 0.0im,0.0 + 0.0im,0.0 + 0.0im,0.0 + 0.0im,0.0 + 0.0im,0.0 + 0.0im],1000,nothing)"
       ]
      }
     ],
     "prompt_number": 20
    },
    {
     "cell_type": "code",
     "collapsed": false,
     "input": [
      "for i=1:length(tlist)-1\n",
      "    rho[i] = complex(zeros(init_state_dm))\n",
      "end"
     ],
     "language": "python",
     "metadata": {},
     "outputs": [],
     "prompt_number": 21
    },
    {
     "cell_type": "code",
     "collapsed": false,
     "input": [
      "for psi0 in qumcwfen\n",
      "    i = 1\n",
      "    mcwf = QuMCWF()\n",
      "    for (t,psi) in QuPropagator(hamiltonian, c_ops, psi0, tlist, mcwf)\n",
      "        rho[i] = rho[i] + (psi*psi')/length(qumcwfen)/norm(psi)^2\n",
      "        i = i + 1\n",
      "    end\n",
      "end"
     ],
     "language": "python",
     "metadata": {},
     "outputs": [],
     "prompt_number": 22
    },
    {
     "cell_type": "code",
     "collapsed": false,
     "input": [
      "for i in 1:length(tlist)-1\n",
      "    plot(tlist[i], real(trace(rho[i]*a'* a)), \"ro\")\n",
      "    plot(tlist[i], real(trace(rho[i]*sm'* sm)), \"go\")\n",
      "end"
     ],
     "language": "python",
     "metadata": {},
     "outputs": [
      {
       "metadata": {},
       "output_type": "display_data",
       "png": "[encoded data removed]",
       "text": [
        "Figure(PyObject <matplotlib.figure.Figure object at 0x7f73d529f990>)"
       ]
      }
     ],
     "prompt_number": 32
    },
    {
     "cell_type": "code",
     "collapsed": false,
     "input": [],
     "language": "python",
     "metadata": {},
     "outputs": []
    }
   ],
   "metadata": {}
  }
 ]
}
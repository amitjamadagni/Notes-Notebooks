{
 "metadata": {
  "name": ""
 },
 "nbformat": 3,
 "nbformat_minor": 0,
 "worksheets": [
  {
   "cells": [
    {
     "cell_type": "code",
     "collapsed": false,
     "input": [
      "require(\"/home/amit/Downloads/SemVII/QuDOS.jl/src/Qudos.jl\")\n",
      "using QuDOS"
     ],
     "language": "python",
     "metadata": {},
     "outputs": [],
     "prompt_number": 1
    },
    {
     "cell_type": "code",
     "collapsed": false,
     "input": [
      "# parameters\n",
      "n = 2\n",
      "gamma = 0.1\n",
      "nsteps = 26\n",
      "dt = 0.25\n",
      "ntraj = 2"
     ],
     "language": "python",
     "metadata": {},
     "outputs": [
      {
       "metadata": {},
       "output_type": "pyout",
       "prompt_number": 2,
       "text": [
        "2"
       ]
      }
     ],
     "prompt_number": 2
    },
    {
     "cell_type": "code",
     "collapsed": false,
     "input": [
      "ad = QuDOS.creationop( n )\n",
      "h = ad*ad'\n",
      "cs = QuDOS.coherentstatevec(n, 1.)\n",
      "rho = QuDOS.QuState(cs)\n",
      "qme = QuDOS.LindbladQME( h, {sqrt(gamma)*ad',})"
     ],
     "language": "python",
     "metadata": {},
     "outputs": [
      {
       "metadata": {},
       "output_type": "pyout",
       "prompt_number": 3,
       "text": [
        "LindbladQME(2x2 sparse matrix with 1 Complex{Float64} entries:\n",
        "\t[2, 2]  =  1.0+0.0im,AbstractArray{Complex{Float64},2}[\n",
        "2x2 sparse matrix with 1 Complex{Float64} entries:\n",
        "\t[1, 2]  =  0.316228+0.0im])"
       ]
      }
     ],
     "prompt_number": 3
    },
    {
     "cell_type": "code",
     "collapsed": false,
     "input": [
      "QuDOS.mcwfpropagate(cs, qme, ntraj, dt, nsteps, {})"
     ],
     "language": "python",
     "metadata": {},
     "outputs": [
      {
       "output_type": "stream",
       "stream": "stdout",
       "text": [
        "eps0."
       ]
      },
      {
       "output_type": "stream",
       "stream": "stdout",
       "text": [
        "7168342432315689\n",
        "0."
       ]
      },
      {
       "output_type": "stream",
       "stream": "stdout",
       "text": [
        "5450880367843273 0.8123156448979285 -0.20741823740614204\n",
        "0.5498802700647403 0.7329951222850315 -0.4004370603476662\n",
        "0.554678070389485 0.608812731217759 -0.567167785171346\n",
        "0.5594804897774831 0.4478260653572371 -0.6974477734891716\n",
        "0.5642865682708632 0.26032351749737354 -0.7834617636533944\n",
        "0.5690953346501707 0.05816518837796068 -0.8202117476239696\n",
        "0.573905807179595 -0.1459694947566474 -0.8058070681534298\n",
        "0.5787169943812986 -0.339379581431966 -0.7415579142058559\n",
        "0.5835278958378282 -0.510135461409449 -0.6318678705169664\n",
        "0.5883375030214781 -0.6478171233110738 -0.4839338356463796\n",
        "0.5931448001493685 -0.7441519623230135 -0.30727366145925034\n",
        "0.5979487650628894 -0.7935129676452659 -0.11311253042244471\n",
        "0.6027483701300714 -0.7932472114566287 0.08633228725004753\n",
        "0.6075425831693283 -0.7438154737391707 0.27862259539045464\n",
        "0.6123303683929293 -0.6487358677546506 0.45187752083103244\n",
        "0.6171106873684652 -0.5143367104678418 0.5955099896733386\n",
        "0.6218824999964793 -0.3493358260332721 0.700875621524804\n",
        "0.6266447655023554 -0.16427422789276952 0.7617941427437812\n",
        "0.6313964434404785 0.029158973227489973 0.774911792071222\n",
        "0.636136494708611 0.21886708814395942 0.7398834758441533\n",
        "0.6408638825703606 0.39310473854903877 0.6593649585374817\n",
        "0.6455775736835689 0.5412073513950093 0.5388174079897892\n",
        "0.6502765391323883 0.6542458006710486 0.38613838835099284\n",
        "0.6549597554607827 0.7255658893995448 0.21114416607285108\n",
        "0.6596262057051534 0.7511800051327129 0.024937294076143153\n",
        "0.6642748804237654 0.7299879055516558 -0.16079969212128223\n",
        "eps0.7168342432315689\n",
        "0.5450880367843273 0.8123156448979285 -0.20741823740614204\n",
        "0.5498802700647403 0.7329951222850315 -0.4004370603476662\n",
        "0.554678070389485 0.608812731217759 -0.567167785171346\n",
        "0.5594804897774831 0.4478260653572371 -0.6974477734891716\n",
        "0.5642865682708632 0.26032351749737354 -0.7834617636533944\n",
        "0.5690953346501707 0.05816518837796068 -0.8202117476239696\n",
        "0.573905807179595 -0.1459694947566474 -0.8058070681534298\n",
        "0.5787169943812986 -0.339379581431966 -0.7415579142058559\n",
        "0.5835278958378282 -0.510135461409449 -0.6318678705169664\n",
        "0.5883375030214781 -0.6478171233110738 -0.4839338356463796\n",
        "0.5931448001493685 -0.7441519623230135 -0.30727366145925034\n",
        "0.5979487650628894 -0.7935129676452659 -0.11311253042244471\n",
        "0.6027483701300714 -0.7932472114566287 0.08633228725004753\n",
        "0.6075425831693283 -0.7438154737391707 0.27862259539045464\n",
        "0.6123303683929293 -0.6487358677546506 0.45187752083103244\n",
        "0.6171106873684652 -0.5143367104678418 0.5955099896733386\n",
        "0.6218824999964793 -0.3493358260332721 0.700875621524804\n",
        "0.6266447655023554 -0.16427422789276952 0.7617941427437812\n",
        "0.6313964434404785 0.029158973227489973 0.774911792071222\n",
        "0.636136494708611 0.21886708814395942 0.7398834758441533\n",
        "0.6408638825703606 0.39310473854903877 0.6593649585374817\n",
        "0.6455775736835689 0.5412073513950093 0.5388174079897892\n",
        "0.6502765391323883 0.6542458006710486 0.38613838835099284\n",
        "0.6549597554607827 0.7255658893995448 0.21114416607285108\n",
        "0.6596262057051534 0.7511800051327129 0.024937294076143153\n",
        "0.6642748804237654 0.7299879055516558 -0.16079969212128223\n"
       ]
      }
     ],
     "prompt_number": 4
    },
    {
     "cell_type": "code",
     "collapsed": false,
     "input": [
      "function mcwfpropagate(state::AbstractQuState,\n",
      "                        qme::AbstractLindbladQME,\n",
      "                        ntraj::Int, dt0::Float64, nsteps::Int,\n",
      "                        ops=[])\n",
      "\n",
      "  jtol = 1.e-6  # jump tolerance\n",
      "  nops = length(ops)\n",
      "  if nops > 0\n",
      "    exvals = Array(Complex128, nsteps, nops)\n",
      "  else\n",
      "    exvals = []\n",
      "  end\n",
      "  # get information of QME\n",
      "  heff = eff_hamiltonian(qme)\n",
      "  c = linbladops(qme)\n",
      "  # final state\n",
      "  rho = QuState( zeros(Complex128, state.nb, state.nb), state.subnb )\n",
      "  # initial state -> ensemble\n",
      "  qse = QuStateEnsemble(state)\n",
      "  for traj=1:ntraj\n",
      "\t  # println(\"starting trajectory $traj/$ntraj\")\n",
      "    # initial state vec for trajectory\n",
      "\t  psi  = draw(qse)\n",
      "    # eps = srand(1001) # draw random number from [0,1)\n",
      "\t  srand(1001)\n",
      "    eps = rand()\n",
      "    println(\"eps\", eps)\n",
      "    for step=1:nsteps\n",
      "\t\t  dt = dt0\n",
      "\t\t  accdt = 0.\n",
      "      tj = 0.\n",
      "\t\t  while accdt < dt0\n",
      "\t\t\t  # propagate one time-step\n",
      "\t\t\t  eff_prop = QuFixedStepPropagator( -im*heff, dt)\n",
      "\t\t\t  psi1 = propagate(eff_prop, psi)\n",
      "    \t\tif abs(norm(psi1) - eps) < jtol\n",
      "    \t\t\t# println(\"jump at t=$(tj + accdt + dt), norm=$(norm(psi1)), eps=$eps\")\n",
      "    \t\t\tPnS = 0.\n",
      "    \t\t\tfor cind = 1:length(c)\n",
      "    \t\t\t\tPnS += real(expectationval(psi1, c[cind]'*c[cind]))\n",
      "    \t\t  end\n",
      "          Pn = 0.\n",
      "    \t\t\tcop = speye(size(heff,1))\n",
      "    \t\t\tfor cind = 1:length(c)\n",
      "    \t\t\t\tPn += real(expectationval(psi1, c[cind]'*c[cind]))/PnS\n",
      "    \t\t\t\t# println(\"Pn($cind)=$Pn\")\n",
      "    \t\t\t\tif Pn >= eps\n",
      "    \t\t\t\t\t# println(\"using operator $cind\")\n",
      "    \t\t\t\t\tcop=c[cind]\n",
      "    \t\t\t\t\tbreak\n",
      "    \t\t\t\tend\n",
      "    \t\t\tend\n",
      "          # now we have a jump\n",
      "          # psi = QuStateVec( cop*psi1.elem )\n",
      "          psi = applyop(psi1, cop)\n",
      "    \t\t\t# normalize!(psi)\n",
      "    \t\t\t# eps = srand(1001) # draw new random number from [0,1)\n",
      "    \t\t\tsrand(1001)\n",
      "          eps  = rand()\n",
      "          println(\"eps_2\", eps)\n",
      "          accdt = accdt + dt\n",
      "    \t\t\tdt = dt0 - accdt\n",
      "    \t\telseif norm(psi1) < eps\n",
      "    \t\t\tdt = dt/2\t\t# jump in the current interval\n",
      "    \t\telse\n",
      "    \t\t\tpsi = copy(psi1)  # no jump\n",
      "    \t\t\taccdt = accdt + dt\n",
      "    \t\t\tdt = dt0 - accdt\n",
      "    \t\tend\n",
      "        normalize!(psi)\n",
      "        println(real(psi[1]), \" \", real(psi[2]), \" \", imag(psi[2]))\n",
      "      end\n",
      "    \ttj = tj + dt0\n",
      "    end # time-step\n",
      "  end  # trajectories\n",
      "  # return arr\n",
      "end\n"
     ],
     "language": "python",
     "metadata": {},
     "outputs": [
      {
       "ename": "LoadError",
       "evalue": "AbstractQuState not defined\nwhile loading In[1], in expression starting on line 1",
       "output_type": "pyerr",
       "traceback": [
        "AbstractQuState not defined\nwhile loading In[1], in expression starting on line 1",
        ""
       ]
      }
     ],
     "prompt_number": 1
    },
    {
     "cell_type": "code",
     "collapsed": false,
     "input": [],
     "language": "python",
     "metadata": {},
     "outputs": []
    }
   ],
   "metadata": {}
  }
 ]
}
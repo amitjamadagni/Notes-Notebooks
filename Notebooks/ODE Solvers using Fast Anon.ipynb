{
 "cells": [
  {
   "cell_type": "code",
   "execution_count": 1,
   "metadata": {
    "collapsed": true
   },
   "outputs": [],
   "source": [
    "require(\"/home/amit/Downloads/SemVII/QuBase.jl/src/QuBase.jl\")\n",
    "using QuBase\n",
    "require(\"/home/amit/Downloads/SemVII/QuDynamics.jl/src/QuDynamics.jl\")\n",
    "using QuDynamics\n",
    "using BenchmarkLite"
   ]
  },
  {
   "cell_type": "code",
   "execution_count": 2,
   "metadata": {
    "collapsed": true
   },
   "outputs": [],
   "source": [
    "type SampleProc{Alg} <: Proc end"
   ]
  },
  {
   "cell_type": "code",
   "execution_count": 3,
   "metadata": {
    "collapsed": true
   },
   "outputs": [],
   "source": [
    "type JaynesCummings\n",
    "    N::Int\n",
    "    wc::Float64\n",
    "    wa::Float64\n",
    "    g::Float64\n",
    "    kappa::Float64\n",
    "    gamma::Float64\n",
    "    use_rwa::Bool\n",
    "    tlist\n",
    "end"
   ]
  },
  {
   "cell_type": "code",
   "execution_count": 4,
   "metadata": {
    "collapsed": false
   },
   "outputs": [
    {
     "data": {
      "text/plain": [
       "string (generic function with 9 methods)"
      ]
     },
     "execution_count": 4,
     "metadata": {},
     "output_type": "execute_result"
    }
   ],
   "source": [
    "Base.string{Alg}(::SampleProc{Alg}) = lowercase(string(Alg))"
   ]
  },
  {
   "cell_type": "code",
   "execution_count": 5,
   "metadata": {
    "collapsed": false
   },
   "outputs": [
    {
     "data": {
      "text/plain": [
       "isvalid (generic function with 23 methods)"
      ]
     },
     "execution_count": 5,
     "metadata": {},
     "output_type": "execute_result"
    }
   ],
   "source": [
    "Base.isvalid{Alg}(p::SampleProc{Alg}, cfg::JaynesCummings) = true"
   ]
  },
  {
   "cell_type": "code",
   "execution_count": 6,
   "metadata": {
    "collapsed": false
   },
   "outputs": [
    {
     "data": {
      "text/plain": [
       "operator_set (generic function with 1 method)"
      ]
     },
     "execution_count": 6,
     "metadata": {},
     "output_type": "execute_result"
    }
   ],
   "source": [
    "function operator_set(p::SampleProc, cfg::JaynesCummings)\n",
    "    idc = QuArray(eye(cfg.N))\n",
    "    ida = QuArray(eye(2))\n",
    "    a  = tensor(lowerop(cfg.N), ida)\n",
    "    sm = tensor(idc, lowerop(2))\n",
    "    if cfg.use_rwa\n",
    "        H = cfg.wc * a' * a + cfg.wa * sm' * sm + cfg.g * (a' * sm + a * sm')\n",
    "    else\n",
    "        H = cfg.wc * a' * a + cfg.wa * sm' * sm + cfg.g * (a' + a) * (sm + sm')\n",
    "    end\n",
    "    c_op_list = Array(QuBase.AbstractQuMatrix, 0)\n",
    "    n_th_a = 0.0\n",
    "    rate_1 = cfg.kappa * (1 + n_th_a)\n",
    "    if rate_1 > 0.0\n",
    "        push!(c_op_list, full(sqrt(rate_1) * a))\n",
    "    end\n",
    "    rate = cfg.kappa * n_th_a\n",
    "    if rate > 0.0\n",
    "        push!(c_op_list, full(sqrt(rate) * a'))\n",
    "    end\n",
    "    rate = cfg.gamma\n",
    "    if rate > 0.0\n",
    "        push!(c_op_list, full(sqrt(rate) * sm))\n",
    "    end\n",
    "    psi = complex(tensor(statevec(1, FiniteBasis(cfg.N)), statevec(2, FiniteBasis(2))))\n",
    "    return full(H), c_op_list, psi*psi', a*a'\n",
    "end"
   ]
  },
  {
   "cell_type": "code",
   "execution_count": 7,
   "metadata": {
    "collapsed": false
   },
   "outputs": [
    {
     "data": {
      "text/plain": [
       "start (generic function with 37 methods)"
      ]
     },
     "execution_count": 7,
     "metadata": {},
     "output_type": "execute_result"
    }
   ],
   "source": [
    "Base.start(p::SampleProc, cfg::JaynesCummings) = (operator_set(p, cfg))"
   ]
  },
  {
   "cell_type": "code",
   "execution_count": 8,
   "metadata": {
    "collapsed": false
   },
   "outputs": [
    {
     "data": {
      "text/plain": [
       "length (generic function with 50 methods)"
      ]
     },
     "execution_count": 8,
     "metadata": {},
     "output_type": "execute_result"
    }
   ],
   "source": [
    "Base.length(p::SampleProc, cfg::JaynesCummings) = cfg.N"
   ]
  },
  {
   "cell_type": "code",
   "execution_count": 9,
   "metadata": {
    "collapsed": false
   },
   "outputs": [
    {
     "data": {
      "text/plain": [
       "run (generic function with 4 methods)"
      ]
     },
     "execution_count": 9,
     "metadata": {},
     "output_type": "execute_result"
    }
   ],
   "source": [
    "function Base.run{Alg}(p::SampleProc{Alg}, cfg::JaynesCummings, s::(QuBase.QuArray, Array, QuBase.QuArray, QuBase.QuArray))\n",
    "    qprop = QuPropagator(s[1], s[2], s[3], cfg.tlist, Alg())\n",
    "    for (t, psi) in qprop\n",
    "        trace(coeffs(psi*(s[4])))\n",
    "    end\n",
    "end"
   ]
  },
  {
   "cell_type": "code",
   "execution_count": 10,
   "metadata": {
    "collapsed": false
   },
   "outputs": [
    {
     "data": {
      "text/plain": [
       "done (generic function with 40 methods)"
      ]
     },
     "execution_count": 10,
     "metadata": {},
     "output_type": "execute_result"
    }
   ],
   "source": [
    "Base.done(p::SampleProc, cfg, s) = nothing"
   ]
  },
  {
   "cell_type": "code",
   "execution_count": 11,
   "metadata": {
    "collapsed": false
   },
   "outputs": [
    {
     "data": {
      "text/plain": [
       "2-element Array{Proc,1}:\n",
       " SampleProc{QuODE45}()\n",
       " SampleProc{QuODE78}()"
      ]
     },
     "execution_count": 11,
     "metadata": {},
     "output_type": "execute_result"
    }
   ],
   "source": [
    "procs = Proc[ SampleProc{QuODE45}(),\n",
    "    SampleProc{QuODE78}()]\n",
    "              #SampleProc{QuODE23s}()]"
   ]
  },
  {
   "cell_type": "code",
   "execution_count": 12,
   "metadata": {
    "collapsed": false
   },
   "outputs": [
    {
     "data": {
      "text/plain": [
       "12-element Array{JaynesCummings,1}:\n",
       " JaynesCummings(10,6.283185307179586,6.283185307179586,0.3141592653589793,0.05,0.15,true,0.0:0.1:6.2)                  \n",
       " JaynesCummings(20,6.283185307179586,6.283185307179586,0.3141592653589793,0.05,0.15,true,0.0:0.1:6.2)                  \n",
       " JaynesCummings(25,6.283185307179586,6.283185307179586,0.3141592653589793,0.05,0.15,true,0.0:0.1:6.2)                  \n",
       " JaynesCummings(10,6.283185307179586,6.283185307179586,0.3141592653589793,0.05,0.15,false,0.0:0.1:6.2)                 \n",
       " JaynesCummings(20,6.283185307179586,6.283185307179586,0.3141592653589793,0.05,0.15,false,0.0:0.1:6.2)                 \n",
       " JaynesCummings(25,6.283185307179586,6.283185307179586,0.3141592653589793,0.05,0.15,false,0.0:0.1:6.2)                 \n",
       " JaynesCummings(10,6.283185307179586,6.283185307179586,0.3141592653589793,0.05,0.15,true,0.0:0.1:6.2)                  \n",
       " JaynesCummings(20,6.283185307179586,6.283185307179586,0.3141592653589793,0.05,0.15,true,0.0:0.20134228187919462:30.0) \n",
       " JaynesCummings(25,6.283185307179586,6.283185307179586,0.3141592653589793,0.05,0.15,true,0.0:0.20134228187919462:30.0) \n",
       " JaynesCummings(10,6.283185307179586,6.283185307179586,0.3141592653589793,0.05,0.15,false,0.0:0.20134228187919462:30.0)\n",
       " JaynesCummings(20,6.283185307179586,6.283185307179586,0.3141592653589793,0.05,0.15,false,0.0:0.20134228187919462:30.0)\n",
       " JaynesCummings(25,6.283185307179586,6.283185307179586,0.3141592653589793,0.05,0.15,false,0.0:0.20134228187919462:30.0)"
      ]
     },
     "execution_count": 12,
     "metadata": {},
     "output_type": "execute_result"
    }
   ],
   "source": [
    "# Setting up various configurations.\n",
    "cfgs = JaynesCummings[JaynesCummings(10, 1.0 * 2 * pi, 1.0 * 2 * pi, 0.05 * 2 * pi, 0.05, 0.15, true, 0.:0.1:2*pi),\n",
    "                      JaynesCummings(20, 1.0 * 2 * pi, 1.0 * 2 * pi, 0.05 * 2 * pi, 0.05, 0.15, true, 0.:0.1:2*pi),\n",
    "                      JaynesCummings(25, 1.0 * 2 * pi, 1.0 * 2 * pi, 0.05 * 2 * pi, 0.05, 0.15, true, 0.:0.1:2*pi),\n",
    "                      JaynesCummings(10, 1.0 * 2 * pi, 1.0 * 2 * pi, 0.05 * 2 * pi, 0.05, 0.15, false, 0.:0.1:2*pi),\n",
    "                      JaynesCummings(20, 1.0 * 2 * pi, 1.0 * 2 * pi, 0.05 * 2 * pi, 0.05, 0.15, false, 0.:0.1:2*pi),\n",
    "                      JaynesCummings(25, 1.0 * 2 * pi, 1.0 * 2 * pi, 0.05 * 2 * pi, 0.05, 0.15, false, 0.:0.1:2*pi),\n",
    "                      JaynesCummings(10, 1.0 * 2 * pi, 1.0 * 2 * pi, 0.05 * 2 * pi, 0.05, 0.15, true, 0.:0.1:2*pi),\n",
    "                      JaynesCummings(20, 1.0 * 2 * pi, 1.0 * 2 * pi, 0.05 * 2 * pi, 0.05, 0.15, true, 0.0:0.20134228187919462:30.0),\n",
    "                      JaynesCummings(25, 1.0 * 2 * pi, 1.0 * 2 * pi, 0.05 * 2 * pi, 0.05, 0.15, true, 0.0:0.20134228187919462:30.0),\n",
    "                      JaynesCummings(10, 1.0 * 2 * pi, 1.0 * 2 * pi, 0.05 * 2 * pi, 0.05, 0.15, false, 0.0:0.20134228187919462:30.0),\n",
    "                      JaynesCummings(20, 1.0 * 2 * pi, 1.0 * 2 * pi, 0.05 * 2 * pi, 0.05, 0.15, false, 0.0:0.20134228187919462:30.0),\n",
    "                      JaynesCummings(25, 1.0 * 2 * pi, 1.0 * 2 * pi, 0.05 * 2 * pi, 0.05, 0.15, false, 0.0:0.20134228187919462:30.0)]"
   ]
  },
  {
   "cell_type": "code",
   "execution_count": 13,
   "metadata": {
    "collapsed": false
   },
   "outputs": [
    {
     "name": "stdout",
     "output_type": "stream",
     "text": [
      "Benchmarking quode45 ...\n",
      "  quode45 with cfg = JaynesCummings(10,6.283185307179586,6.283185307179586,0.3141592653589793,0.05,0.15,true,0.0:0.1:6.2): nruns = 1, elapsed = 1.199259569 secs\n",
      "  quode45 with cfg = JaynesCummings(20,6.283185307179586,6.283185307179586,0.3141592653589793,0.05,0.15,true,0.0:0.1:6.2): nruns = 1, elapsed = 15.079075285 secs\n",
      "  quode45 with cfg = JaynesCummings(25,6.283185307179586,6.283185307179586,0.3141592653589793,0.05,0.15,true,0.0:0.1:6.2): nruns = 1, elapsed = 37.352996067 secs\n",
      "  quode45 with cfg = JaynesCummings(10,6.283185307179586,6.283185307179586,0.3141592653589793,0.05,0.15,false,0.0:0.1:6.2): nruns = 1, elapsed = 1.271385419 secs\n",
      "  quode45 with cfg = JaynesCummings(20,6.283185307179586,6.283185307179586,0.3141592653589793,0.05,0.15,false,0.0:0.1:6.2): nruns = 1, elapsed = 15.968748824 secs\n",
      "  quode45 with cfg = JaynesCummings(25,6.283185307179586,6.283185307179586,0.3141592653589793,0.05,0.15,false,0.0:0.1:6.2): nruns = 1, elapsed = 37.454434475 secs\n",
      "  quode45 with cfg = JaynesCummings(10,6.283185307179586,6.283185307179586,0.3141592653589793,0.05,0.15,true,0.0:0.1:6.2): nruns = 1, elapsed = 1.239256162 secs\n",
      "  quode45 with cfg = JaynesCummings(20,6.283185307179586,6.283185307179586,0.3141592653589793,0.05,0.15,true,0.0:0.20134228187919462:30.0): nruns = 1, elapsed = 16.049759828 secs\n",
      "  quode45 with cfg = JaynesCummings(25,6.283185307179586,6.283185307179586,0.3141592653589793,0.05,0.15,true,0.0:0.20134228187919462:30.0): nruns = 1, elapsed = 37.467688039 secs\n",
      "  quode45 with cfg = JaynesCummings(10,6.283185307179586,6.283185307179586,0.3141592653589793,0.05,0.15,false,0.0:0.20134228187919462:30.0): nruns = 1, elapsed = 2.140006711 secs\n",
      "  quode45 with cfg = JaynesCummings(20,6.283185307179586,6.283185307179586,0.3141592653589793,0.05,0.15,false,0.0:0.20134228187919462:30.0): nruns = 1, elapsed = 19.002007395 secs\n",
      "  quode45 with cfg = JaynesCummings(25,6.283185307179586,6.283185307179586,0.3141592653589793,0.05,0.15,false,0.0:0.20134228187919462:30.0): nruns = 1, elapsed = 43.506678337 secs\n",
      "Benchmarking quode78 ...\n",
      "  quode78 with cfg = JaynesCummings(10,6.283185307179586,6.283185307179586,0.3141592653589793,0.05,0.15,true,0.0:0.1:6.2): nruns = 1, elapsed = 1.246596269 secs\n",
      "  quode78 with cfg = JaynesCummings(20,6.283185307179586,6.283185307179586,0.3141592653589793,0.05,0.15,true,0.0:0.1:6.2): nruns = 1, elapsed = 15.447859969 secs\n",
      "  quode78 with cfg = JaynesCummings(25,6.283185307179586,6.283185307179586,0.3141592653589793,0.05,0.15,true,0.0:0.1:6.2): nruns = 1, elapsed = 39.022581457 secs\n",
      "  quode78 with cfg = JaynesCummings(10,6.283185307179586,6.283185307179586,0.3141592653589793,0.05,0.15,false,0.0:0.1:6.2): nruns = 1, elapsed = 1.389330453 secs\n",
      "  quode78 with cfg = JaynesCummings(20,6.283185307179586,6.283185307179586,0.3141592653589793,0.05,0.15,false,0.0:0.1:6.2): nruns = 1, elapsed = 16.503852696 secs\n",
      "  quode78 with cfg = JaynesCummings(25,6.283185307179586,6.283185307179586,0.3141592653589793,0.05,0.15,false,0.0:0.1:6.2): nruns = 1, elapsed = 39.44063998 secs\n",
      "  quode78 with cfg = JaynesCummings(10,6.283185307179586,6.283185307179586,0.3141592653589793,0.05,0.15,true,0.0:0.1:6.2): nruns = 1, elapsed = 1.311724624 secs\n",
      "  quode78 with cfg = JaynesCummings(20,6.283185307179586,6.283185307179586,0.3141592653589793,0.05,0.15,true,0.0:0.20134228187919462:30.0): nruns = 1, elapsed = 16.638860192 secs\n",
      "  quode78 with cfg = JaynesCummings(25,6.283185307179586,6.283185307179586,0.3141592653589793,0.05,0.15,true,0.0:0.20134228187919462:30.0): nruns = 1, elapsed = 39.073794508 secs\n",
      "  quode78 with cfg = JaynesCummings(10,6.283185307179586,6.283185307179586,0.3141592653589793,0.05,0.15,false,0.0:0.20134228187919462:30.0): nruns = 1, elapsed = 2.127638689 secs\n",
      "  quode78 with cfg = JaynesCummings(20,6.283185307179586,6.283185307179586,0.3141592653589793,0.05,0.15,false,0.0:0.20134228187919462:30.0): nruns = 1, elapsed = 19.10472796 secs\n",
      "  quode78 with cfg = JaynesCummings(25,6.283185307179586,6.283185307179586,0.3141592653589793,0.05,0.15,false,0.0:0.20134228187919462:30.0): nruns = 1, elapsed = 44.099643838 secs\n"
     ]
    },
    {
     "data": {
      "text/plain": [
       "BenchmarkTable [unit = sec]\n",
       "config                                                                                                                 |  quode45  quode78  \n",
       "--------------------------------------------------------------------------------------------------------------------------------------------\n",
       "JaynesCummings(10,6.283185307179586,6.283185307179586,0.3141592653589793,0.05,0.15,true,0.0:0.1:6.2)                   |   1.1993   1.2466  \n",
       "JaynesCummings(20,6.283185307179586,6.283185307179586,0.3141592653589793,0.05,0.15,true,0.0:0.1:6.2)                   |  15.0791  15.4479  \n",
       "JaynesCummings(25,6.283185307179586,6.283185307179586,0.3141592653589793,0.05,0.15,true,0.0:0.1:6.2)                   |  37.3530  39.0226  \n",
       "JaynesCummings(10,6.283185307179586,6.283185307179586,0.3141592653589793,0.05,0.15,false,0.0:0.1:6.2)                  |   1.2714   1.3893  \n",
       "JaynesCummings(20,6.283185307179586,6.283185307179586,0.3141592653589793,0.05,0.15,false,0.0:0.1:6.2)                  |  15.9687  16.5039  \n",
       "JaynesCummings(25,6.283185307179586,6.283185307179586,0.3141592653589793,0.05,0.15,false,0.0:0.1:6.2)                  |  37.4544  39.4406  \n",
       "JaynesCummings(10,6.283185307179586,6.283185307179586,0.3141592653589793,0.05,0.15,true,0.0:0.1:6.2)                   |   1.2393   1.3117  \n",
       "JaynesCummings(20,6.283185307179586,6.283185307179586,0.3141592653589793,0.05,0.15,true,0.0:0.20134228187919462:30.0)  |  16.0498  16.6389  \n",
       "JaynesCummings(25,6.283185307179586,6.283185307179586,0.3141592653589793,0.05,0.15,true,0.0:0.20134228187919462:30.0)  |  37.4677  39.0738  \n",
       "JaynesCummings(10,6.283185307179586,6.283185307179586,0.3141592653589793,0.05,0.15,false,0.0:0.20134228187919462:30.0) |   2.1400   2.1276  \n",
       "JaynesCummings(20,6.283185307179586,6.283185307179586,0.3141592653589793,0.05,0.15,false,0.0:0.20134228187919462:30.0) |  19.0020  19.1047  \n",
       "JaynesCummings(25,6.283185307179586,6.283185307179586,0.3141592653589793,0.05,0.15,false,0.0:0.20134228187919462:30.0) |  43.5067  44.0996  \n"
      ]
     },
     "execution_count": 13,
     "metadata": {},
     "output_type": "execute_result"
    }
   ],
   "source": [
    "rtable = run(procs, cfgs)"
   ]
  },
  {
   "cell_type": "code",
   "execution_count": 14,
   "metadata": {
    "collapsed": false
   },
   "outputs": [
    {
     "name": "stdout",
     "output_type": "stream",
     "text": [
      "BenchmarkTable [unit = sec]\n",
      "config                                                                                                                 |  quode45  quode78  \n",
      "--------------------------------------------------------------------------------------------------------------------------------------------\n",
      "JaynesCummings(10,6.283185307179586,6.283185307179586,0.3141592653589793,0.05,0.15,true,0.0:0.1:6.2)                   |   1.2755   1.2936  \n",
      "JaynesCummings(20,6.283185307179586,6.283185307179586,0.3141592653589793,0.05,0.15,true,0.0:0.1:6.2)                   |  16.6184  15.9934  \n",
      "JaynesCummings(25,6.283185307179586,6.283185307179586,0.3141592653589793,0.05,0.15,true,0.0:0.1:6.2)                   |  41.0333  42.1298  \n",
      "JaynesCummings(10,6.283185307179586,6.283185307179586,0.3141592653589793,0.05,0.15,false,0.0:0.1:6.2)                  |   1.4147   1.7614  \n",
      "JaynesCummings(20,6.283185307179586,6.283185307179586,0.3141592653589793,0.05,0.15,false,0.0:0.1:6.2)                  |  17.6981  18.8279  \n",
      "JaynesCummings(25,6.283185307179586,6.283185307179586,0.3141592653589793,0.05,0.15,false,0.0:0.1:6.2)                  |  42.5086  43.5696  \n",
      "JaynesCummings(10,6.283185307179586,6.283185307179586,0.3141592653589793,0.05,0.15,true,0.0:0.1:6.2)                   |   1.4493   1.4888  \n",
      "JaynesCummings(20,6.283185307179586,6.283185307179586,0.3141592653589793,0.05,0.15,true,0.0:0.20134228187919462:30.0)  |  17.6322  19.1908  \n",
      "JaynesCummings(25,6.283185307179586,6.283185307179586,0.3141592653589793,0.05,0.15,true,0.0:0.20134228187919462:30.0)  |  39.9914  44.1856  \n",
      "JaynesCummings(10,6.283185307179586,6.283185307179586,0.3141592653589793,0.05,0.15,false,0.0:0.20134228187919462:30.0) |   2.3563   2.8732  \n",
      "JaynesCummings(20,6.283185307179586,6.283185307179586,0.3141592653589793,0.05,0.15,false,0.0:0.20134228187919462:30.0) |  21.6119  24.2792  \n",
      "JaynesCummings(25,6.283185307179586,6.283185307179586,0.3141592653589793,0.05,0.15,false,0.0:0.20134228187919462:30.0) |  49.3465  55.6901  \n"
     ]
    }
   ],
   "source": [
    "show(rtable)"
   ]
  },
  {
   "cell_type": "code",
   "execution_count": 14,
   "metadata": {
    "collapsed": false
   },
   "outputs": [
    {
     "name": "stdout",
     "output_type": "stream",
     "text": [
      "BenchmarkTable [unit = sec]\n",
      "config                                                                                                                 |  quode45  quode78  \n",
      "--------------------------------------------------------------------------------------------------------------------------------------------\n",
      "JaynesCummings(10,6.283185307179586,6.283185307179586,0.3141592653589793,0.05,0.15,true,0.0:0.1:6.2)                   |   1.1993   1.2466  \n",
      "JaynesCummings(20,6.283185307179586,6.283185307179586,0.3141592653589793,0.05,0.15,true,0.0:0.1:6.2)                   |  15.0791  15.4479  \n",
      "JaynesCummings(25,6.283185307179586,6.283185307179586,0.3141592653589793,0.05,0.15,true,0.0:0.1:6.2)                   |  37.3530  39.0226  \n",
      "JaynesCummings(10,6.283185307179586,6.283185307179586,0.3141592653589793,0.05,0.15,false,0.0:0.1:6.2)                  |   1.2714   1.3893  \n",
      "JaynesCummings(20,6.283185307179586,6.283185307179586,0.3141592653589793,0.05,0.15,false,0.0:0.1:6.2)                  |  15.9687  16.5039  \n",
      "JaynesCummings(25,6.283185307179586,6.283185307179586,0.3141592653589793,0.05,0.15,false,0.0:0.1:6.2)                  |  37.4544  39.4406  \n",
      "JaynesCummings(10,6.283185307179586,6.283185307179586,0.3141592653589793,0.05,0.15,true,0.0:0.1:6.2)                   |   1.2393   1.3117  \n",
      "JaynesCummings(20,6.283185307179586,6.283185307179586,0.3141592653589793,0.05,0.15,true,0.0:0.20134228187919462:30.0)  |  16.0498  16.6389  \n",
      "JaynesCummings(25,6.283185307179586,6.283185307179586,0.3141592653589793,0.05,0.15,true,0.0:0.20134228187919462:30.0)  |  37.4677  39.0738  \n",
      "JaynesCummings(10,6.283185307179586,6.283185307179586,0.3141592653589793,0.05,0.15,false,0.0:0.20134228187919462:30.0) |   2.1400   2.1276  \n",
      "JaynesCummings(20,6.283185307179586,6.283185307179586,0.3141592653589793,0.05,0.15,false,0.0:0.20134228187919462:30.0) |  19.0020  19.1047  \n",
      "JaynesCummings(25,6.283185307179586,6.283185307179586,0.3141592653589793,0.05,0.15,false,0.0:0.20134228187919462:30.0) |  43.5067  44.0996  \n"
     ]
    }
   ],
   "source": [
    "show(rtable)"
   ]
  },
  {
   "cell_type": "code",
   "execution_count": null,
   "metadata": {
    "collapsed": true
   },
   "outputs": [],
   "source": []
  }
 ],
 "metadata": {
  "kernelspec": {
   "display_name": "Julia 0.3.7",
   "language": "julia",
   "name": "julia-0.3"
  },
  "language_info": {
   "file_extension": ".jl",
   "mimetype": "application/julia",
   "name": "julia",
   "version": "0.3.7"
  }
 },
 "nbformat": 4,
 "nbformat_minor": 0
}

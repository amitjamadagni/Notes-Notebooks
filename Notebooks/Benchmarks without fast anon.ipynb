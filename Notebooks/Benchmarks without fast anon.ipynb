{
 "cells": [
  {
   "cell_type": "code",
   "execution_count": 1,
   "metadata": {
    "collapsed": true
   },
   "outputs": [],
   "source": [
    "require(\"/home/amit/Downloads/SemVII/QuBase.jl/src/QuBase.jl\")\n",
    "using QuBase\n",
    "require(\"/home/amit/Downloads/SemVII/QuDynamics.jl/src/QuDynamics.jl\")\n",
    "using QuDynamics\n",
    "using BenchmarkLite"
   ]
  },
  {
   "cell_type": "code",
   "execution_count": 2,
   "metadata": {
    "collapsed": false
   },
   "outputs": [
    {
     "name": "stderr",
     "output_type": "stream",
     "text": [
      "Warning: imported binding for require overwritten in module Main\n"
     ]
    },
    {
     "data": {
      "text/plain": [
       "4-element Array{Union(UTF8String,ASCIIString),1}:\n",
       " \"julia 0.3\\n\"\n",
       " \"Compat\\n\"   \n",
       " \"Docile\\n\"   \n",
       " \"ODE 0.2.1\\n\""
      ]
     },
     "execution_count": 2,
     "metadata": {},
     "output_type": "execute_result"
    }
   ],
   "source": [
    "require = \"/home/amit/Downloads/SemVII/QuDynamics.jl/REQUIRE\"\n",
    "open(readlines, require)"
   ]
  },
  {
   "cell_type": "code",
   "execution_count": 3,
   "metadata": {
    "collapsed": true
   },
   "outputs": [],
   "source": [
    "type SampleProc{Alg} <: Proc end"
   ]
  },
  {
   "cell_type": "code",
   "execution_count": 4,
   "metadata": {
    "collapsed": true
   },
   "outputs": [],
   "source": [
    "type JaynesCummings\n",
    "    N::Int\n",
    "    wc::Float64\n",
    "    wa::Float64\n",
    "    g::Float64\n",
    "    kappa::Float64\n",
    "    gamma::Float64\n",
    "    use_rwa::Bool\n",
    "    tlist\n",
    "end"
   ]
  },
  {
   "cell_type": "code",
   "execution_count": 5,
   "metadata": {
    "collapsed": false
   },
   "outputs": [
    {
     "data": {
      "text/plain": [
       "string (generic function with 9 methods)"
      ]
     },
     "execution_count": 5,
     "metadata": {},
     "output_type": "execute_result"
    }
   ],
   "source": [
    "Base.string{Alg}(::SampleProc{Alg}) = lowercase(string(Alg))"
   ]
  },
  {
   "cell_type": "code",
   "execution_count": 6,
   "metadata": {
    "collapsed": false
   },
   "outputs": [
    {
     "data": {
      "text/plain": [
       "isvalid (generic function with 23 methods)"
      ]
     },
     "execution_count": 6,
     "metadata": {},
     "output_type": "execute_result"
    }
   ],
   "source": [
    "Base.isvalid{Alg}(p::SampleProc{Alg}, cfg::JaynesCummings) = true"
   ]
  },
  {
   "cell_type": "code",
   "execution_count": 7,
   "metadata": {
    "collapsed": false
   },
   "outputs": [
    {
     "data": {
      "text/plain": [
       "operator_set (generic function with 1 method)"
      ]
     },
     "execution_count": 7,
     "metadata": {},
     "output_type": "execute_result"
    }
   ],
   "source": [
    "function operator_set(p::SampleProc, cfg::JaynesCummings)\n",
    "    idc = QuArray(eye(cfg.N))\n",
    "    ida = QuArray(eye(2))\n",
    "    a  = tensor(lowerop(cfg.N), ida)\n",
    "    sm = tensor(idc, lowerop(2))\n",
    "    if cfg.use_rwa\n",
    "        H = cfg.wc * a' * a + cfg.wa * sm' * sm + cfg.g * (a' * sm + a * sm')\n",
    "    else\n",
    "        H = cfg.wc * a' * a + cfg.wa * sm' * sm + cfg.g * (a' + a) * (sm + sm')\n",
    "    end\n",
    "    c_op_list = Array(QuBase.AbstractQuMatrix, 0)\n",
    "    n_th_a = 0.0\n",
    "    rate_1 = cfg.kappa * (1 + n_th_a)\n",
    "    if rate_1 > 0.0\n",
    "        push!(c_op_list, full(sqrt(rate_1) * a))\n",
    "    end\n",
    "    rate = cfg.kappa * n_th_a\n",
    "    if rate > 0.0\n",
    "        push!(c_op_list, full(sqrt(rate) * a'))\n",
    "    end\n",
    "    rate = cfg.gamma\n",
    "    if rate > 0.0\n",
    "        push!(c_op_list, full(sqrt(rate) * sm))\n",
    "    end\n",
    "    psi = complex(tensor(statevec(1, FiniteBasis(cfg.N)), statevec(2, FiniteBasis(2))))\n",
    "    return full(H), c_op_list, psi*psi', a*a'\n",
    "end"
   ]
  },
  {
   "cell_type": "code",
   "execution_count": 8,
   "metadata": {
    "collapsed": false
   },
   "outputs": [
    {
     "data": {
      "text/plain": [
       "start (generic function with 37 methods)"
      ]
     },
     "execution_count": 8,
     "metadata": {},
     "output_type": "execute_result"
    }
   ],
   "source": [
    "Base.start(p::SampleProc, cfg::JaynesCummings) = (operator_set(p, cfg))"
   ]
  },
  {
   "cell_type": "code",
   "execution_count": 9,
   "metadata": {
    "collapsed": false
   },
   "outputs": [
    {
     "data": {
      "text/plain": [
       "length (generic function with 50 methods)"
      ]
     },
     "execution_count": 9,
     "metadata": {},
     "output_type": "execute_result"
    }
   ],
   "source": [
    "Base.length(p::SampleProc, cfg::JaynesCummings) = cfg.N"
   ]
  },
  {
   "cell_type": "code",
   "execution_count": 10,
   "metadata": {
    "collapsed": false
   },
   "outputs": [
    {
     "data": {
      "text/plain": [
       "run (generic function with 4 methods)"
      ]
     },
     "execution_count": 10,
     "metadata": {},
     "output_type": "execute_result"
    }
   ],
   "source": [
    "function Base.run{Alg}(p::SampleProc{Alg}, cfg::JaynesCummings, s::(QuBase.QuArray, Array, QuBase.QuArray, QuBase.QuArray))\n",
    "    qprop = QuPropagator(s[1], s[2], s[3], cfg.tlist, Alg())\n",
    "    for (t, psi) in qprop\n",
    "        trace(coeffs(psi*(s[4])))\n",
    "    end\n",
    "end"
   ]
  },
  {
   "cell_type": "code",
   "execution_count": 11,
   "metadata": {
    "collapsed": false
   },
   "outputs": [
    {
     "data": {
      "text/plain": [
       "done (generic function with 40 methods)"
      ]
     },
     "execution_count": 11,
     "metadata": {},
     "output_type": "execute_result"
    }
   ],
   "source": [
    "Base.done(p::SampleProc, cfg, s) = nothing"
   ]
  },
  {
   "cell_type": "code",
   "execution_count": 12,
   "metadata": {
    "collapsed": false
   },
   "outputs": [
    {
     "data": {
      "text/plain": [
       "2-element Array{Proc,1}:\n",
       " SampleProc{QuODE45}()\n",
       " SampleProc{QuODE78}()"
      ]
     },
     "execution_count": 12,
     "metadata": {},
     "output_type": "execute_result"
    }
   ],
   "source": [
    "procs = Proc[ SampleProc{QuODE45}(),\n",
    "    SampleProc{QuODE78}()]\n",
    "              #SampleProc{QuODE23s}()]"
   ]
  },
  {
   "cell_type": "code",
   "execution_count": 13,
   "metadata": {
    "collapsed": false
   },
   "outputs": [
    {
     "data": {
      "text/plain": [
       "7-element Array{JaynesCummings,1}:\n",
       " JaynesCummings(2,6.283185307179586,6.283185307179586,0.3141592653589793,0.05,0.15,true,0.0:0.1:6.2) \n",
       " JaynesCummings(3,6.283185307179586,6.283185307179586,0.3141592653589793,0.05,0.15,true,0.0:0.1:6.2) \n",
       " JaynesCummings(6,6.283185307179586,6.283185307179586,0.3141592653589793,0.05,0.15,true,0.0:0.1:6.2) \n",
       " JaynesCummings(10,6.283185307179586,6.283185307179586,0.3141592653589793,0.05,0.15,true,0.0:0.1:6.2)\n",
       " JaynesCummings(15,6.283185307179586,6.283185307179586,0.3141592653589793,0.05,0.15,true,0.0:0.1:6.2)\n",
       " JaynesCummings(20,6.283185307179586,6.283185307179586,0.3141592653589793,0.05,0.15,true,0.0:0.1:6.2)\n",
       " JaynesCummings(25,6.283185307179586,6.283185307179586,0.3141592653589793,0.05,0.15,true,0.0:0.1:6.2)"
      ]
     },
     "execution_count": 13,
     "metadata": {},
     "output_type": "execute_result"
    }
   ],
   "source": [
    "# Setting up various configurations.\n",
    "cfgs = JaynesCummings[JaynesCummings(2, 1.0 * 2 * pi, 1.0 * 2 * pi, 0.05 * 2 * pi, 0.05, 0.15, true, 0.:0.1:2*pi),\n",
    "                      JaynesCummings(3, 1.0 * 2 * pi, 1.0 * 2 * pi, 0.05 * 2 * pi, 0.05, 0.15, true, 0.:0.1:2*pi),\n",
    "                      JaynesCummings(6, 1.0 * 2 * pi, 1.0 * 2 * pi, 0.05 * 2 * pi, 0.05, 0.15, true, 0.:0.1:2*pi),\n",
    "                      JaynesCummings(10, 1.0 * 2 * pi, 1.0 * 2 * pi, 0.05 * 2 * pi, 0.05, 0.15, true, 0.:0.1:2*pi),\n",
    "                      JaynesCummings(15, 1.0 * 2 * pi, 1.0 * 2 * pi, 0.05 * 2 * pi, 0.05, 0.15, true, 0.:0.1:2*pi),\n",
    "                      JaynesCummings(20, 1.0 * 2 * pi, 1.0 * 2 * pi, 0.05 * 2 * pi, 0.05, 0.15, true, 0.:0.1:2*pi),\n",
    "                      JaynesCummings(25, 1.0 * 2 * pi, 1.0 * 2 * pi, 0.05 * 2 * pi, 0.05, 0.15, true, 0.:0.1:2*pi)\n",
    "                     ]"
   ]
  },
  {
   "cell_type": "code",
   "execution_count": 14,
   "metadata": {
    "collapsed": false
   },
   "outputs": [
    {
     "name": "stdout",
     "output_type": "stream",
     "text": [
      "Benchmarking quode45 ...\n",
      "  quode45 with cfg = JaynesCummings(2,6.283185307179586,6.283185307179586,0.3141592653589793,0.05,0.15,true,0.0:0.1:6.2): nruns = 194, elapsed = 1.414678062 secs\n",
      "  quode45 with cfg = JaynesCummings(3,6.283185307179586,6.283185307179586,0.3141592653589793,0.05,0.15,true,0.0:0.1:6.2): nruns = 26, elapsed = 0.564980925 secs\n",
      "  quode45 with cfg = JaynesCummings(6,6.283185307179586,6.283185307179586,0.3141592653589793,0.05,0.15,true,0.0:0.1:6.2): nruns = 6, elapsed = 1.043979238 secs\n",
      "  quode45 with cfg = JaynesCummings(10,6.283185307179586,6.283185307179586,0.3141592653589793,0.05,0.15,true,0.0:0.1:6.2): nruns = 1, elapsed = 1.038602271 secs\n",
      "  quode45 with cfg = JaynesCummings(15,6.283185307179586,6.283185307179586,0.3141592653589793,0.05,0.15,true,0.0:0.1:6.2): nruns = 1, elapsed = 4.874277927 secs\n",
      "  quode45 with cfg = JaynesCummings(20,6.283185307179586,6.283185307179586,0.3141592653589793,0.05,0.15,true,0.0:0.1:6.2): nruns = 1, elapsed = 15.138853211 secs\n",
      "  quode45 with cfg = JaynesCummings(25,6.283185307179586,6.283185307179586,0.3141592653589793,0.05,0.15,true,0.0:0.1:6.2): nruns = 1, elapsed = 37.01355468 secs\n",
      "Benchmarking quode78 ...\n",
      "  quode78 with cfg = JaynesCummings(2,6.283185307179586,6.283185307179586,0.3141592653589793,0.05,0.15,true,0.0:0.1:6.2): nruns = 223, elapsed = 1.306101901 secs\n",
      "  quode78 with cfg = JaynesCummings(3,6.283185307179586,6.283185307179586,0.3141592653589793,0.05,0.15,true,0.0:0.1:6.2): nruns = 92, elapsed = 1.373675927 secs\n",
      "  quode78 with cfg = JaynesCummings(6,6.283185307179586,6.283185307179586,0.3141592653589793,0.05,0.15,true,0.0:0.1:6.2): nruns = 8, elapsed = 1.122781085 secs\n",
      "  quode78 with cfg = JaynesCummings(10,6.283185307179586,6.283185307179586,0.3141592653589793,0.05,0.15,true,0.0:0.1:6.2): nruns = 2, elapsed = 1.969228032 secs\n",
      "  quode78 with cfg = JaynesCummings(15,6.283185307179586,6.283185307179586,0.3141592653589793,0.05,0.15,true,0.0:0.1:6.2): nruns = 1, elapsed = 4.957143439 secs\n",
      "  quode78 with cfg = JaynesCummings(20,6.283185307179586,6.283185307179586,0.3141592653589793,0.05,0.15,true,0.0:0.1:6.2): nruns = 1, elapsed = 14.966613943 secs\n",
      "  quode78 with cfg = JaynesCummings(25,6.283185307179586,6.283185307179586,0.3141592653589793,0.05,0.15,true,0.0:0.1:6.2): nruns = 1, elapsed = 37.551608584 secs\n"
     ]
    },
    {
     "data": {
      "text/plain": [
       "BenchmarkTable [unit = sec]\n",
       "config                                                                                               |  quode45  quode78  \n",
       "--------------------------------------------------------------------------------------------------------------------------\n",
       "JaynesCummings(2,6.283185307179586,6.283185307179586,0.3141592653589793,0.05,0.15,true,0.0:0.1:6.2)  |   0.0073   0.0059  \n",
       "JaynesCummings(3,6.283185307179586,6.283185307179586,0.3141592653589793,0.05,0.15,true,0.0:0.1:6.2)  |   0.0217   0.0149  \n",
       "JaynesCummings(6,6.283185307179586,6.283185307179586,0.3141592653589793,0.05,0.15,true,0.0:0.1:6.2)  |   0.1740   0.1403  \n",
       "JaynesCummings(10,6.283185307179586,6.283185307179586,0.3141592653589793,0.05,0.15,true,0.0:0.1:6.2) |   1.0386   0.9846  \n",
       "JaynesCummings(15,6.283185307179586,6.283185307179586,0.3141592653589793,0.05,0.15,true,0.0:0.1:6.2) |   4.8743   4.9571  \n",
       "JaynesCummings(20,6.283185307179586,6.283185307179586,0.3141592653589793,0.05,0.15,true,0.0:0.1:6.2) |  15.1389  14.9666  \n",
       "JaynesCummings(25,6.283185307179586,6.283185307179586,0.3141592653589793,0.05,0.15,true,0.0:0.1:6.2) |  37.0136  37.5516  \n"
      ]
     },
     "execution_count": 14,
     "metadata": {},
     "output_type": "execute_result"
    }
   ],
   "source": [
    "rtable = run(procs, cfgs)"
   ]
  },
  {
   "cell_type": "code",
   "execution_count": 15,
   "metadata": {
    "collapsed": false
   },
   "outputs": [
    {
     "name": "stdout",
     "output_type": "stream",
     "text": [
      "BenchmarkTable [unit = sec]\n",
      "config                                                                                               |  quode45  quode78  \n",
      "--------------------------------------------------------------------------------------------------------------------------\n",
      "JaynesCummings(2,6.283185307179586,6.283185307179586,0.3141592653589793,0.05,0.15,true,0.0:0.1:6.2)  |   0.0073   0.0059  \n",
      "JaynesCummings(3,6.283185307179586,6.283185307179586,0.3141592653589793,0.05,0.15,true,0.0:0.1:6.2)  |   0.0217   0.0149  \n",
      "JaynesCummings(6,6.283185307179586,6.283185307179586,0.3141592653589793,0.05,0.15,true,0.0:0.1:6.2)  |   0.1740   0.1403  \n",
      "JaynesCummings(10,6.283185307179586,6.283185307179586,0.3141592653589793,0.05,0.15,true,0.0:0.1:6.2) |   1.0386   0.9846  \n",
      "JaynesCummings(15,6.283185307179586,6.283185307179586,0.3141592653589793,0.05,0.15,true,0.0:0.1:6.2) |   4.8743   4.9571  \n",
      "JaynesCummings(20,6.283185307179586,6.283185307179586,0.3141592653589793,0.05,0.15,true,0.0:0.1:6.2) |  15.1389  14.9666  \n",
      "JaynesCummings(25,6.283185307179586,6.283185307179586,0.3141592653589793,0.05,0.15,true,0.0:0.1:6.2) |  37.0136  37.5516  \n"
     ]
    }
   ],
   "source": [
    "show(rtable)"
   ]
  },
  {
   "cell_type": "code",
   "execution_count": null,
   "metadata": {
    "collapsed": true
   },
   "outputs": [],
   "source": []
  }
 ],
 "metadata": {
  "kernelspec": {
   "display_name": "Julia 0.3.7",
   "language": "julia",
   "name": "julia-0.3"
  },
  "language_info": {
   "file_extension": ".jl",
   "mimetype": "application/julia",
   "name": "julia",
   "version": "0.3.7"
  }
 },
 "nbformat": 4,
 "nbformat_minor": 0
}
